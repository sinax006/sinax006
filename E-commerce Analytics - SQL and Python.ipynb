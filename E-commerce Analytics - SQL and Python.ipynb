{
 "cells": [
  {
   "cell_type": "markdown",
   "id": "e2c0876a",
   "metadata": {},
   "source": [
    "# E-Commerce data: Context\n",
    "Data Set Information: The dataset consists of feature vectors belonging to 12,330 sessions.\n",
    "The dataset was formed so that each session would belong to a different user in a 1-year period to avoid\n",
    "any tendency to a specific campaign, special day, user profile, or period\n",
    "\n",
    "# Content :\n",
    "The dataset consists of 10 numerical and 8 categorical attributes.\n",
    "The 'Revenue' attribute can be used as the class label. \"Administrative\", \"Administrative Duration\", \"Informational\", \"Informational Duration\", \"Product Related\" and \"Product Related Duration\" represent the number of different types of pages visited by the visitor in that session and total time spent in each of these page categories. The values of these features are derived from the URL information of the pages visited by the user and updated in real time when a user takes an action, e.g. moving from one page to another. The \"Bounce Rate\", \"Exit Rate\" and \"Page Value\" features represent the metrics measured by \"Google Analytics\" for each page in the e-commerce site. The value of \"Bounce Rate\" feature for a web page refers to the percentage of visitors who enter the site from that page and then leave (\"bounce\") without triggering any other requests to the analytics server during that session. The value of \"Exit Rate\" feature for a specific web page is calculated as for all pageviews to the page, the percentage that were the last in the session. The \"Page Value\" feature represents the average value for a web page that a user visited before completing an e-commerce transaction. The \"Special Day\" feature indicates the closeness of the site visiting time to a specific special day (e.g. Mother’s Day, Valentine's Day) in which the sessions are more likely to be finalized with transaction. The value of this attribute is determined by considering the dynamics of e-commerce such as the duration between the order date and delivery date. For example, for Valentina’s day, this value takes a nonzero value between February 2 and February 12, zero before and after this date unless it is close to another special day, and its maximum value of 1 on February 8. The dataset also includes operating system, browser, region, traffic type, visitor type as returning or new visitor, a Boolean value indicating whether the date of the visit is weekend, and month of the year.\n",
    "\n",
    "# Acknoledgements :\n",
    "Sakar, C.O., Polat, S.O., Katircioglu, M. et al. Neural Comput & Applic (2018).\n",
    "\n"
   ]
  },
  {
   "cell_type": "code",
   "execution_count": 248,
   "id": "4490b4e6",
   "metadata": {},
   "outputs": [],
   "source": [
    "#Import libraries"
   ]
  },
  {
   "cell_type": "code",
   "execution_count": 249,
   "id": "fac2d5a2",
   "metadata": {},
   "outputs": [],
   "source": [
    "import pandas as pd \n",
    "import numpy as np\n",
    "import matplotlib.pyplot as plt"
   ]
  },
  {
   "cell_type": "code",
   "execution_count": 250,
   "id": "aaaa9a4e",
   "metadata": {},
   "outputs": [],
   "source": [
    "#SQL query implementation"
   ]
  },
  {
   "cell_type": "code",
   "execution_count": 251,
   "id": "625c9a90",
   "metadata": {},
   "outputs": [
    {
     "name": "stdout",
     "output_type": "stream",
     "text": [
      "Requirement already satisfied: pandas in ./opt/anaconda3/lib/python3.9/site-packages (1.3.4)\n",
      "Requirement already satisfied: pandasql in ./opt/anaconda3/lib/python3.9/site-packages (0.7.3)\n",
      "Requirement already satisfied: python-dateutil>=2.7.3 in ./opt/anaconda3/lib/python3.9/site-packages (from pandas) (2.8.2)\n",
      "Requirement already satisfied: pytz>=2017.3 in ./opt/anaconda3/lib/python3.9/site-packages (from pandas) (2021.3)\n",
      "Requirement already satisfied: numpy>=1.17.3 in ./opt/anaconda3/lib/python3.9/site-packages (from pandas) (1.20.3)\n",
      "Requirement already satisfied: sqlalchemy in ./opt/anaconda3/lib/python3.9/site-packages (from pandasql) (1.4.22)\n",
      "Requirement already satisfied: six>=1.5 in ./opt/anaconda3/lib/python3.9/site-packages (from python-dateutil>=2.7.3->pandas) (1.16.0)\n",
      "Requirement already satisfied: greenlet!=0.4.17 in ./opt/anaconda3/lib/python3.9/site-packages (from sqlalchemy->pandasql) (1.1.1)\n"
     ]
    }
   ],
   "source": [
    "!pip install pandas pandasql\n"
   ]
  },
  {
   "cell_type": "markdown",
   "id": "73a1217d",
   "metadata": {},
   "source": [
    "# STEP ONE - DATA CLEANING"
   ]
  },
  {
   "cell_type": "code",
   "execution_count": 252,
   "id": "f0b3afe9",
   "metadata": {},
   "outputs": [],
   "source": [
    "import pandas as pd\n",
    "from pandasql import sqldf"
   ]
  },
  {
   "cell_type": "code",
   "execution_count": 253,
   "id": "23648052",
   "metadata": {},
   "outputs": [],
   "source": [
    "#Load the dataset "
   ]
  },
  {
   "cell_type": "code",
   "execution_count": 254,
   "id": "9d481810",
   "metadata": {},
   "outputs": [],
   "source": [
    "df= pd.read_csv('Desktop/online_shoppers_intention 2.csv')"
   ]
  },
  {
   "cell_type": "code",
   "execution_count": 255,
   "id": "b2f567f7",
   "metadata": {},
   "outputs": [
    {
     "data": {
      "text/plain": [
       "Index(['Administrative', 'Administrative_Duration', 'Informational',\n",
       "       'Informational_Duration', 'ProductRelated', 'ProductRelated_Duration',\n",
       "       'BounceRates', 'ExitRates', 'PageValues', 'SpecialDay', 'Month',\n",
       "       'OperatingSystems', 'Browser', 'Region', 'TrafficType', 'VisitorType',\n",
       "       'Weekend', 'Revenue'],\n",
       "      dtype='object')"
      ]
     },
     "execution_count": 255,
     "metadata": {},
     "output_type": "execute_result"
    }
   ],
   "source": [
    "df.columns"
   ]
  },
  {
   "cell_type": "code",
   "execution_count": 256,
   "id": "eb96e1f8",
   "metadata": {},
   "outputs": [
    {
     "data": {
      "text/html": [
       "<div>\n",
       "<style scoped>\n",
       "    .dataframe tbody tr th:only-of-type {\n",
       "        vertical-align: middle;\n",
       "    }\n",
       "\n",
       "    .dataframe tbody tr th {\n",
       "        vertical-align: top;\n",
       "    }\n",
       "\n",
       "    .dataframe thead th {\n",
       "        text-align: right;\n",
       "    }\n",
       "</style>\n",
       "<table border=\"1\" class=\"dataframe\">\n",
       "  <thead>\n",
       "    <tr style=\"text-align: right;\">\n",
       "      <th></th>\n",
       "      <th>Administrative</th>\n",
       "      <th>Administrative_Duration</th>\n",
       "      <th>Informational</th>\n",
       "      <th>Informational_Duration</th>\n",
       "      <th>ProductRelated</th>\n",
       "      <th>ProductRelated_Duration</th>\n",
       "      <th>BounceRates</th>\n",
       "      <th>ExitRates</th>\n",
       "      <th>PageValues</th>\n",
       "      <th>SpecialDay</th>\n",
       "      <th>Month</th>\n",
       "      <th>OperatingSystems</th>\n",
       "      <th>Browser</th>\n",
       "      <th>Region</th>\n",
       "      <th>TrafficType</th>\n",
       "      <th>VisitorType</th>\n",
       "      <th>Weekend</th>\n",
       "      <th>Revenue</th>\n",
       "    </tr>\n",
       "  </thead>\n",
       "  <tbody>\n",
       "    <tr>\n",
       "      <th>0</th>\n",
       "      <td>0</td>\n",
       "      <td>0.0</td>\n",
       "      <td>0</td>\n",
       "      <td>0.0</td>\n",
       "      <td>1</td>\n",
       "      <td>0.000000</td>\n",
       "      <td>0.20</td>\n",
       "      <td>0.20</td>\n",
       "      <td>0.0</td>\n",
       "      <td>0.0</td>\n",
       "      <td>Feb</td>\n",
       "      <td>1</td>\n",
       "      <td>1</td>\n",
       "      <td>1</td>\n",
       "      <td>1</td>\n",
       "      <td>Returning_Visitor</td>\n",
       "      <td>False</td>\n",
       "      <td>False</td>\n",
       "    </tr>\n",
       "    <tr>\n",
       "      <th>1</th>\n",
       "      <td>0</td>\n",
       "      <td>0.0</td>\n",
       "      <td>0</td>\n",
       "      <td>0.0</td>\n",
       "      <td>2</td>\n",
       "      <td>64.000000</td>\n",
       "      <td>0.00</td>\n",
       "      <td>0.10</td>\n",
       "      <td>0.0</td>\n",
       "      <td>0.0</td>\n",
       "      <td>Feb</td>\n",
       "      <td>2</td>\n",
       "      <td>2</td>\n",
       "      <td>1</td>\n",
       "      <td>2</td>\n",
       "      <td>Returning_Visitor</td>\n",
       "      <td>False</td>\n",
       "      <td>False</td>\n",
       "    </tr>\n",
       "    <tr>\n",
       "      <th>2</th>\n",
       "      <td>0</td>\n",
       "      <td>0.0</td>\n",
       "      <td>0</td>\n",
       "      <td>0.0</td>\n",
       "      <td>1</td>\n",
       "      <td>0.000000</td>\n",
       "      <td>0.20</td>\n",
       "      <td>0.20</td>\n",
       "      <td>0.0</td>\n",
       "      <td>0.0</td>\n",
       "      <td>Feb</td>\n",
       "      <td>4</td>\n",
       "      <td>1</td>\n",
       "      <td>9</td>\n",
       "      <td>3</td>\n",
       "      <td>Returning_Visitor</td>\n",
       "      <td>False</td>\n",
       "      <td>False</td>\n",
       "    </tr>\n",
       "    <tr>\n",
       "      <th>3</th>\n",
       "      <td>0</td>\n",
       "      <td>0.0</td>\n",
       "      <td>0</td>\n",
       "      <td>0.0</td>\n",
       "      <td>2</td>\n",
       "      <td>2.666667</td>\n",
       "      <td>0.05</td>\n",
       "      <td>0.14</td>\n",
       "      <td>0.0</td>\n",
       "      <td>0.0</td>\n",
       "      <td>Feb</td>\n",
       "      <td>3</td>\n",
       "      <td>2</td>\n",
       "      <td>2</td>\n",
       "      <td>4</td>\n",
       "      <td>Returning_Visitor</td>\n",
       "      <td>False</td>\n",
       "      <td>False</td>\n",
       "    </tr>\n",
       "    <tr>\n",
       "      <th>4</th>\n",
       "      <td>0</td>\n",
       "      <td>0.0</td>\n",
       "      <td>0</td>\n",
       "      <td>0.0</td>\n",
       "      <td>10</td>\n",
       "      <td>627.500000</td>\n",
       "      <td>0.02</td>\n",
       "      <td>0.05</td>\n",
       "      <td>0.0</td>\n",
       "      <td>0.0</td>\n",
       "      <td>Feb</td>\n",
       "      <td>3</td>\n",
       "      <td>3</td>\n",
       "      <td>1</td>\n",
       "      <td>4</td>\n",
       "      <td>Returning_Visitor</td>\n",
       "      <td>True</td>\n",
       "      <td>False</td>\n",
       "    </tr>\n",
       "  </tbody>\n",
       "</table>\n",
       "</div>"
      ],
      "text/plain": [
       "   Administrative  Administrative_Duration  Informational  \\\n",
       "0               0                      0.0              0   \n",
       "1               0                      0.0              0   \n",
       "2               0                      0.0              0   \n",
       "3               0                      0.0              0   \n",
       "4               0                      0.0              0   \n",
       "\n",
       "   Informational_Duration  ProductRelated  ProductRelated_Duration  \\\n",
       "0                     0.0               1                 0.000000   \n",
       "1                     0.0               2                64.000000   \n",
       "2                     0.0               1                 0.000000   \n",
       "3                     0.0               2                 2.666667   \n",
       "4                     0.0              10               627.500000   \n",
       "\n",
       "   BounceRates  ExitRates  PageValues  SpecialDay Month  OperatingSystems  \\\n",
       "0         0.20       0.20         0.0         0.0   Feb                 1   \n",
       "1         0.00       0.10         0.0         0.0   Feb                 2   \n",
       "2         0.20       0.20         0.0         0.0   Feb                 4   \n",
       "3         0.05       0.14         0.0         0.0   Feb                 3   \n",
       "4         0.02       0.05         0.0         0.0   Feb                 3   \n",
       "\n",
       "   Browser  Region  TrafficType        VisitorType  Weekend  Revenue  \n",
       "0        1       1            1  Returning_Visitor    False    False  \n",
       "1        2       1            2  Returning_Visitor    False    False  \n",
       "2        1       9            3  Returning_Visitor    False    False  \n",
       "3        2       2            4  Returning_Visitor    False    False  \n",
       "4        3       1            4  Returning_Visitor     True    False  "
      ]
     },
     "execution_count": 256,
     "metadata": {},
     "output_type": "execute_result"
    }
   ],
   "source": [
    "df.head()"
   ]
  },
  {
   "cell_type": "code",
   "execution_count": 257,
   "id": "17a5d527",
   "metadata": {},
   "outputs": [],
   "source": [
    "#SQL Query testing"
   ]
  },
  {
   "cell_type": "code",
   "execution_count": 258,
   "id": "82c36261",
   "metadata": {},
   "outputs": [],
   "source": [
    "query = '''\n",
    "SELECT COUNT(Administrative) AS count_of_administrative\n",
    "FROM df\n",
    "WHERE Administrative_Duration = 0.0\n",
    "'''"
   ]
  },
  {
   "cell_type": "code",
   "execution_count": 259,
   "id": "d4f02039",
   "metadata": {},
   "outputs": [
    {
     "data": {
      "text/plain": [
       "'\\nSELECT COUNT(Administrative) AS count_of_administrative\\nFROM df\\nWHERE Administrative_Duration = 0.0\\n'"
      ]
     },
     "execution_count": 259,
     "metadata": {},
     "output_type": "execute_result"
    }
   ],
   "source": [
    "query"
   ]
  },
  {
   "cell_type": "code",
   "execution_count": 260,
   "id": "e7a6f41f",
   "metadata": {},
   "outputs": [],
   "source": [
    "result_df = sqldf(query)\n"
   ]
  },
  {
   "cell_type": "code",
   "execution_count": 261,
   "id": "e1b294ed",
   "metadata": {},
   "outputs": [
    {
     "data": {
      "text/html": [
       "<div>\n",
       "<style scoped>\n",
       "    .dataframe tbody tr th:only-of-type {\n",
       "        vertical-align: middle;\n",
       "    }\n",
       "\n",
       "    .dataframe tbody tr th {\n",
       "        vertical-align: top;\n",
       "    }\n",
       "\n",
       "    .dataframe thead th {\n",
       "        text-align: right;\n",
       "    }\n",
       "</style>\n",
       "<table border=\"1\" class=\"dataframe\">\n",
       "  <thead>\n",
       "    <tr style=\"text-align: right;\">\n",
       "      <th></th>\n",
       "      <th>count_of_administrative</th>\n",
       "    </tr>\n",
       "  </thead>\n",
       "  <tbody>\n",
       "    <tr>\n",
       "      <th>0</th>\n",
       "      <td>5903</td>\n",
       "    </tr>\n",
       "  </tbody>\n",
       "</table>\n",
       "</div>"
      ],
      "text/plain": [
       "   count_of_administrative\n",
       "0                     5903"
      ]
     },
     "execution_count": 261,
     "metadata": {},
     "output_type": "execute_result"
    }
   ],
   "source": [
    "result_df "
   ]
  },
  {
   "cell_type": "code",
   "execution_count": 262,
   "id": "162de268",
   "metadata": {},
   "outputs": [],
   "source": [
    "#Data Quality Checking "
   ]
  },
  {
   "cell_type": "code",
   "execution_count": 263,
   "id": "7e5dc64b",
   "metadata": {},
   "outputs": [],
   "source": [
    "#Chekcing the data type "
   ]
  },
  {
   "cell_type": "code",
   "execution_count": 264,
   "id": "f9ccf9a0",
   "metadata": {},
   "outputs": [
    {
     "name": "stdout",
     "output_type": "stream",
     "text": [
      "<class 'pandas.core.frame.DataFrame'>\n",
      "RangeIndex: 12330 entries, 0 to 12329\n",
      "Data columns (total 18 columns):\n",
      " #   Column                   Non-Null Count  Dtype  \n",
      "---  ------                   --------------  -----  \n",
      " 0   Administrative           12330 non-null  int64  \n",
      " 1   Administrative_Duration  12330 non-null  float64\n",
      " 2   Informational            12330 non-null  int64  \n",
      " 3   Informational_Duration   12330 non-null  float64\n",
      " 4   ProductRelated           12330 non-null  int64  \n",
      " 5   ProductRelated_Duration  12330 non-null  float64\n",
      " 6   BounceRates              12330 non-null  float64\n",
      " 7   ExitRates                12330 non-null  float64\n",
      " 8   PageValues               12330 non-null  float64\n",
      " 9   SpecialDay               12330 non-null  float64\n",
      " 10  Month                    12330 non-null  object \n",
      " 11  OperatingSystems         12330 non-null  int64  \n",
      " 12  Browser                  12330 non-null  int64  \n",
      " 13  Region                   12330 non-null  int64  \n",
      " 14  TrafficType              12330 non-null  int64  \n",
      " 15  VisitorType              12330 non-null  object \n",
      " 16  Weekend                  12330 non-null  bool   \n",
      " 17  Revenue                  12330 non-null  bool   \n",
      "dtypes: bool(2), float64(7), int64(7), object(2)\n",
      "memory usage: 1.5+ MB\n"
     ]
    }
   ],
   "source": [
    "df.info()"
   ]
  },
  {
   "cell_type": "markdown",
   "id": "0f69a944",
   "metadata": {},
   "source": [
    "### The data type looks fine. There is no issue with the data type. "
   ]
  },
  {
   "cell_type": "code",
   "execution_count": 265,
   "id": "6d2ff40f",
   "metadata": {},
   "outputs": [],
   "source": [
    "#Data Summary exploration"
   ]
  },
  {
   "cell_type": "code",
   "execution_count": 266,
   "id": "4a9a936d",
   "metadata": {},
   "outputs": [
    {
     "data": {
      "text/html": [
       "<div>\n",
       "<style scoped>\n",
       "    .dataframe tbody tr th:only-of-type {\n",
       "        vertical-align: middle;\n",
       "    }\n",
       "\n",
       "    .dataframe tbody tr th {\n",
       "        vertical-align: top;\n",
       "    }\n",
       "\n",
       "    .dataframe thead th {\n",
       "        text-align: right;\n",
       "    }\n",
       "</style>\n",
       "<table border=\"1\" class=\"dataframe\">\n",
       "  <thead>\n",
       "    <tr style=\"text-align: right;\">\n",
       "      <th></th>\n",
       "      <th>Administrative</th>\n",
       "      <th>Administrative_Duration</th>\n",
       "      <th>Informational</th>\n",
       "      <th>Informational_Duration</th>\n",
       "      <th>ProductRelated</th>\n",
       "      <th>ProductRelated_Duration</th>\n",
       "      <th>BounceRates</th>\n",
       "      <th>ExitRates</th>\n",
       "      <th>PageValues</th>\n",
       "      <th>SpecialDay</th>\n",
       "      <th>OperatingSystems</th>\n",
       "      <th>Browser</th>\n",
       "      <th>Region</th>\n",
       "      <th>TrafficType</th>\n",
       "    </tr>\n",
       "  </thead>\n",
       "  <tbody>\n",
       "    <tr>\n",
       "      <th>count</th>\n",
       "      <td>12330.000000</td>\n",
       "      <td>12330.000000</td>\n",
       "      <td>12330.000000</td>\n",
       "      <td>12330.000000</td>\n",
       "      <td>12330.000000</td>\n",
       "      <td>12330.000000</td>\n",
       "      <td>12330.000000</td>\n",
       "      <td>12330.000000</td>\n",
       "      <td>12330.000000</td>\n",
       "      <td>12330.000000</td>\n",
       "      <td>12330.000000</td>\n",
       "      <td>12330.000000</td>\n",
       "      <td>12330.000000</td>\n",
       "      <td>12330.000000</td>\n",
       "    </tr>\n",
       "    <tr>\n",
       "      <th>mean</th>\n",
       "      <td>2.315166</td>\n",
       "      <td>80.818611</td>\n",
       "      <td>0.503569</td>\n",
       "      <td>34.472398</td>\n",
       "      <td>31.731468</td>\n",
       "      <td>1194.746220</td>\n",
       "      <td>0.022191</td>\n",
       "      <td>0.043073</td>\n",
       "      <td>5.889258</td>\n",
       "      <td>0.061427</td>\n",
       "      <td>2.124006</td>\n",
       "      <td>2.357097</td>\n",
       "      <td>3.147364</td>\n",
       "      <td>4.069586</td>\n",
       "    </tr>\n",
       "    <tr>\n",
       "      <th>std</th>\n",
       "      <td>3.321784</td>\n",
       "      <td>176.779107</td>\n",
       "      <td>1.270156</td>\n",
       "      <td>140.749294</td>\n",
       "      <td>44.475503</td>\n",
       "      <td>1913.669288</td>\n",
       "      <td>0.048488</td>\n",
       "      <td>0.048597</td>\n",
       "      <td>18.568437</td>\n",
       "      <td>0.198917</td>\n",
       "      <td>0.911325</td>\n",
       "      <td>1.717277</td>\n",
       "      <td>2.401591</td>\n",
       "      <td>4.025169</td>\n",
       "    </tr>\n",
       "    <tr>\n",
       "      <th>min</th>\n",
       "      <td>0.000000</td>\n",
       "      <td>0.000000</td>\n",
       "      <td>0.000000</td>\n",
       "      <td>0.000000</td>\n",
       "      <td>0.000000</td>\n",
       "      <td>0.000000</td>\n",
       "      <td>0.000000</td>\n",
       "      <td>0.000000</td>\n",
       "      <td>0.000000</td>\n",
       "      <td>0.000000</td>\n",
       "      <td>1.000000</td>\n",
       "      <td>1.000000</td>\n",
       "      <td>1.000000</td>\n",
       "      <td>1.000000</td>\n",
       "    </tr>\n",
       "    <tr>\n",
       "      <th>25%</th>\n",
       "      <td>0.000000</td>\n",
       "      <td>0.000000</td>\n",
       "      <td>0.000000</td>\n",
       "      <td>0.000000</td>\n",
       "      <td>7.000000</td>\n",
       "      <td>184.137500</td>\n",
       "      <td>0.000000</td>\n",
       "      <td>0.014286</td>\n",
       "      <td>0.000000</td>\n",
       "      <td>0.000000</td>\n",
       "      <td>2.000000</td>\n",
       "      <td>2.000000</td>\n",
       "      <td>1.000000</td>\n",
       "      <td>2.000000</td>\n",
       "    </tr>\n",
       "    <tr>\n",
       "      <th>50%</th>\n",
       "      <td>1.000000</td>\n",
       "      <td>7.500000</td>\n",
       "      <td>0.000000</td>\n",
       "      <td>0.000000</td>\n",
       "      <td>18.000000</td>\n",
       "      <td>598.936905</td>\n",
       "      <td>0.003112</td>\n",
       "      <td>0.025156</td>\n",
       "      <td>0.000000</td>\n",
       "      <td>0.000000</td>\n",
       "      <td>2.000000</td>\n",
       "      <td>2.000000</td>\n",
       "      <td>3.000000</td>\n",
       "      <td>2.000000</td>\n",
       "    </tr>\n",
       "    <tr>\n",
       "      <th>75%</th>\n",
       "      <td>4.000000</td>\n",
       "      <td>93.256250</td>\n",
       "      <td>0.000000</td>\n",
       "      <td>0.000000</td>\n",
       "      <td>38.000000</td>\n",
       "      <td>1464.157214</td>\n",
       "      <td>0.016813</td>\n",
       "      <td>0.050000</td>\n",
       "      <td>0.000000</td>\n",
       "      <td>0.000000</td>\n",
       "      <td>3.000000</td>\n",
       "      <td>2.000000</td>\n",
       "      <td>4.000000</td>\n",
       "      <td>4.000000</td>\n",
       "    </tr>\n",
       "    <tr>\n",
       "      <th>max</th>\n",
       "      <td>27.000000</td>\n",
       "      <td>3398.750000</td>\n",
       "      <td>24.000000</td>\n",
       "      <td>2549.375000</td>\n",
       "      <td>705.000000</td>\n",
       "      <td>63973.522230</td>\n",
       "      <td>0.200000</td>\n",
       "      <td>0.200000</td>\n",
       "      <td>361.763742</td>\n",
       "      <td>1.000000</td>\n",
       "      <td>8.000000</td>\n",
       "      <td>13.000000</td>\n",
       "      <td>9.000000</td>\n",
       "      <td>20.000000</td>\n",
       "    </tr>\n",
       "  </tbody>\n",
       "</table>\n",
       "</div>"
      ],
      "text/plain": [
       "       Administrative  Administrative_Duration  Informational  \\\n",
       "count    12330.000000             12330.000000   12330.000000   \n",
       "mean         2.315166                80.818611       0.503569   \n",
       "std          3.321784               176.779107       1.270156   \n",
       "min          0.000000                 0.000000       0.000000   \n",
       "25%          0.000000                 0.000000       0.000000   \n",
       "50%          1.000000                 7.500000       0.000000   \n",
       "75%          4.000000                93.256250       0.000000   \n",
       "max         27.000000              3398.750000      24.000000   \n",
       "\n",
       "       Informational_Duration  ProductRelated  ProductRelated_Duration  \\\n",
       "count            12330.000000    12330.000000             12330.000000   \n",
       "mean                34.472398       31.731468              1194.746220   \n",
       "std                140.749294       44.475503              1913.669288   \n",
       "min                  0.000000        0.000000                 0.000000   \n",
       "25%                  0.000000        7.000000               184.137500   \n",
       "50%                  0.000000       18.000000               598.936905   \n",
       "75%                  0.000000       38.000000              1464.157214   \n",
       "max               2549.375000      705.000000             63973.522230   \n",
       "\n",
       "        BounceRates     ExitRates    PageValues    SpecialDay  \\\n",
       "count  12330.000000  12330.000000  12330.000000  12330.000000   \n",
       "mean       0.022191      0.043073      5.889258      0.061427   \n",
       "std        0.048488      0.048597     18.568437      0.198917   \n",
       "min        0.000000      0.000000      0.000000      0.000000   \n",
       "25%        0.000000      0.014286      0.000000      0.000000   \n",
       "50%        0.003112      0.025156      0.000000      0.000000   \n",
       "75%        0.016813      0.050000      0.000000      0.000000   \n",
       "max        0.200000      0.200000    361.763742      1.000000   \n",
       "\n",
       "       OperatingSystems       Browser        Region   TrafficType  \n",
       "count      12330.000000  12330.000000  12330.000000  12330.000000  \n",
       "mean           2.124006      2.357097      3.147364      4.069586  \n",
       "std            0.911325      1.717277      2.401591      4.025169  \n",
       "min            1.000000      1.000000      1.000000      1.000000  \n",
       "25%            2.000000      2.000000      1.000000      2.000000  \n",
       "50%            2.000000      2.000000      3.000000      2.000000  \n",
       "75%            3.000000      2.000000      4.000000      4.000000  \n",
       "max            8.000000     13.000000      9.000000     20.000000  "
      ]
     },
     "execution_count": 266,
     "metadata": {},
     "output_type": "execute_result"
    }
   ],
   "source": [
    "df.describe()"
   ]
  },
  {
   "cell_type": "code",
   "execution_count": 267,
   "id": "f825c00b",
   "metadata": {},
   "outputs": [],
   "source": [
    "corr_matrix = df.corr()\n"
   ]
  },
  {
   "cell_type": "code",
   "execution_count": 268,
   "id": "c41ff865",
   "metadata": {},
   "outputs": [
    {
     "data": {
      "text/html": [
       "<div>\n",
       "<style scoped>\n",
       "    .dataframe tbody tr th:only-of-type {\n",
       "        vertical-align: middle;\n",
       "    }\n",
       "\n",
       "    .dataframe tbody tr th {\n",
       "        vertical-align: top;\n",
       "    }\n",
       "\n",
       "    .dataframe thead th {\n",
       "        text-align: right;\n",
       "    }\n",
       "</style>\n",
       "<table border=\"1\" class=\"dataframe\">\n",
       "  <thead>\n",
       "    <tr style=\"text-align: right;\">\n",
       "      <th></th>\n",
       "      <th>Administrative</th>\n",
       "      <th>Administrative_Duration</th>\n",
       "      <th>Informational</th>\n",
       "      <th>Informational_Duration</th>\n",
       "      <th>ProductRelated</th>\n",
       "      <th>ProductRelated_Duration</th>\n",
       "      <th>BounceRates</th>\n",
       "      <th>ExitRates</th>\n",
       "      <th>PageValues</th>\n",
       "      <th>SpecialDay</th>\n",
       "      <th>OperatingSystems</th>\n",
       "      <th>Browser</th>\n",
       "      <th>Region</th>\n",
       "      <th>TrafficType</th>\n",
       "      <th>Weekend</th>\n",
       "      <th>Revenue</th>\n",
       "    </tr>\n",
       "  </thead>\n",
       "  <tbody>\n",
       "    <tr>\n",
       "      <th>Administrative</th>\n",
       "      <td>1.000000</td>\n",
       "      <td>0.601583</td>\n",
       "      <td>0.376850</td>\n",
       "      <td>0.255848</td>\n",
       "      <td>0.431119</td>\n",
       "      <td>0.373939</td>\n",
       "      <td>-0.223563</td>\n",
       "      <td>-0.316483</td>\n",
       "      <td>0.098990</td>\n",
       "      <td>-0.094778</td>\n",
       "      <td>-0.006347</td>\n",
       "      <td>-0.025035</td>\n",
       "      <td>-0.005487</td>\n",
       "      <td>-0.033561</td>\n",
       "      <td>0.026417</td>\n",
       "      <td>0.138917</td>\n",
       "    </tr>\n",
       "    <tr>\n",
       "      <th>Administrative_Duration</th>\n",
       "      <td>0.601583</td>\n",
       "      <td>1.000000</td>\n",
       "      <td>0.302710</td>\n",
       "      <td>0.238031</td>\n",
       "      <td>0.289087</td>\n",
       "      <td>0.355422</td>\n",
       "      <td>-0.144170</td>\n",
       "      <td>-0.205798</td>\n",
       "      <td>0.067608</td>\n",
       "      <td>-0.073304</td>\n",
       "      <td>-0.007343</td>\n",
       "      <td>-0.015392</td>\n",
       "      <td>-0.005561</td>\n",
       "      <td>-0.014376</td>\n",
       "      <td>0.014990</td>\n",
       "      <td>0.093587</td>\n",
       "    </tr>\n",
       "    <tr>\n",
       "      <th>Informational</th>\n",
       "      <td>0.376850</td>\n",
       "      <td>0.302710</td>\n",
       "      <td>1.000000</td>\n",
       "      <td>0.618955</td>\n",
       "      <td>0.374164</td>\n",
       "      <td>0.387505</td>\n",
       "      <td>-0.116114</td>\n",
       "      <td>-0.163666</td>\n",
       "      <td>0.048632</td>\n",
       "      <td>-0.048219</td>\n",
       "      <td>-0.009527</td>\n",
       "      <td>-0.038235</td>\n",
       "      <td>-0.029169</td>\n",
       "      <td>-0.034491</td>\n",
       "      <td>0.035785</td>\n",
       "      <td>0.095200</td>\n",
       "    </tr>\n",
       "    <tr>\n",
       "      <th>Informational_Duration</th>\n",
       "      <td>0.255848</td>\n",
       "      <td>0.238031</td>\n",
       "      <td>0.618955</td>\n",
       "      <td>1.000000</td>\n",
       "      <td>0.280046</td>\n",
       "      <td>0.347364</td>\n",
       "      <td>-0.074067</td>\n",
       "      <td>-0.105276</td>\n",
       "      <td>0.030861</td>\n",
       "      <td>-0.030577</td>\n",
       "      <td>-0.009579</td>\n",
       "      <td>-0.019285</td>\n",
       "      <td>-0.027144</td>\n",
       "      <td>-0.024675</td>\n",
       "      <td>0.024078</td>\n",
       "      <td>0.070345</td>\n",
       "    </tr>\n",
       "    <tr>\n",
       "      <th>ProductRelated</th>\n",
       "      <td>0.431119</td>\n",
       "      <td>0.289087</td>\n",
       "      <td>0.374164</td>\n",
       "      <td>0.280046</td>\n",
       "      <td>1.000000</td>\n",
       "      <td>0.860927</td>\n",
       "      <td>-0.204578</td>\n",
       "      <td>-0.292526</td>\n",
       "      <td>0.056282</td>\n",
       "      <td>-0.023958</td>\n",
       "      <td>0.004290</td>\n",
       "      <td>-0.013146</td>\n",
       "      <td>-0.038122</td>\n",
       "      <td>-0.043064</td>\n",
       "      <td>0.016092</td>\n",
       "      <td>0.158538</td>\n",
       "    </tr>\n",
       "    <tr>\n",
       "      <th>ProductRelated_Duration</th>\n",
       "      <td>0.373939</td>\n",
       "      <td>0.355422</td>\n",
       "      <td>0.387505</td>\n",
       "      <td>0.347364</td>\n",
       "      <td>0.860927</td>\n",
       "      <td>1.000000</td>\n",
       "      <td>-0.184541</td>\n",
       "      <td>-0.251984</td>\n",
       "      <td>0.052823</td>\n",
       "      <td>-0.036380</td>\n",
       "      <td>0.002976</td>\n",
       "      <td>-0.007380</td>\n",
       "      <td>-0.033091</td>\n",
       "      <td>-0.036377</td>\n",
       "      <td>0.007311</td>\n",
       "      <td>0.152373</td>\n",
       "    </tr>\n",
       "    <tr>\n",
       "      <th>BounceRates</th>\n",
       "      <td>-0.223563</td>\n",
       "      <td>-0.144170</td>\n",
       "      <td>-0.116114</td>\n",
       "      <td>-0.074067</td>\n",
       "      <td>-0.204578</td>\n",
       "      <td>-0.184541</td>\n",
       "      <td>1.000000</td>\n",
       "      <td>0.913004</td>\n",
       "      <td>-0.119386</td>\n",
       "      <td>0.072702</td>\n",
       "      <td>0.023823</td>\n",
       "      <td>-0.015772</td>\n",
       "      <td>-0.006485</td>\n",
       "      <td>0.078286</td>\n",
       "      <td>-0.046514</td>\n",
       "      <td>-0.150673</td>\n",
       "    </tr>\n",
       "    <tr>\n",
       "      <th>ExitRates</th>\n",
       "      <td>-0.316483</td>\n",
       "      <td>-0.205798</td>\n",
       "      <td>-0.163666</td>\n",
       "      <td>-0.105276</td>\n",
       "      <td>-0.292526</td>\n",
       "      <td>-0.251984</td>\n",
       "      <td>0.913004</td>\n",
       "      <td>1.000000</td>\n",
       "      <td>-0.174498</td>\n",
       "      <td>0.102242</td>\n",
       "      <td>0.014567</td>\n",
       "      <td>-0.004442</td>\n",
       "      <td>-0.008907</td>\n",
       "      <td>0.078616</td>\n",
       "      <td>-0.062587</td>\n",
       "      <td>-0.207071</td>\n",
       "    </tr>\n",
       "    <tr>\n",
       "      <th>PageValues</th>\n",
       "      <td>0.098990</td>\n",
       "      <td>0.067608</td>\n",
       "      <td>0.048632</td>\n",
       "      <td>0.030861</td>\n",
       "      <td>0.056282</td>\n",
       "      <td>0.052823</td>\n",
       "      <td>-0.119386</td>\n",
       "      <td>-0.174498</td>\n",
       "      <td>1.000000</td>\n",
       "      <td>-0.063541</td>\n",
       "      <td>0.018508</td>\n",
       "      <td>0.045592</td>\n",
       "      <td>0.011315</td>\n",
       "      <td>0.012532</td>\n",
       "      <td>0.012002</td>\n",
       "      <td>0.492569</td>\n",
       "    </tr>\n",
       "    <tr>\n",
       "      <th>SpecialDay</th>\n",
       "      <td>-0.094778</td>\n",
       "      <td>-0.073304</td>\n",
       "      <td>-0.048219</td>\n",
       "      <td>-0.030577</td>\n",
       "      <td>-0.023958</td>\n",
       "      <td>-0.036380</td>\n",
       "      <td>0.072702</td>\n",
       "      <td>0.102242</td>\n",
       "      <td>-0.063541</td>\n",
       "      <td>1.000000</td>\n",
       "      <td>0.012652</td>\n",
       "      <td>0.003499</td>\n",
       "      <td>-0.016098</td>\n",
       "      <td>0.052301</td>\n",
       "      <td>-0.016767</td>\n",
       "      <td>-0.082305</td>\n",
       "    </tr>\n",
       "    <tr>\n",
       "      <th>OperatingSystems</th>\n",
       "      <td>-0.006347</td>\n",
       "      <td>-0.007343</td>\n",
       "      <td>-0.009527</td>\n",
       "      <td>-0.009579</td>\n",
       "      <td>0.004290</td>\n",
       "      <td>0.002976</td>\n",
       "      <td>0.023823</td>\n",
       "      <td>0.014567</td>\n",
       "      <td>0.018508</td>\n",
       "      <td>0.012652</td>\n",
       "      <td>1.000000</td>\n",
       "      <td>0.223013</td>\n",
       "      <td>0.076775</td>\n",
       "      <td>0.189154</td>\n",
       "      <td>0.000284</td>\n",
       "      <td>-0.014668</td>\n",
       "    </tr>\n",
       "    <tr>\n",
       "      <th>Browser</th>\n",
       "      <td>-0.025035</td>\n",
       "      <td>-0.015392</td>\n",
       "      <td>-0.038235</td>\n",
       "      <td>-0.019285</td>\n",
       "      <td>-0.013146</td>\n",
       "      <td>-0.007380</td>\n",
       "      <td>-0.015772</td>\n",
       "      <td>-0.004442</td>\n",
       "      <td>0.045592</td>\n",
       "      <td>0.003499</td>\n",
       "      <td>0.223013</td>\n",
       "      <td>1.000000</td>\n",
       "      <td>0.097393</td>\n",
       "      <td>0.111938</td>\n",
       "      <td>-0.040261</td>\n",
       "      <td>0.023984</td>\n",
       "    </tr>\n",
       "    <tr>\n",
       "      <th>Region</th>\n",
       "      <td>-0.005487</td>\n",
       "      <td>-0.005561</td>\n",
       "      <td>-0.029169</td>\n",
       "      <td>-0.027144</td>\n",
       "      <td>-0.038122</td>\n",
       "      <td>-0.033091</td>\n",
       "      <td>-0.006485</td>\n",
       "      <td>-0.008907</td>\n",
       "      <td>0.011315</td>\n",
       "      <td>-0.016098</td>\n",
       "      <td>0.076775</td>\n",
       "      <td>0.097393</td>\n",
       "      <td>1.000000</td>\n",
       "      <td>0.047520</td>\n",
       "      <td>-0.000691</td>\n",
       "      <td>-0.011595</td>\n",
       "    </tr>\n",
       "    <tr>\n",
       "      <th>TrafficType</th>\n",
       "      <td>-0.033561</td>\n",
       "      <td>-0.014376</td>\n",
       "      <td>-0.034491</td>\n",
       "      <td>-0.024675</td>\n",
       "      <td>-0.043064</td>\n",
       "      <td>-0.036377</td>\n",
       "      <td>0.078286</td>\n",
       "      <td>0.078616</td>\n",
       "      <td>0.012532</td>\n",
       "      <td>0.052301</td>\n",
       "      <td>0.189154</td>\n",
       "      <td>0.111938</td>\n",
       "      <td>0.047520</td>\n",
       "      <td>1.000000</td>\n",
       "      <td>-0.002221</td>\n",
       "      <td>-0.005113</td>\n",
       "    </tr>\n",
       "    <tr>\n",
       "      <th>Weekend</th>\n",
       "      <td>0.026417</td>\n",
       "      <td>0.014990</td>\n",
       "      <td>0.035785</td>\n",
       "      <td>0.024078</td>\n",
       "      <td>0.016092</td>\n",
       "      <td>0.007311</td>\n",
       "      <td>-0.046514</td>\n",
       "      <td>-0.062587</td>\n",
       "      <td>0.012002</td>\n",
       "      <td>-0.016767</td>\n",
       "      <td>0.000284</td>\n",
       "      <td>-0.040261</td>\n",
       "      <td>-0.000691</td>\n",
       "      <td>-0.002221</td>\n",
       "      <td>1.000000</td>\n",
       "      <td>0.029295</td>\n",
       "    </tr>\n",
       "    <tr>\n",
       "      <th>Revenue</th>\n",
       "      <td>0.138917</td>\n",
       "      <td>0.093587</td>\n",
       "      <td>0.095200</td>\n",
       "      <td>0.070345</td>\n",
       "      <td>0.158538</td>\n",
       "      <td>0.152373</td>\n",
       "      <td>-0.150673</td>\n",
       "      <td>-0.207071</td>\n",
       "      <td>0.492569</td>\n",
       "      <td>-0.082305</td>\n",
       "      <td>-0.014668</td>\n",
       "      <td>0.023984</td>\n",
       "      <td>-0.011595</td>\n",
       "      <td>-0.005113</td>\n",
       "      <td>0.029295</td>\n",
       "      <td>1.000000</td>\n",
       "    </tr>\n",
       "  </tbody>\n",
       "</table>\n",
       "</div>"
      ],
      "text/plain": [
       "                         Administrative  Administrative_Duration  \\\n",
       "Administrative                 1.000000                 0.601583   \n",
       "Administrative_Duration        0.601583                 1.000000   \n",
       "Informational                  0.376850                 0.302710   \n",
       "Informational_Duration         0.255848                 0.238031   \n",
       "ProductRelated                 0.431119                 0.289087   \n",
       "ProductRelated_Duration        0.373939                 0.355422   \n",
       "BounceRates                   -0.223563                -0.144170   \n",
       "ExitRates                     -0.316483                -0.205798   \n",
       "PageValues                     0.098990                 0.067608   \n",
       "SpecialDay                    -0.094778                -0.073304   \n",
       "OperatingSystems              -0.006347                -0.007343   \n",
       "Browser                       -0.025035                -0.015392   \n",
       "Region                        -0.005487                -0.005561   \n",
       "TrafficType                   -0.033561                -0.014376   \n",
       "Weekend                        0.026417                 0.014990   \n",
       "Revenue                        0.138917                 0.093587   \n",
       "\n",
       "                         Informational  Informational_Duration  \\\n",
       "Administrative                0.376850                0.255848   \n",
       "Administrative_Duration       0.302710                0.238031   \n",
       "Informational                 1.000000                0.618955   \n",
       "Informational_Duration        0.618955                1.000000   \n",
       "ProductRelated                0.374164                0.280046   \n",
       "ProductRelated_Duration       0.387505                0.347364   \n",
       "BounceRates                  -0.116114               -0.074067   \n",
       "ExitRates                    -0.163666               -0.105276   \n",
       "PageValues                    0.048632                0.030861   \n",
       "SpecialDay                   -0.048219               -0.030577   \n",
       "OperatingSystems             -0.009527               -0.009579   \n",
       "Browser                      -0.038235               -0.019285   \n",
       "Region                       -0.029169               -0.027144   \n",
       "TrafficType                  -0.034491               -0.024675   \n",
       "Weekend                       0.035785                0.024078   \n",
       "Revenue                       0.095200                0.070345   \n",
       "\n",
       "                         ProductRelated  ProductRelated_Duration  BounceRates  \\\n",
       "Administrative                 0.431119                 0.373939    -0.223563   \n",
       "Administrative_Duration        0.289087                 0.355422    -0.144170   \n",
       "Informational                  0.374164                 0.387505    -0.116114   \n",
       "Informational_Duration         0.280046                 0.347364    -0.074067   \n",
       "ProductRelated                 1.000000                 0.860927    -0.204578   \n",
       "ProductRelated_Duration        0.860927                 1.000000    -0.184541   \n",
       "BounceRates                   -0.204578                -0.184541     1.000000   \n",
       "ExitRates                     -0.292526                -0.251984     0.913004   \n",
       "PageValues                     0.056282                 0.052823    -0.119386   \n",
       "SpecialDay                    -0.023958                -0.036380     0.072702   \n",
       "OperatingSystems               0.004290                 0.002976     0.023823   \n",
       "Browser                       -0.013146                -0.007380    -0.015772   \n",
       "Region                        -0.038122                -0.033091    -0.006485   \n",
       "TrafficType                   -0.043064                -0.036377     0.078286   \n",
       "Weekend                        0.016092                 0.007311    -0.046514   \n",
       "Revenue                        0.158538                 0.152373    -0.150673   \n",
       "\n",
       "                         ExitRates  PageValues  SpecialDay  OperatingSystems  \\\n",
       "Administrative           -0.316483    0.098990   -0.094778         -0.006347   \n",
       "Administrative_Duration  -0.205798    0.067608   -0.073304         -0.007343   \n",
       "Informational            -0.163666    0.048632   -0.048219         -0.009527   \n",
       "Informational_Duration   -0.105276    0.030861   -0.030577         -0.009579   \n",
       "ProductRelated           -0.292526    0.056282   -0.023958          0.004290   \n",
       "ProductRelated_Duration  -0.251984    0.052823   -0.036380          0.002976   \n",
       "BounceRates               0.913004   -0.119386    0.072702          0.023823   \n",
       "ExitRates                 1.000000   -0.174498    0.102242          0.014567   \n",
       "PageValues               -0.174498    1.000000   -0.063541          0.018508   \n",
       "SpecialDay                0.102242   -0.063541    1.000000          0.012652   \n",
       "OperatingSystems          0.014567    0.018508    0.012652          1.000000   \n",
       "Browser                  -0.004442    0.045592    0.003499          0.223013   \n",
       "Region                   -0.008907    0.011315   -0.016098          0.076775   \n",
       "TrafficType               0.078616    0.012532    0.052301          0.189154   \n",
       "Weekend                  -0.062587    0.012002   -0.016767          0.000284   \n",
       "Revenue                  -0.207071    0.492569   -0.082305         -0.014668   \n",
       "\n",
       "                          Browser    Region  TrafficType   Weekend   Revenue  \n",
       "Administrative          -0.025035 -0.005487    -0.033561  0.026417  0.138917  \n",
       "Administrative_Duration -0.015392 -0.005561    -0.014376  0.014990  0.093587  \n",
       "Informational           -0.038235 -0.029169    -0.034491  0.035785  0.095200  \n",
       "Informational_Duration  -0.019285 -0.027144    -0.024675  0.024078  0.070345  \n",
       "ProductRelated          -0.013146 -0.038122    -0.043064  0.016092  0.158538  \n",
       "ProductRelated_Duration -0.007380 -0.033091    -0.036377  0.007311  0.152373  \n",
       "BounceRates             -0.015772 -0.006485     0.078286 -0.046514 -0.150673  \n",
       "ExitRates               -0.004442 -0.008907     0.078616 -0.062587 -0.207071  \n",
       "PageValues               0.045592  0.011315     0.012532  0.012002  0.492569  \n",
       "SpecialDay               0.003499 -0.016098     0.052301 -0.016767 -0.082305  \n",
       "OperatingSystems         0.223013  0.076775     0.189154  0.000284 -0.014668  \n",
       "Browser                  1.000000  0.097393     0.111938 -0.040261  0.023984  \n",
       "Region                   0.097393  1.000000     0.047520 -0.000691 -0.011595  \n",
       "TrafficType              0.111938  0.047520     1.000000 -0.002221 -0.005113  \n",
       "Weekend                 -0.040261 -0.000691    -0.002221  1.000000  0.029295  \n",
       "Revenue                  0.023984 -0.011595    -0.005113  0.029295  1.000000  "
      ]
     },
     "execution_count": 268,
     "metadata": {},
     "output_type": "execute_result"
    }
   ],
   "source": [
    "corr_matrix "
   ]
  },
  {
   "cell_type": "code",
   "execution_count": 269,
   "id": "465f6d49",
   "metadata": {},
   "outputs": [],
   "source": [
    "#Check for missing values\n"
   ]
  },
  {
   "cell_type": "code",
   "execution_count": 270,
   "id": "23148d99",
   "metadata": {},
   "outputs": [],
   "source": [
    "missing_values = df.isna().sum()"
   ]
  },
  {
   "cell_type": "code",
   "execution_count": 271,
   "id": "559a4490",
   "metadata": {},
   "outputs": [
    {
     "name": "stdout",
     "output_type": "stream",
     "text": [
      "Administrative             0\n",
      "Administrative_Duration    0\n",
      "Informational              0\n",
      "Informational_Duration     0\n",
      "ProductRelated             0\n",
      "ProductRelated_Duration    0\n",
      "BounceRates                0\n",
      "ExitRates                  0\n",
      "PageValues                 0\n",
      "SpecialDay                 0\n",
      "Month                      0\n",
      "OperatingSystems           0\n",
      "Browser                    0\n",
      "Region                     0\n",
      "TrafficType                0\n",
      "VisitorType                0\n",
      "Weekend                    0\n",
      "Revenue                    0\n",
      "dtype: int64\n"
     ]
    }
   ],
   "source": [
    "print(missing_values)"
   ]
  },
  {
   "cell_type": "markdown",
   "id": "919e27a7",
   "metadata": {},
   "source": [
    "### It seemes that there are no missing values in this dataset "
   ]
  },
  {
   "cell_type": "code",
   "execution_count": 272,
   "id": "fe6650bd",
   "metadata": {},
   "outputs": [],
   "source": [
    "#Chekcing for duplicate values "
   ]
  },
  {
   "cell_type": "code",
   "execution_count": 273,
   "id": "cc513f52",
   "metadata": {},
   "outputs": [
    {
     "data": {
      "text/plain": [
       "125"
      ]
     },
     "execution_count": 273,
     "metadata": {},
     "output_type": "execute_result"
    }
   ],
   "source": [
    "df.duplicated().sum()"
   ]
  },
  {
   "cell_type": "code",
   "execution_count": 274,
   "id": "e6d9fcf3",
   "metadata": {},
   "outputs": [
    {
     "name": "stdout",
     "output_type": "stream",
     "text": [
      "125\n"
     ]
    }
   ],
   "source": [
    "print(df.duplicated().sum())"
   ]
  },
  {
   "cell_type": "code",
   "execution_count": 275,
   "id": "ec56c11a",
   "metadata": {},
   "outputs": [],
   "source": [
    "df.drop_duplicates(inplace=True)"
   ]
  },
  {
   "cell_type": "code",
   "execution_count": 276,
   "id": "edd54a07",
   "metadata": {},
   "outputs": [
    {
     "data": {
      "text/plain": [
       "0"
      ]
     },
     "execution_count": 276,
     "metadata": {},
     "output_type": "execute_result"
    }
   ],
   "source": [
    "df.duplicated().sum()"
   ]
  },
  {
   "cell_type": "markdown",
   "id": "7040b4ae",
   "metadata": {},
   "source": [
    "### There are 125 duplicated values. We have remove those duplicated values "
   ]
  },
  {
   "cell_type": "code",
   "execution_count": 277,
   "id": "90f34781",
   "metadata": {},
   "outputs": [],
   "source": [
    "# Check for outliers "
   ]
  },
  {
   "cell_type": "code",
   "execution_count": 278,
   "id": "4c035214",
   "metadata": {},
   "outputs": [],
   "source": [
    "import pandas as pd\n",
    "import matplotlib.pyplot as plt"
   ]
  },
  {
   "cell_type": "code",
   "execution_count": 279,
   "id": "5f8c3396",
   "metadata": {},
   "outputs": [
    {
     "data": {
      "text/plain": [
       "Index(['Administrative', 'Administrative_Duration', 'Informational',\n",
       "       'Informational_Duration', 'ProductRelated', 'ProductRelated_Duration',\n",
       "       'BounceRates', 'ExitRates', 'PageValues', 'SpecialDay', 'Month',\n",
       "       'OperatingSystems', 'Browser', 'Region', 'TrafficType', 'VisitorType',\n",
       "       'Weekend', 'Revenue'],\n",
       "      dtype='object')"
      ]
     },
     "execution_count": 279,
     "metadata": {},
     "output_type": "execute_result"
    }
   ],
   "source": [
    "df.columns"
   ]
  },
  {
   "cell_type": "code",
   "execution_count": 280,
   "id": "f064a01a",
   "metadata": {},
   "outputs": [
    {
     "name": "stdout",
     "output_type": "stream",
     "text": [
      "<class 'pandas.core.frame.DataFrame'>\n",
      "Int64Index: 12205 entries, 0 to 12329\n",
      "Data columns (total 18 columns):\n",
      " #   Column                   Non-Null Count  Dtype  \n",
      "---  ------                   --------------  -----  \n",
      " 0   Administrative           12205 non-null  int64  \n",
      " 1   Administrative_Duration  12205 non-null  float64\n",
      " 2   Informational            12205 non-null  int64  \n",
      " 3   Informational_Duration   12205 non-null  float64\n",
      " 4   ProductRelated           12205 non-null  int64  \n",
      " 5   ProductRelated_Duration  12205 non-null  float64\n",
      " 6   BounceRates              12205 non-null  float64\n",
      " 7   ExitRates                12205 non-null  float64\n",
      " 8   PageValues               12205 non-null  float64\n",
      " 9   SpecialDay               12205 non-null  float64\n",
      " 10  Month                    12205 non-null  object \n",
      " 11  OperatingSystems         12205 non-null  int64  \n",
      " 12  Browser                  12205 non-null  int64  \n",
      " 13  Region                   12205 non-null  int64  \n",
      " 14  TrafficType              12205 non-null  int64  \n",
      " 15  VisitorType              12205 non-null  object \n",
      " 16  Weekend                  12205 non-null  bool   \n",
      " 17  Revenue                  12205 non-null  bool   \n",
      "dtypes: bool(2), float64(7), int64(7), object(2)\n",
      "memory usage: 1.6+ MB\n"
     ]
    }
   ],
   "source": [
    "df.info()"
   ]
  },
  {
   "cell_type": "code",
   "execution_count": 281,
   "id": "b85e116d",
   "metadata": {},
   "outputs": [
    {
     "data": {
      "text/plain": [
       "{'whiskers': [<matplotlib.lines.Line2D at 0x7fea1929c2b0>,\n",
       "  <matplotlib.lines.Line2D at 0x7fea1929c640>],\n",
       " 'caps': [<matplotlib.lines.Line2D at 0x7fea1929c9d0>,\n",
       "  <matplotlib.lines.Line2D at 0x7fea1929cd60>],\n",
       " 'boxes': [<matplotlib.lines.Line2D at 0x7fea1928dee0>],\n",
       " 'medians': [<matplotlib.lines.Line2D at 0x7fea192a7130>],\n",
       " 'fliers': [<matplotlib.lines.Line2D at 0x7fea192a74c0>],\n",
       " 'means': []}"
      ]
     },
     "execution_count": 281,
     "metadata": {},
     "output_type": "execute_result"
    },
    {
     "data": {
      "image/png": "[encoded data removed]",
      "text/plain": [
       "<Figure size 432x288 with 1 Axes>"
      ]
     },
     "metadata": {
      "needs_background": "light"
     },
     "output_type": "display_data"
    }
   ],
   "source": [
    "plt.boxplot(df['OperatingSystems'])"
   ]
  },
  {
   "cell_type": "code",
   "execution_count": 282,
   "id": "a221002a",
   "metadata": {},
   "outputs": [
    {
     "data": {
      "text/plain": [
       "{'whiskers': [<matplotlib.lines.Line2D at 0x7fe9c95074f0>,\n",
       "  <matplotlib.lines.Line2D at 0x7fea19540b50>,\n",
       "  <matplotlib.lines.Line2D at 0x7fe9c05354f0>,\n",
       "  <matplotlib.lines.Line2D at 0x7fe9c0535880>,\n",
       "  <matplotlib.lines.Line2D at 0x7fe9c0529e20>,\n",
       "  <matplotlib.lines.Line2D at 0x7fe9c051c1f0>],\n",
       " 'caps': [<matplotlib.lines.Line2D at 0x7fe9c053f2e0>,\n",
       "  <matplotlib.lines.Line2D at 0x7fe9c053f670>,\n",
       "  <matplotlib.lines.Line2D at 0x7fe9c0535c10>,\n",
       "  <matplotlib.lines.Line2D at 0x7fe9c0535fa0>,\n",
       "  <matplotlib.lines.Line2D at 0x7fe9c051c580>,\n",
       "  <matplotlib.lines.Line2D at 0x7fe9c051c910>],\n",
       " 'boxes': [<matplotlib.lines.Line2D at 0x7fe9c9507670>,\n",
       "  <matplotlib.lines.Line2D at 0x7fe9c0535160>,\n",
       "  <matplotlib.lines.Line2D at 0x7fe9c0529a90>],\n",
       " 'medians': [<matplotlib.lines.Line2D at 0x7fe9c053fa00>,\n",
       "  <matplotlib.lines.Line2D at 0x7fe9c0529370>,\n",
       "  <matplotlib.lines.Line2D at 0x7fe9c051cca0>],\n",
       " 'fliers': [<matplotlib.lines.Line2D at 0x7fe9c053fd90>,\n",
       "  <matplotlib.lines.Line2D at 0x7fe9c0529700>,\n",
       "  <matplotlib.lines.Line2D at 0x7fe9c0513070>],\n",
       " 'means': []}"
      ]
     },
     "execution_count": 282,
     "metadata": {},
     "output_type": "execute_result"
    },
    {
     "data": {
      "image/png": "[encoded data removed]",
      "text/plain": [
       "<Figure size 432x288 with 1 Axes>"
      ]
     },
     "metadata": {
      "needs_background": "light"
     },
     "output_type": "display_data"
    }
   ],
   "source": [
    "plt.boxplot(df[['ExitRates', 'PageValues', 'SpecialDay']])"
   ]
  },
  {
   "cell_type": "code",
   "execution_count": 283,
   "id": "6316d139",
   "metadata": {},
   "outputs": [
    {
     "data": {
      "text/plain": [
       "{'whiskers': [<matplotlib.lines.Line2D at 0x7fea196670a0>,\n",
       "  <matplotlib.lines.Line2D at 0x7fea19667430>],\n",
       " 'caps': [<matplotlib.lines.Line2D at 0x7fea196677c0>,\n",
       "  <matplotlib.lines.Line2D at 0x7fea19667b50>],\n",
       " 'boxes': [<matplotlib.lines.Line2D at 0x7fea19677cd0>],\n",
       " 'medians': [<matplotlib.lines.Line2D at 0x7fea19667ee0>],\n",
       " 'fliers': [<matplotlib.lines.Line2D at 0x7fe9f95a62b0>],\n",
       " 'means': []}"
      ]
     },
     "execution_count": 283,
     "metadata": {},
     "output_type": "execute_result"
    },
    {
     "data": {
      "image/png": "[encoded data removed]",
      "text/plain": [
       "<Figure size 432x288 with 1 Axes>"
      ]
     },
     "metadata": {
      "needs_background": "light"
     },
     "output_type": "display_data"
    }
   ],
   "source": [
    "plt.boxplot(df['Administrative'])"
   ]
  },
  {
   "cell_type": "code",
   "execution_count": 284,
   "id": "28f12784",
   "metadata": {},
   "outputs": [
    {
     "data": {
      "text/plain": [
       "{'whiskers': [<matplotlib.lines.Line2D at 0x7fea19aef850>,\n",
       "  <matplotlib.lines.Line2D at 0x7fea19aefbe0>],\n",
       " 'caps': [<matplotlib.lines.Line2D at 0x7fea19aeff70>,\n",
       "  <matplotlib.lines.Line2D at 0x7fea19ae3340>],\n",
       " 'boxes': [<matplotlib.lines.Line2D at 0x7fea19aef490>],\n",
       " 'medians': [<matplotlib.lines.Line2D at 0x7fea19ae36d0>],\n",
       " 'fliers': [<matplotlib.lines.Line2D at 0x7fea19ae3a60>],\n",
       " 'means': []}"
      ]
     },
     "execution_count": 284,
     "metadata": {},
     "output_type": "execute_result"
    },
    {
     "data": {
      "image/png": "[encoded data removed]",
      "text/plain": [
       "<Figure size 432x288 with 1 Axes>"
      ]
     },
     "metadata": {
      "needs_background": "light"
     },
     "output_type": "display_data"
    }
   ],
   "source": [
    "plt.boxplot(df['Administrative_Duration'])"
   ]
  },
  {
   "cell_type": "code",
   "execution_count": 285,
   "id": "5eb55767",
   "metadata": {},
   "outputs": [
    {
     "data": {
      "text/plain": [
       "{'whiskers': [<matplotlib.lines.Line2D at 0x7fea196ab0d0>,\n",
       "  <matplotlib.lines.Line2D at 0x7fea196ab460>],\n",
       " 'caps': [<matplotlib.lines.Line2D at 0x7fea196ab6a0>,\n",
       "  <matplotlib.lines.Line2D at 0x7fea196aba30>],\n",
       " 'boxes': [<matplotlib.lines.Line2D at 0x7fea196bbd60>],\n",
       " 'medians': [<matplotlib.lines.Line2D at 0x7fea196abdc0>],\n",
       " 'fliers': [<matplotlib.lines.Line2D at 0x7fea196de190>],\n",
       " 'means': []}"
      ]
     },
     "execution_count": 285,
     "metadata": {},
     "output_type": "execute_result"
    },
    {
     "data": {
      "image/png": "[encoded data removed]",
      "text/plain": [
       "<Figure size 432x288 with 1 Axes>"
      ]
     },
     "metadata": {
      "needs_background": "light"
     },
     "output_type": "display_data"
    }
   ],
   "source": [
    "plt.boxplot(df['Informational'])"
   ]
  },
  {
   "cell_type": "code",
   "execution_count": 286,
   "id": "8836c608",
   "metadata": {},
   "outputs": [
    {
     "data": {
      "text/plain": [
       "{'whiskers': [<matplotlib.lines.Line2D at 0x7fea19a928e0>,\n",
       "  <matplotlib.lines.Line2D at 0x7fea19a92c70>,\n",
       "  <matplotlib.lines.Line2D at 0x7fe9f8bbd250>,\n",
       "  <matplotlib.lines.Line2D at 0x7fe9f8bbd5e0>,\n",
       "  <matplotlib.lines.Line2D at 0x7fe9f8bcab80>,\n",
       "  <matplotlib.lines.Line2D at 0x7fe9f8bcaf10>],\n",
       " 'caps': [<matplotlib.lines.Line2D at 0x7fe9f8bb1040>,\n",
       "  <matplotlib.lines.Line2D at 0x7fe9f8bb13d0>,\n",
       "  <matplotlib.lines.Line2D at 0x7fe9f8bbd970>,\n",
       "  <matplotlib.lines.Line2D at 0x7fe9f8bbdd00>,\n",
       "  <matplotlib.lines.Line2D at 0x7fe9f8bd52e0>,\n",
       "  <matplotlib.lines.Line2D at 0x7fe9f8bd5670>],\n",
       " 'boxes': [<matplotlib.lines.Line2D at 0x7fea19a92550>,\n",
       "  <matplotlib.lines.Line2D at 0x7fe9f8bb1e80>,\n",
       "  <matplotlib.lines.Line2D at 0x7fe9f8bca7f0>],\n",
       " 'medians': [<matplotlib.lines.Line2D at 0x7fe9f8bb1760>,\n",
       "  <matplotlib.lines.Line2D at 0x7fe9f8bca0d0>,\n",
       "  <matplotlib.lines.Line2D at 0x7fe9f8bd5a00>],\n",
       " 'fliers': [<matplotlib.lines.Line2D at 0x7fe9f8bb1af0>,\n",
       "  <matplotlib.lines.Line2D at 0x7fe9f8bca460>,\n",
       "  <matplotlib.lines.Line2D at 0x7fe9f8bd5d90>],\n",
       " 'means': []}"
      ]
     },
     "execution_count": 286,
     "metadata": {},
     "output_type": "execute_result"
    },
    {
     "data": {
      "image/png": "[encoded data removed]",
      "text/plain": [
       "<Figure size 432x288 with 1 Axes>"
      ]
     },
     "metadata": {
      "needs_background": "light"
     },
     "output_type": "display_data"
    }
   ],
   "source": [
    "plt.boxplot(df[['Informational',\n",
    "       'Informational_Duration', 'ProductRelated']])"
   ]
  },
  {
   "cell_type": "code",
   "execution_count": 287,
   "id": "f42a6de8",
   "metadata": {},
   "outputs": [
    {
     "data": {
      "text/plain": [
       "{'whiskers': [<matplotlib.lines.Line2D at 0x7fea19cc01f0>,\n",
       "  <matplotlib.lines.Line2D at 0x7fea19cc0580>,\n",
       "  <matplotlib.lines.Line2D at 0x7fea19cc9b50>,\n",
       "  <matplotlib.lines.Line2D at 0x7fea19cc9ee0>,\n",
       "  <matplotlib.lines.Line2D at 0x7fea19ce44c0>,\n",
       "  <matplotlib.lines.Line2D at 0x7fea19ce4850>],\n",
       " 'caps': [<matplotlib.lines.Line2D at 0x7fea19cc0910>,\n",
       "  <matplotlib.lines.Line2D at 0x7fea19cc0ca0>,\n",
       "  <matplotlib.lines.Line2D at 0x7fea19cd52b0>,\n",
       "  <matplotlib.lines.Line2D at 0x7fea19cd5640>,\n",
       "  <matplotlib.lines.Line2D at 0x7fea19ce4be0>,\n",
       "  <matplotlib.lines.Line2D at 0x7fea19ce4f70>],\n",
       " 'boxes': [<matplotlib.lines.Line2D at 0x7fea19cb0e20>,\n",
       "  <matplotlib.lines.Line2D at 0x7fea19cc9790>,\n",
       "  <matplotlib.lines.Line2D at 0x7fea19ce4130>],\n",
       " 'medians': [<matplotlib.lines.Line2D at 0x7fea19cc9070>,\n",
       "  <matplotlib.lines.Line2D at 0x7fea19cd59d0>,\n",
       "  <matplotlib.lines.Line2D at 0x7fea09de4340>],\n",
       " 'fliers': [<matplotlib.lines.Line2D at 0x7fea19cc9400>,\n",
       "  <matplotlib.lines.Line2D at 0x7fea19cd5d60>,\n",
       "  <matplotlib.lines.Line2D at 0x7fea09de46d0>],\n",
       " 'means': []}"
      ]
     },
     "execution_count": 287,
     "metadata": {},
     "output_type": "execute_result"
    },
    {
     "data": {
      "image/png": "[encoded data removed]",
      "text/plain": [
       "<Figure size 432x288 with 1 Axes>"
      ]
     },
     "metadata": {
      "needs_background": "light"
     },
     "output_type": "display_data"
    }
   ],
   "source": [
    "plt.boxplot(df[['ProductRelated_Duration',\n",
    "       'BounceRates', 'ExitRates']])"
   ]
  },
  {
   "cell_type": "code",
   "execution_count": 288,
   "id": "d6bdd383",
   "metadata": {},
   "outputs": [
    {
     "data": {
      "text/plain": [
       "{'whiskers': [<matplotlib.lines.Line2D at 0x7fe9f8b85fa0>,\n",
       "  <matplotlib.lines.Line2D at 0x7fe9f8b96370>],\n",
       " 'caps': [<matplotlib.lines.Line2D at 0x7fe9f8b96700>,\n",
       "  <matplotlib.lines.Line2D at 0x7fe9f8b96a90>],\n",
       " 'boxes': [<matplotlib.lines.Line2D at 0x7fe9f8b85b80>],\n",
       " 'medians': [<matplotlib.lines.Line2D at 0x7fe9f8b96e20>],\n",
       " 'fliers': [<matplotlib.lines.Line2D at 0x7fe9f8ba11f0>],\n",
       " 'means': []}"
      ]
     },
     "execution_count": 288,
     "metadata": {},
     "output_type": "execute_result"
    },
    {
     "data": {
      "image/png": "[encoded data removed]",
      "text/plain": [
       "<Figure size 432x288 with 1 Axes>"
      ]
     },
     "metadata": {
      "needs_background": "light"
     },
     "output_type": "display_data"
    }
   ],
   "source": [
    "plt.boxplot(df['BounceRates'])"
   ]
  },
  {
   "cell_type": "code",
   "execution_count": 290,
   "id": "a75ebf6b",
   "metadata": {},
   "outputs": [
    {
     "data": {
      "text/plain": [
       "Index(['Administrative', 'Administrative_Duration', 'Informational',\n",
       "       'Informational_Duration', 'ProductRelated', 'ProductRelated_Duration',\n",
       "       'BounceRates', 'ExitRates', 'PageValues', 'SpecialDay', 'Month',\n",
       "       'OperatingSystems', 'Browser', 'Region', 'TrafficType', 'VisitorType',\n",
       "       'Weekend', 'Revenue'],\n",
       "      dtype='object')"
      ]
     },
     "execution_count": 290,
     "metadata": {},
     "output_type": "execute_result"
    }
   ],
   "source": [
    "df.columns"
   ]
  },
  {
   "cell_type": "markdown",
   "id": "8e43c284",
   "metadata": {},
   "source": [
    "# It is apparent that there are issues with the outlier.  We can use log transformation to operate with the outtlier. "
   ]
  },
  {
   "cell_type": "markdown",
   "id": "a2d35b3d",
   "metadata": {},
   "source": [
    "# STEP TWO : KPI INDICATORS AND FEATURE DEVELOPMENT "
   ]
  },
  {
   "cell_type": "code",
   "execution_count": 291,
   "id": "0cdd6d05",
   "metadata": {},
   "outputs": [
    {
     "data": {
      "text/plain": [
       "Index(['Administrative', 'Administrative_Duration', 'Informational',\n",
       "       'Informational_Duration', 'ProductRelated', 'ProductRelated_Duration',\n",
       "       'BounceRates', 'ExitRates', 'PageValues', 'SpecialDay', 'Month',\n",
       "       'OperatingSystems', 'Browser', 'Region', 'TrafficType', 'VisitorType',\n",
       "       'Weekend', 'Revenue'],\n",
       "      dtype='object')"
      ]
     },
     "execution_count": 291,
     "metadata": {},
     "output_type": "execute_result"
    }
   ],
   "source": [
    "df.columns"
   ]
  },
  {
   "cell_type": "markdown",
   "id": "3ddb8b8a",
   "metadata": {},
   "source": [
    "### First KPI and new feature is Average time per page. I have choosen this KPI because it will be helpful to understand which pages are more engaging and might require optimization. Here, I cacnluated the average time per page for administative, informational, and product related pages. "
   ]
  },
  {
   "cell_type": "markdown",
   "id": "fb749028",
   "metadata": {},
   "source": [
    "# I used both Python and SQL Queries to develop KPI "
   ]
  },
  {
   "cell_type": "markdown",
   "id": "d6e9e5f9",
   "metadata": {},
   "source": [
    "# Average Time Spent Per Page "
   ]
  },
  {
   "cell_type": "code",
   "execution_count": 402,
   "id": "badde7f0",
   "metadata": {},
   "outputs": [],
   "source": [
    "df['avg_administrative_time']= df['Administrative_Duration']/df['Administrative']"
   ]
  },
  {
   "cell_type": "code",
   "execution_count": 403,
   "id": "9f50c24b",
   "metadata": {},
   "outputs": [],
   "source": [
    "df['avg_informational_time']= df['Informational_Duration']/df['Informational']"
   ]
  },
  {
   "cell_type": "code",
   "execution_count": 404,
   "id": "954ab4c1",
   "metadata": {},
   "outputs": [],
   "source": [
    "df['avg_product_related_time']=df['ProductRelated_Duration']/df['ProductRelated']"
   ]
  },
  {
   "cell_type": "code",
   "execution_count": 405,
   "id": "470f930f",
   "metadata": {},
   "outputs": [
    {
     "data": {
      "text/plain": [
       "Index(['Administrative', 'Administrative_Duration', 'Informational',\n",
       "       'Informational_Duration', 'ProductRelated', 'ProductRelated_Duration',\n",
       "       'BounceRates', 'ExitRates', 'PageValues', 'SpecialDay', 'Month',\n",
       "       'OperatingSystems', 'Browser', 'Region', 'TrafficType', 'VisitorType',\n",
       "       'Weekend', 'Revenue', 'avg_administrative_time',\n",
       "       'avg_informational_time', 'product_related_time',\n",
       "       'avg_product_related_time', 'Total_interactions', 'Bounch_Exit_Rates'],\n",
       "      dtype='object')"
      ]
     },
     "execution_count": 405,
     "metadata": {},
     "output_type": "execute_result"
    }
   ],
   "source": [
    "df.columns"
   ]
  },
  {
   "cell_type": "code",
   "execution_count": 406,
   "id": "bb1bcfba",
   "metadata": {},
   "outputs": [],
   "source": [
    "df.to_csv('my_data.csv', index=False)\n"
   ]
  },
  {
   "cell_type": "code",
   "execution_count": 407,
   "id": "ed49ca66",
   "metadata": {},
   "outputs": [],
   "source": [
    "query = '''\n",
    "SELECT Administrative_Duration/Administrative, 'BounceRates', 'ExitRates', 'PageValues', 'SpecialDay', 'Month',\n",
    "       'OperatingSystems', 'Browser', 'Region', 'TrafficType', 'VisitorType',\n",
    "       'Weekend', 'Revenue', 'avg_administrative_time',\n",
    "       'avg_informational_time', 'product_related_time'\n",
    "FROM df\n",
    "'''\n",
    "result_df1 = sqldf(query)"
   ]
  },
  {
   "cell_type": "code",
   "execution_count": 408,
   "id": "1f1007de",
   "metadata": {},
   "outputs": [],
   "source": [
    "result_df1 = sqldf(query)\n"
   ]
  },
  {
   "cell_type": "code",
   "execution_count": 409,
   "id": "cd7ae5f7",
   "metadata": {},
   "outputs": [
    {
     "data": {
      "text/html": [
       "<div>\n",
       "<style scoped>\n",
       "    .dataframe tbody tr th:only-of-type {\n",
       "        vertical-align: middle;\n",
       "    }\n",
       "\n",
       "    .dataframe tbody tr th {\n",
       "        vertical-align: top;\n",
       "    }\n",
       "\n",
       "    .dataframe thead th {\n",
       "        text-align: right;\n",
       "    }\n",
       "</style>\n",
       "<table border=\"1\" class=\"dataframe\">\n",
       "  <thead>\n",
       "    <tr style=\"text-align: right;\">\n",
       "      <th></th>\n",
       "      <th>Administrative_Duration/Administrative</th>\n",
       "      <th>'BounceRates'</th>\n",
       "      <th>'ExitRates'</th>\n",
       "      <th>'PageValues'</th>\n",
       "      <th>'SpecialDay'</th>\n",
       "      <th>'Month'</th>\n",
       "      <th>'OperatingSystems'</th>\n",
       "      <th>'Browser'</th>\n",
       "      <th>'Region'</th>\n",
       "      <th>'TrafficType'</th>\n",
       "      <th>'VisitorType'</th>\n",
       "      <th>'Weekend'</th>\n",
       "      <th>'Revenue'</th>\n",
       "      <th>'avg_administrative_time'</th>\n",
       "      <th>'avg_informational_time'</th>\n",
       "      <th>'product_related_time'</th>\n",
       "    </tr>\n",
       "  </thead>\n",
       "  <tbody>\n",
       "    <tr>\n",
       "      <th>0</th>\n",
       "      <td>NaN</td>\n",
       "      <td>BounceRates</td>\n",
       "      <td>ExitRates</td>\n",
       "      <td>PageValues</td>\n",
       "      <td>SpecialDay</td>\n",
       "      <td>Month</td>\n",
       "      <td>OperatingSystems</td>\n",
       "      <td>Browser</td>\n",
       "      <td>Region</td>\n",
       "      <td>TrafficType</td>\n",
       "      <td>VisitorType</td>\n",
       "      <td>Weekend</td>\n",
       "      <td>Revenue</td>\n",
       "      <td>avg_administrative_time</td>\n",
       "      <td>avg_informational_time</td>\n",
       "      <td>product_related_time</td>\n",
       "    </tr>\n",
       "    <tr>\n",
       "      <th>1</th>\n",
       "      <td>NaN</td>\n",
       "      <td>BounceRates</td>\n",
       "      <td>ExitRates</td>\n",
       "      <td>PageValues</td>\n",
       "      <td>SpecialDay</td>\n",
       "      <td>Month</td>\n",
       "      <td>OperatingSystems</td>\n",
       "      <td>Browser</td>\n",
       "      <td>Region</td>\n",
       "      <td>TrafficType</td>\n",
       "      <td>VisitorType</td>\n",
       "      <td>Weekend</td>\n",
       "      <td>Revenue</td>\n",
       "      <td>avg_administrative_time</td>\n",
       "      <td>avg_informational_time</td>\n",
       "      <td>product_related_time</td>\n",
       "    </tr>\n",
       "    <tr>\n",
       "      <th>2</th>\n",
       "      <td>NaN</td>\n",
       "      <td>BounceRates</td>\n",
       "      <td>ExitRates</td>\n",
       "      <td>PageValues</td>\n",
       "      <td>SpecialDay</td>\n",
       "      <td>Month</td>\n",
       "      <td>OperatingSystems</td>\n",
       "      <td>Browser</td>\n",
       "      <td>Region</td>\n",
       "      <td>TrafficType</td>\n",
       "      <td>VisitorType</td>\n",
       "      <td>Weekend</td>\n",
       "      <td>Revenue</td>\n",
       "      <td>avg_administrative_time</td>\n",
       "      <td>avg_informational_time</td>\n",
       "      <td>product_related_time</td>\n",
       "    </tr>\n",
       "    <tr>\n",
       "      <th>3</th>\n",
       "      <td>NaN</td>\n",
       "      <td>BounceRates</td>\n",
       "      <td>ExitRates</td>\n",
       "      <td>PageValues</td>\n",
       "      <td>SpecialDay</td>\n",
       "      <td>Month</td>\n",
       "      <td>OperatingSystems</td>\n",
       "      <td>Browser</td>\n",
       "      <td>Region</td>\n",
       "      <td>TrafficType</td>\n",
       "      <td>VisitorType</td>\n",
       "      <td>Weekend</td>\n",
       "      <td>Revenue</td>\n",
       "      <td>avg_administrative_time</td>\n",
       "      <td>avg_informational_time</td>\n",
       "      <td>product_related_time</td>\n",
       "    </tr>\n",
       "    <tr>\n",
       "      <th>4</th>\n",
       "      <td>NaN</td>\n",
       "      <td>BounceRates</td>\n",
       "      <td>ExitRates</td>\n",
       "      <td>PageValues</td>\n",
       "      <td>SpecialDay</td>\n",
       "      <td>Month</td>\n",
       "      <td>OperatingSystems</td>\n",
       "      <td>Browser</td>\n",
       "      <td>Region</td>\n",
       "      <td>TrafficType</td>\n",
       "      <td>VisitorType</td>\n",
       "      <td>Weekend</td>\n",
       "      <td>Revenue</td>\n",
       "      <td>avg_administrative_time</td>\n",
       "      <td>avg_informational_time</td>\n",
       "      <td>product_related_time</td>\n",
       "    </tr>\n",
       "    <tr>\n",
       "      <th>...</th>\n",
       "      <td>...</td>\n",
       "      <td>...</td>\n",
       "      <td>...</td>\n",
       "      <td>...</td>\n",
       "      <td>...</td>\n",
       "      <td>...</td>\n",
       "      <td>...</td>\n",
       "      <td>...</td>\n",
       "      <td>...</td>\n",
       "      <td>...</td>\n",
       "      <td>...</td>\n",
       "      <td>...</td>\n",
       "      <td>...</td>\n",
       "      <td>...</td>\n",
       "      <td>...</td>\n",
       "      <td>...</td>\n",
       "    </tr>\n",
       "    <tr>\n",
       "      <th>12200</th>\n",
       "      <td>48.333333</td>\n",
       "      <td>BounceRates</td>\n",
       "      <td>ExitRates</td>\n",
       "      <td>PageValues</td>\n",
       "      <td>SpecialDay</td>\n",
       "      <td>Month</td>\n",
       "      <td>OperatingSystems</td>\n",
       "      <td>Browser</td>\n",
       "      <td>Region</td>\n",
       "      <td>TrafficType</td>\n",
       "      <td>VisitorType</td>\n",
       "      <td>Weekend</td>\n",
       "      <td>Revenue</td>\n",
       "      <td>avg_administrative_time</td>\n",
       "      <td>avg_informational_time</td>\n",
       "      <td>product_related_time</td>\n",
       "    </tr>\n",
       "    <tr>\n",
       "      <th>12201</th>\n",
       "      <td>NaN</td>\n",
       "      <td>BounceRates</td>\n",
       "      <td>ExitRates</td>\n",
       "      <td>PageValues</td>\n",
       "      <td>SpecialDay</td>\n",
       "      <td>Month</td>\n",
       "      <td>OperatingSystems</td>\n",
       "      <td>Browser</td>\n",
       "      <td>Region</td>\n",
       "      <td>TrafficType</td>\n",
       "      <td>VisitorType</td>\n",
       "      <td>Weekend</td>\n",
       "      <td>Revenue</td>\n",
       "      <td>avg_administrative_time</td>\n",
       "      <td>avg_informational_time</td>\n",
       "      <td>product_related_time</td>\n",
       "    </tr>\n",
       "    <tr>\n",
       "      <th>12202</th>\n",
       "      <td>NaN</td>\n",
       "      <td>BounceRates</td>\n",
       "      <td>ExitRates</td>\n",
       "      <td>PageValues</td>\n",
       "      <td>SpecialDay</td>\n",
       "      <td>Month</td>\n",
       "      <td>OperatingSystems</td>\n",
       "      <td>Browser</td>\n",
       "      <td>Region</td>\n",
       "      <td>TrafficType</td>\n",
       "      <td>VisitorType</td>\n",
       "      <td>Weekend</td>\n",
       "      <td>Revenue</td>\n",
       "      <td>avg_administrative_time</td>\n",
       "      <td>avg_informational_time</td>\n",
       "      <td>product_related_time</td>\n",
       "    </tr>\n",
       "    <tr>\n",
       "      <th>12203</th>\n",
       "      <td>18.750000</td>\n",
       "      <td>BounceRates</td>\n",
       "      <td>ExitRates</td>\n",
       "      <td>PageValues</td>\n",
       "      <td>SpecialDay</td>\n",
       "      <td>Month</td>\n",
       "      <td>OperatingSystems</td>\n",
       "      <td>Browser</td>\n",
       "      <td>Region</td>\n",
       "      <td>TrafficType</td>\n",
       "      <td>VisitorType</td>\n",
       "      <td>Weekend</td>\n",
       "      <td>Revenue</td>\n",
       "      <td>avg_administrative_time</td>\n",
       "      <td>avg_informational_time</td>\n",
       "      <td>product_related_time</td>\n",
       "    </tr>\n",
       "    <tr>\n",
       "      <th>12204</th>\n",
       "      <td>NaN</td>\n",
       "      <td>BounceRates</td>\n",
       "      <td>ExitRates</td>\n",
       "      <td>PageValues</td>\n",
       "      <td>SpecialDay</td>\n",
       "      <td>Month</td>\n",
       "      <td>OperatingSystems</td>\n",
       "      <td>Browser</td>\n",
       "      <td>Region</td>\n",
       "      <td>TrafficType</td>\n",
       "      <td>VisitorType</td>\n",
       "      <td>Weekend</td>\n",
       "      <td>Revenue</td>\n",
       "      <td>avg_administrative_time</td>\n",
       "      <td>avg_informational_time</td>\n",
       "      <td>product_related_time</td>\n",
       "    </tr>\n",
       "  </tbody>\n",
       "</table>\n",
       "<p>12205 rows × 16 columns</p>\n",
       "</div>"
      ],
      "text/plain": [
       "       Administrative_Duration/Administrative 'BounceRates' 'ExitRates'  \\\n",
       "0                                         NaN   BounceRates   ExitRates   \n",
       "1                                         NaN   BounceRates   ExitRates   \n",
       "2                                         NaN   BounceRates   ExitRates   \n",
       "3                                         NaN   BounceRates   ExitRates   \n",
       "4                                         NaN   BounceRates   ExitRates   \n",
       "...                                       ...           ...         ...   \n",
       "12200                               48.333333   BounceRates   ExitRates   \n",
       "12201                                     NaN   BounceRates   ExitRates   \n",
       "12202                                     NaN   BounceRates   ExitRates   \n",
       "12203                               18.750000   BounceRates   ExitRates   \n",
       "12204                                     NaN   BounceRates   ExitRates   \n",
       "\n",
       "      'PageValues' 'SpecialDay' 'Month' 'OperatingSystems' 'Browser' 'Region'  \\\n",
       "0       PageValues   SpecialDay   Month   OperatingSystems   Browser   Region   \n",
       "1       PageValues   SpecialDay   Month   OperatingSystems   Browser   Region   \n",
       "2       PageValues   SpecialDay   Month   OperatingSystems   Browser   Region   \n",
       "3       PageValues   SpecialDay   Month   OperatingSystems   Browser   Region   \n",
       "4       PageValues   SpecialDay   Month   OperatingSystems   Browser   Region   \n",
       "...            ...          ...     ...                ...       ...      ...   \n",
       "12200   PageValues   SpecialDay   Month   OperatingSystems   Browser   Region   \n",
       "12201   PageValues   SpecialDay   Month   OperatingSystems   Browser   Region   \n",
       "12202   PageValues   SpecialDay   Month   OperatingSystems   Browser   Region   \n",
       "12203   PageValues   SpecialDay   Month   OperatingSystems   Browser   Region   \n",
       "12204   PageValues   SpecialDay   Month   OperatingSystems   Browser   Region   \n",
       "\n",
       "      'TrafficType' 'VisitorType' 'Weekend' 'Revenue'  \\\n",
       "0       TrafficType   VisitorType   Weekend   Revenue   \n",
       "1       TrafficType   VisitorType   Weekend   Revenue   \n",
       "2       TrafficType   VisitorType   Weekend   Revenue   \n",
       "3       TrafficType   VisitorType   Weekend   Revenue   \n",
       "4       TrafficType   VisitorType   Weekend   Revenue   \n",
       "...             ...           ...       ...       ...   \n",
       "12200   TrafficType   VisitorType   Weekend   Revenue   \n",
       "12201   TrafficType   VisitorType   Weekend   Revenue   \n",
       "12202   TrafficType   VisitorType   Weekend   Revenue   \n",
       "12203   TrafficType   VisitorType   Weekend   Revenue   \n",
       "12204   TrafficType   VisitorType   Weekend   Revenue   \n",
       "\n",
       "      'avg_administrative_time' 'avg_informational_time'  \\\n",
       "0       avg_administrative_time   avg_informational_time   \n",
       "1       avg_administrative_time   avg_informational_time   \n",
       "2       avg_administrative_time   avg_informational_time   \n",
       "3       avg_administrative_time   avg_informational_time   \n",
       "4       avg_administrative_time   avg_informational_time   \n",
       "...                         ...                      ...   \n",
       "12200   avg_administrative_time   avg_informational_time   \n",
       "12201   avg_administrative_time   avg_informational_time   \n",
       "12202   avg_administrative_time   avg_informational_time   \n",
       "12203   avg_administrative_time   avg_informational_time   \n",
       "12204   avg_administrative_time   avg_informational_time   \n",
       "\n",
       "      'product_related_time'  \n",
       "0       product_related_time  \n",
       "1       product_related_time  \n",
       "2       product_related_time  \n",
       "3       product_related_time  \n",
       "4       product_related_time  \n",
       "...                      ...  \n",
       "12200   product_related_time  \n",
       "12201   product_related_time  \n",
       "12202   product_related_time  \n",
       "12203   product_related_time  \n",
       "12204   product_related_time  \n",
       "\n",
       "[12205 rows x 16 columns]"
      ]
     },
     "execution_count": 409,
     "metadata": {},
     "output_type": "execute_result"
    }
   ],
   "source": [
    "result_df1"
   ]
  },
  {
   "cell_type": "markdown",
   "id": "03231fc5",
   "metadata": {},
   "source": [
    "# Total Interactions"
   ]
  },
  {
   "cell_type": "markdown",
   "id": "55025eb0",
   "metadata": {},
   "source": [
    "## The second KPI I choose is the interaction rate. I measured the total interaction by summing the values in the Administrative, informational and product related columns. Then I divded it when Revenue = False. That the user interacted with the website but did not purchase analyting"
   ]
  },
  {
   "cell_type": "code",
   "execution_count": 410,
   "id": "2d01f5ea",
   "metadata": {},
   "outputs": [
    {
     "data": {
      "text/plain": [
       "Index(['Administrative', 'Administrative_Duration', 'Informational',\n",
       "       'Informational_Duration', 'ProductRelated', 'ProductRelated_Duration',\n",
       "       'BounceRates', 'ExitRates', 'PageValues', 'SpecialDay', 'Month',\n",
       "       'OperatingSystems', 'Browser', 'Region', 'TrafficType', 'VisitorType',\n",
       "       'Weekend', 'Revenue', 'avg_administrative_time',\n",
       "       'avg_informational_time', 'product_related_time',\n",
       "       'avg_product_related_time', 'Total_interactions', 'Bounch_Exit_Rates'],\n",
       "      dtype='object')"
      ]
     },
     "execution_count": 410,
     "metadata": {},
     "output_type": "execute_result"
    }
   ],
   "source": [
    "df.columns"
   ]
  },
  {
   "cell_type": "code",
   "execution_count": 411,
   "id": "87c48190",
   "metadata": {},
   "outputs": [],
   "source": [
    "df['Total_interactions'] = df['Administrative']+df['Informational']+df['ProductRelated']"
   ]
  },
  {
   "cell_type": "code",
   "execution_count": 412,
   "id": "146e88f6",
   "metadata": {},
   "outputs": [
    {
     "data": {
      "text/plain": [
       "425872"
      ]
     },
     "execution_count": 412,
     "metadata": {},
     "output_type": "execute_result"
    }
   ],
   "source": [
    "(df['Total_interactions']).sum()"
   ]
  },
  {
   "cell_type": "code",
   "execution_count": 413,
   "id": "575c3c21",
   "metadata": {},
   "outputs": [
    {
     "data": {
      "text/plain": [
       "41.3588423812761"
      ]
     },
     "execution_count": 413,
     "metadata": {},
     "output_type": "execute_result"
    }
   ],
   "source": [
    "425872/10297\n"
   ]
  },
  {
   "cell_type": "code",
   "execution_count": 414,
   "id": "bac4681b",
   "metadata": {
    "scrolled": true
   },
   "outputs": [
    {
     "data": {
      "text/html": [
       "<div>\n",
       "<style scoped>\n",
       "    .dataframe tbody tr th:only-of-type {\n",
       "        vertical-align: middle;\n",
       "    }\n",
       "\n",
       "    .dataframe tbody tr th {\n",
       "        vertical-align: top;\n",
       "    }\n",
       "\n",
       "    .dataframe thead th {\n",
       "        text-align: right;\n",
       "    }\n",
       "</style>\n",
       "<table border=\"1\" class=\"dataframe\">\n",
       "  <thead>\n",
       "    <tr style=\"text-align: right;\">\n",
       "      <th></th>\n",
       "      <th>Administrative</th>\n",
       "      <th>Administrative_Duration</th>\n",
       "      <th>Informational</th>\n",
       "      <th>Informational_Duration</th>\n",
       "      <th>ProductRelated</th>\n",
       "      <th>ProductRelated_Duration</th>\n",
       "      <th>BounceRates</th>\n",
       "      <th>ExitRates</th>\n",
       "      <th>PageValues</th>\n",
       "      <th>SpecialDay</th>\n",
       "      <th>...</th>\n",
       "      <th>TrafficType</th>\n",
       "      <th>VisitorType</th>\n",
       "      <th>Weekend</th>\n",
       "      <th>Revenue</th>\n",
       "      <th>avg_administrative_time</th>\n",
       "      <th>avg_informational_time</th>\n",
       "      <th>product_related_time</th>\n",
       "      <th>avg_product_related_time</th>\n",
       "      <th>Total_interactions</th>\n",
       "      <th>Bounch_Exit_Rates</th>\n",
       "    </tr>\n",
       "  </thead>\n",
       "  <tbody>\n",
       "    <tr>\n",
       "      <th>0</th>\n",
       "      <td>0</td>\n",
       "      <td>0.0</td>\n",
       "      <td>0</td>\n",
       "      <td>0.0</td>\n",
       "      <td>1</td>\n",
       "      <td>0.000000</td>\n",
       "      <td>0.20</td>\n",
       "      <td>0.20</td>\n",
       "      <td>0.0</td>\n",
       "      <td>0.0</td>\n",
       "      <td>...</td>\n",
       "      <td>1</td>\n",
       "      <td>Returning_Visitor</td>\n",
       "      <td>False</td>\n",
       "      <td>False</td>\n",
       "      <td>NaN</td>\n",
       "      <td>NaN</td>\n",
       "      <td>0.000000</td>\n",
       "      <td>0.000000</td>\n",
       "      <td>1</td>\n",
       "      <td>0.00</td>\n",
       "    </tr>\n",
       "    <tr>\n",
       "      <th>1</th>\n",
       "      <td>0</td>\n",
       "      <td>0.0</td>\n",
       "      <td>0</td>\n",
       "      <td>0.0</td>\n",
       "      <td>2</td>\n",
       "      <td>64.000000</td>\n",
       "      <td>0.00</td>\n",
       "      <td>0.10</td>\n",
       "      <td>0.0</td>\n",
       "      <td>0.0</td>\n",
       "      <td>...</td>\n",
       "      <td>2</td>\n",
       "      <td>Returning_Visitor</td>\n",
       "      <td>False</td>\n",
       "      <td>False</td>\n",
       "      <td>NaN</td>\n",
       "      <td>NaN</td>\n",
       "      <td>32.000000</td>\n",
       "      <td>32.000000</td>\n",
       "      <td>2</td>\n",
       "      <td>-0.10</td>\n",
       "    </tr>\n",
       "    <tr>\n",
       "      <th>2</th>\n",
       "      <td>0</td>\n",
       "      <td>0.0</td>\n",
       "      <td>0</td>\n",
       "      <td>0.0</td>\n",
       "      <td>1</td>\n",
       "      <td>0.000000</td>\n",
       "      <td>0.20</td>\n",
       "      <td>0.20</td>\n",
       "      <td>0.0</td>\n",
       "      <td>0.0</td>\n",
       "      <td>...</td>\n",
       "      <td>3</td>\n",
       "      <td>Returning_Visitor</td>\n",
       "      <td>False</td>\n",
       "      <td>False</td>\n",
       "      <td>NaN</td>\n",
       "      <td>NaN</td>\n",
       "      <td>0.000000</td>\n",
       "      <td>0.000000</td>\n",
       "      <td>1</td>\n",
       "      <td>0.00</td>\n",
       "    </tr>\n",
       "    <tr>\n",
       "      <th>3</th>\n",
       "      <td>0</td>\n",
       "      <td>0.0</td>\n",
       "      <td>0</td>\n",
       "      <td>0.0</td>\n",
       "      <td>2</td>\n",
       "      <td>2.666667</td>\n",
       "      <td>0.05</td>\n",
       "      <td>0.14</td>\n",
       "      <td>0.0</td>\n",
       "      <td>0.0</td>\n",
       "      <td>...</td>\n",
       "      <td>4</td>\n",
       "      <td>Returning_Visitor</td>\n",
       "      <td>False</td>\n",
       "      <td>False</td>\n",
       "      <td>NaN</td>\n",
       "      <td>NaN</td>\n",
       "      <td>1.333333</td>\n",
       "      <td>1.333333</td>\n",
       "      <td>2</td>\n",
       "      <td>-0.09</td>\n",
       "    </tr>\n",
       "    <tr>\n",
       "      <th>4</th>\n",
       "      <td>0</td>\n",
       "      <td>0.0</td>\n",
       "      <td>0</td>\n",
       "      <td>0.0</td>\n",
       "      <td>10</td>\n",
       "      <td>627.500000</td>\n",
       "      <td>0.02</td>\n",
       "      <td>0.05</td>\n",
       "      <td>0.0</td>\n",
       "      <td>0.0</td>\n",
       "      <td>...</td>\n",
       "      <td>4</td>\n",
       "      <td>Returning_Visitor</td>\n",
       "      <td>True</td>\n",
       "      <td>False</td>\n",
       "      <td>NaN</td>\n",
       "      <td>NaN</td>\n",
       "      <td>62.750000</td>\n",
       "      <td>62.750000</td>\n",
       "      <td>10</td>\n",
       "      <td>-0.03</td>\n",
       "    </tr>\n",
       "  </tbody>\n",
       "</table>\n",
       "<p>5 rows × 24 columns</p>\n",
       "</div>"
      ],
      "text/plain": [
       "   Administrative  Administrative_Duration  Informational  \\\n",
       "0               0                      0.0              0   \n",
       "1               0                      0.0              0   \n",
       "2               0                      0.0              0   \n",
       "3               0                      0.0              0   \n",
       "4               0                      0.0              0   \n",
       "\n",
       "   Informational_Duration  ProductRelated  ProductRelated_Duration  \\\n",
       "0                     0.0               1                 0.000000   \n",
       "1                     0.0               2                64.000000   \n",
       "2                     0.0               1                 0.000000   \n",
       "3                     0.0               2                 2.666667   \n",
       "4                     0.0              10               627.500000   \n",
       "\n",
       "   BounceRates  ExitRates  PageValues  SpecialDay  ... TrafficType  \\\n",
       "0         0.20       0.20         0.0         0.0  ...           1   \n",
       "1         0.00       0.10         0.0         0.0  ...           2   \n",
       "2         0.20       0.20         0.0         0.0  ...           3   \n",
       "3         0.05       0.14         0.0         0.0  ...           4   \n",
       "4         0.02       0.05         0.0         0.0  ...           4   \n",
       "\n",
       "         VisitorType  Weekend  Revenue  avg_administrative_time  \\\n",
       "0  Returning_Visitor    False    False                      NaN   \n",
       "1  Returning_Visitor    False    False                      NaN   \n",
       "2  Returning_Visitor    False    False                      NaN   \n",
       "3  Returning_Visitor    False    False                      NaN   \n",
       "4  Returning_Visitor     True    False                      NaN   \n",
       "\n",
       "  avg_informational_time  product_related_time  avg_product_related_time  \\\n",
       "0                    NaN              0.000000                  0.000000   \n",
       "1                    NaN             32.000000                 32.000000   \n",
       "2                    NaN              0.000000                  0.000000   \n",
       "3                    NaN              1.333333                  1.333333   \n",
       "4                    NaN             62.750000                 62.750000   \n",
       "\n",
       "   Total_interactions  Bounch_Exit_Rates  \n",
       "0                   1               0.00  \n",
       "1                   2              -0.10  \n",
       "2                   1               0.00  \n",
       "3                   2              -0.09  \n",
       "4                  10              -0.03  \n",
       "\n",
       "[5 rows x 24 columns]"
      ]
     },
     "execution_count": 414,
     "metadata": {},
     "output_type": "execute_result"
    }
   ],
   "source": [
    "df.head()"
   ]
  },
  {
   "cell_type": "markdown",
   "id": "2587b2f8",
   "metadata": {},
   "source": [
    "# KPI: Difference between BounchRates and ExitRates"
   ]
  },
  {
   "cell_type": "markdown",
   "id": "90cde0cf",
   "metadata": {},
   "source": [
    "## My third KPI is to determine the difference between Bounch and Exit Rates. A higher difference indicates that visitors are bouncing more frequently rather than leaving the site after visiting multiple pages."
   ]
  },
  {
   "cell_type": "code",
   "execution_count": 415,
   "id": "33ddfd39",
   "metadata": {},
   "outputs": [],
   "source": [
    "df['Bounch_Exit_Rates'] =df['BounceRates']-df['ExitRates']"
   ]
  },
  {
   "cell_type": "code",
   "execution_count": 416,
   "id": "257a38f1",
   "metadata": {},
   "outputs": [
    {
     "data": {
      "text/plain": [
       "Index(['Administrative', 'Administrative_Duration', 'Informational',\n",
       "       'Informational_Duration', 'ProductRelated', 'ProductRelated_Duration',\n",
       "       'BounceRates', 'ExitRates', 'PageValues', 'SpecialDay', 'Month',\n",
       "       'OperatingSystems', 'Browser', 'Region', 'TrafficType', 'VisitorType',\n",
       "       'Weekend', 'Revenue', 'avg_administrative_time',\n",
       "       'avg_informational_time', 'product_related_time',\n",
       "       'avg_product_related_time', 'Total_interactions', 'Bounch_Exit_Rates'],\n",
       "      dtype='object')"
      ]
     },
     "execution_count": 416,
     "metadata": {},
     "output_type": "execute_result"
    }
   ],
   "source": [
    "df.columns"
   ]
  },
  {
   "cell_type": "code",
   "execution_count": 417,
   "id": "37e6af6e",
   "metadata": {},
   "outputs": [
    {
     "data": {
      "text/html": [
       "<div>\n",
       "<style scoped>\n",
       "    .dataframe tbody tr th:only-of-type {\n",
       "        vertical-align: middle;\n",
       "    }\n",
       "\n",
       "    .dataframe tbody tr th {\n",
       "        vertical-align: top;\n",
       "    }\n",
       "\n",
       "    .dataframe thead th {\n",
       "        text-align: right;\n",
       "    }\n",
       "</style>\n",
       "<table border=\"1\" class=\"dataframe\">\n",
       "  <thead>\n",
       "    <tr style=\"text-align: right;\">\n",
       "      <th></th>\n",
       "      <th>Administrative</th>\n",
       "      <th>Administrative_Duration</th>\n",
       "      <th>Informational</th>\n",
       "      <th>Informational_Duration</th>\n",
       "      <th>ProductRelated</th>\n",
       "      <th>ProductRelated_Duration</th>\n",
       "      <th>BounceRates</th>\n",
       "      <th>ExitRates</th>\n",
       "      <th>PageValues</th>\n",
       "      <th>SpecialDay</th>\n",
       "      <th>...</th>\n",
       "      <th>TrafficType</th>\n",
       "      <th>VisitorType</th>\n",
       "      <th>Weekend</th>\n",
       "      <th>Revenue</th>\n",
       "      <th>avg_administrative_time</th>\n",
       "      <th>avg_informational_time</th>\n",
       "      <th>product_related_time</th>\n",
       "      <th>avg_product_related_time</th>\n",
       "      <th>Total_interactions</th>\n",
       "      <th>Bounch_Exit_Rates</th>\n",
       "    </tr>\n",
       "  </thead>\n",
       "  <tbody>\n",
       "    <tr>\n",
       "      <th>0</th>\n",
       "      <td>0</td>\n",
       "      <td>0.0</td>\n",
       "      <td>0</td>\n",
       "      <td>0.0</td>\n",
       "      <td>1</td>\n",
       "      <td>0.000000</td>\n",
       "      <td>0.20</td>\n",
       "      <td>0.20</td>\n",
       "      <td>0.0</td>\n",
       "      <td>0.0</td>\n",
       "      <td>...</td>\n",
       "      <td>1</td>\n",
       "      <td>Returning_Visitor</td>\n",
       "      <td>False</td>\n",
       "      <td>False</td>\n",
       "      <td>NaN</td>\n",
       "      <td>NaN</td>\n",
       "      <td>0.000000</td>\n",
       "      <td>0.000000</td>\n",
       "      <td>1</td>\n",
       "      <td>0.00</td>\n",
       "    </tr>\n",
       "    <tr>\n",
       "      <th>1</th>\n",
       "      <td>0</td>\n",
       "      <td>0.0</td>\n",
       "      <td>0</td>\n",
       "      <td>0.0</td>\n",
       "      <td>2</td>\n",
       "      <td>64.000000</td>\n",
       "      <td>0.00</td>\n",
       "      <td>0.10</td>\n",
       "      <td>0.0</td>\n",
       "      <td>0.0</td>\n",
       "      <td>...</td>\n",
       "      <td>2</td>\n",
       "      <td>Returning_Visitor</td>\n",
       "      <td>False</td>\n",
       "      <td>False</td>\n",
       "      <td>NaN</td>\n",
       "      <td>NaN</td>\n",
       "      <td>32.000000</td>\n",
       "      <td>32.000000</td>\n",
       "      <td>2</td>\n",
       "      <td>-0.10</td>\n",
       "    </tr>\n",
       "    <tr>\n",
       "      <th>2</th>\n",
       "      <td>0</td>\n",
       "      <td>0.0</td>\n",
       "      <td>0</td>\n",
       "      <td>0.0</td>\n",
       "      <td>1</td>\n",
       "      <td>0.000000</td>\n",
       "      <td>0.20</td>\n",
       "      <td>0.20</td>\n",
       "      <td>0.0</td>\n",
       "      <td>0.0</td>\n",
       "      <td>...</td>\n",
       "      <td>3</td>\n",
       "      <td>Returning_Visitor</td>\n",
       "      <td>False</td>\n",
       "      <td>False</td>\n",
       "      <td>NaN</td>\n",
       "      <td>NaN</td>\n",
       "      <td>0.000000</td>\n",
       "      <td>0.000000</td>\n",
       "      <td>1</td>\n",
       "      <td>0.00</td>\n",
       "    </tr>\n",
       "    <tr>\n",
       "      <th>3</th>\n",
       "      <td>0</td>\n",
       "      <td>0.0</td>\n",
       "      <td>0</td>\n",
       "      <td>0.0</td>\n",
       "      <td>2</td>\n",
       "      <td>2.666667</td>\n",
       "      <td>0.05</td>\n",
       "      <td>0.14</td>\n",
       "      <td>0.0</td>\n",
       "      <td>0.0</td>\n",
       "      <td>...</td>\n",
       "      <td>4</td>\n",
       "      <td>Returning_Visitor</td>\n",
       "      <td>False</td>\n",
       "      <td>False</td>\n",
       "      <td>NaN</td>\n",
       "      <td>NaN</td>\n",
       "      <td>1.333333</td>\n",
       "      <td>1.333333</td>\n",
       "      <td>2</td>\n",
       "      <td>-0.09</td>\n",
       "    </tr>\n",
       "    <tr>\n",
       "      <th>4</th>\n",
       "      <td>0</td>\n",
       "      <td>0.0</td>\n",
       "      <td>0</td>\n",
       "      <td>0.0</td>\n",
       "      <td>10</td>\n",
       "      <td>627.500000</td>\n",
       "      <td>0.02</td>\n",
       "      <td>0.05</td>\n",
       "      <td>0.0</td>\n",
       "      <td>0.0</td>\n",
       "      <td>...</td>\n",
       "      <td>4</td>\n",
       "      <td>Returning_Visitor</td>\n",
       "      <td>True</td>\n",
       "      <td>False</td>\n",
       "      <td>NaN</td>\n",
       "      <td>NaN</td>\n",
       "      <td>62.750000</td>\n",
       "      <td>62.750000</td>\n",
       "      <td>10</td>\n",
       "      <td>-0.03</td>\n",
       "    </tr>\n",
       "  </tbody>\n",
       "</table>\n",
       "<p>5 rows × 24 columns</p>\n",
       "</div>"
      ],
      "text/plain": [
       "   Administrative  Administrative_Duration  Informational  \\\n",
       "0               0                      0.0              0   \n",
       "1               0                      0.0              0   \n",
       "2               0                      0.0              0   \n",
       "3               0                      0.0              0   \n",
       "4               0                      0.0              0   \n",
       "\n",
       "   Informational_Duration  ProductRelated  ProductRelated_Duration  \\\n",
       "0                     0.0               1                 0.000000   \n",
       "1                     0.0               2                64.000000   \n",
       "2                     0.0               1                 0.000000   \n",
       "3                     0.0               2                 2.666667   \n",
       "4                     0.0              10               627.500000   \n",
       "\n",
       "   BounceRates  ExitRates  PageValues  SpecialDay  ... TrafficType  \\\n",
       "0         0.20       0.20         0.0         0.0  ...           1   \n",
       "1         0.00       0.10         0.0         0.0  ...           2   \n",
       "2         0.20       0.20         0.0         0.0  ...           3   \n",
       "3         0.05       0.14         0.0         0.0  ...           4   \n",
       "4         0.02       0.05         0.0         0.0  ...           4   \n",
       "\n",
       "         VisitorType  Weekend  Revenue  avg_administrative_time  \\\n",
       "0  Returning_Visitor    False    False                      NaN   \n",
       "1  Returning_Visitor    False    False                      NaN   \n",
       "2  Returning_Visitor    False    False                      NaN   \n",
       "3  Returning_Visitor    False    False                      NaN   \n",
       "4  Returning_Visitor     True    False                      NaN   \n",
       "\n",
       "  avg_informational_time  product_related_time  avg_product_related_time  \\\n",
       "0                    NaN              0.000000                  0.000000   \n",
       "1                    NaN             32.000000                 32.000000   \n",
       "2                    NaN              0.000000                  0.000000   \n",
       "3                    NaN              1.333333                  1.333333   \n",
       "4                    NaN             62.750000                 62.750000   \n",
       "\n",
       "   Total_interactions  Bounch_Exit_Rates  \n",
       "0                   1               0.00  \n",
       "1                   2              -0.10  \n",
       "2                   1               0.00  \n",
       "3                   2              -0.09  \n",
       "4                  10              -0.03  \n",
       "\n",
       "[5 rows x 24 columns]"
      ]
     },
     "execution_count": 417,
     "metadata": {},
     "output_type": "execute_result"
    }
   ],
   "source": [
    "df.head()"
   ]
  },
  {
   "cell_type": "markdown",
   "id": "11ef36c3",
   "metadata": {},
   "source": [
    "# KPI: Purchase Intent\n"
   ]
  },
  {
   "cell_type": "markdown",
   "id": "9e5c66b3",
   "metadata": {},
   "source": [
    "#  I have created another KPI which is purchase intent. This is based on the revenue. If the revenue is 1 then the purchase is 1, while the revenue is 0 then the purchase is also 0 "
   ]
  },
  {
   "cell_type": "code",
   "execution_count": 418,
   "id": "117da3cf",
   "metadata": {},
   "outputs": [],
   "source": [
    "df['Purchase'] = df['Revenue'].apply(lambda x: 1 if x==1 else 0)\n"
   ]
  },
  {
   "cell_type": "code",
   "execution_count": 419,
   "id": "2c09404d",
   "metadata": {
    "scrolled": true
   },
   "outputs": [
    {
     "data": {
      "text/html": [
       "<div>\n",
       "<style scoped>\n",
       "    .dataframe tbody tr th:only-of-type {\n",
       "        vertical-align: middle;\n",
       "    }\n",
       "\n",
       "    .dataframe tbody tr th {\n",
       "        vertical-align: top;\n",
       "    }\n",
       "\n",
       "    .dataframe thead th {\n",
       "        text-align: right;\n",
       "    }\n",
       "</style>\n",
       "<table border=\"1\" class=\"dataframe\">\n",
       "  <thead>\n",
       "    <tr style=\"text-align: right;\">\n",
       "      <th></th>\n",
       "      <th>Administrative</th>\n",
       "      <th>Administrative_Duration</th>\n",
       "      <th>Informational</th>\n",
       "      <th>Informational_Duration</th>\n",
       "      <th>ProductRelated</th>\n",
       "      <th>ProductRelated_Duration</th>\n",
       "      <th>BounceRates</th>\n",
       "      <th>ExitRates</th>\n",
       "      <th>PageValues</th>\n",
       "      <th>SpecialDay</th>\n",
       "      <th>...</th>\n",
       "      <th>VisitorType</th>\n",
       "      <th>Weekend</th>\n",
       "      <th>Revenue</th>\n",
       "      <th>avg_administrative_time</th>\n",
       "      <th>avg_informational_time</th>\n",
       "      <th>product_related_time</th>\n",
       "      <th>avg_product_related_time</th>\n",
       "      <th>Total_interactions</th>\n",
       "      <th>Bounch_Exit_Rates</th>\n",
       "      <th>Purchase</th>\n",
       "    </tr>\n",
       "  </thead>\n",
       "  <tbody>\n",
       "    <tr>\n",
       "      <th>0</th>\n",
       "      <td>0</td>\n",
       "      <td>0.0</td>\n",
       "      <td>0</td>\n",
       "      <td>0.0</td>\n",
       "      <td>1</td>\n",
       "      <td>0.000000</td>\n",
       "      <td>0.20</td>\n",
       "      <td>0.20</td>\n",
       "      <td>0.0</td>\n",
       "      <td>0.0</td>\n",
       "      <td>...</td>\n",
       "      <td>Returning_Visitor</td>\n",
       "      <td>False</td>\n",
       "      <td>False</td>\n",
       "      <td>NaN</td>\n",
       "      <td>NaN</td>\n",
       "      <td>0.000000</td>\n",
       "      <td>0.000000</td>\n",
       "      <td>1</td>\n",
       "      <td>0.00</td>\n",
       "      <td>0</td>\n",
       "    </tr>\n",
       "    <tr>\n",
       "      <th>1</th>\n",
       "      <td>0</td>\n",
       "      <td>0.0</td>\n",
       "      <td>0</td>\n",
       "      <td>0.0</td>\n",
       "      <td>2</td>\n",
       "      <td>64.000000</td>\n",
       "      <td>0.00</td>\n",
       "      <td>0.10</td>\n",
       "      <td>0.0</td>\n",
       "      <td>0.0</td>\n",
       "      <td>...</td>\n",
       "      <td>Returning_Visitor</td>\n",
       "      <td>False</td>\n",
       "      <td>False</td>\n",
       "      <td>NaN</td>\n",
       "      <td>NaN</td>\n",
       "      <td>32.000000</td>\n",
       "      <td>32.000000</td>\n",
       "      <td>2</td>\n",
       "      <td>-0.10</td>\n",
       "      <td>0</td>\n",
       "    </tr>\n",
       "    <tr>\n",
       "      <th>2</th>\n",
       "      <td>0</td>\n",
       "      <td>0.0</td>\n",
       "      <td>0</td>\n",
       "      <td>0.0</td>\n",
       "      <td>1</td>\n",
       "      <td>0.000000</td>\n",
       "      <td>0.20</td>\n",
       "      <td>0.20</td>\n",
       "      <td>0.0</td>\n",
       "      <td>0.0</td>\n",
       "      <td>...</td>\n",
       "      <td>Returning_Visitor</td>\n",
       "      <td>False</td>\n",
       "      <td>False</td>\n",
       "      <td>NaN</td>\n",
       "      <td>NaN</td>\n",
       "      <td>0.000000</td>\n",
       "      <td>0.000000</td>\n",
       "      <td>1</td>\n",
       "      <td>0.00</td>\n",
       "      <td>0</td>\n",
       "    </tr>\n",
       "    <tr>\n",
       "      <th>3</th>\n",
       "      <td>0</td>\n",
       "      <td>0.0</td>\n",
       "      <td>0</td>\n",
       "      <td>0.0</td>\n",
       "      <td>2</td>\n",
       "      <td>2.666667</td>\n",
       "      <td>0.05</td>\n",
       "      <td>0.14</td>\n",
       "      <td>0.0</td>\n",
       "      <td>0.0</td>\n",
       "      <td>...</td>\n",
       "      <td>Returning_Visitor</td>\n",
       "      <td>False</td>\n",
       "      <td>False</td>\n",
       "      <td>NaN</td>\n",
       "      <td>NaN</td>\n",
       "      <td>1.333333</td>\n",
       "      <td>1.333333</td>\n",
       "      <td>2</td>\n",
       "      <td>-0.09</td>\n",
       "      <td>0</td>\n",
       "    </tr>\n",
       "    <tr>\n",
       "      <th>4</th>\n",
       "      <td>0</td>\n",
       "      <td>0.0</td>\n",
       "      <td>0</td>\n",
       "      <td>0.0</td>\n",
       "      <td>10</td>\n",
       "      <td>627.500000</td>\n",
       "      <td>0.02</td>\n",
       "      <td>0.05</td>\n",
       "      <td>0.0</td>\n",
       "      <td>0.0</td>\n",
       "      <td>...</td>\n",
       "      <td>Returning_Visitor</td>\n",
       "      <td>True</td>\n",
       "      <td>False</td>\n",
       "      <td>NaN</td>\n",
       "      <td>NaN</td>\n",
       "      <td>62.750000</td>\n",
       "      <td>62.750000</td>\n",
       "      <td>10</td>\n",
       "      <td>-0.03</td>\n",
       "      <td>0</td>\n",
       "    </tr>\n",
       "  </tbody>\n",
       "</table>\n",
       "<p>5 rows × 25 columns</p>\n",
       "</div>"
      ],
      "text/plain": [
       "   Administrative  Administrative_Duration  Informational  \\\n",
       "0               0                      0.0              0   \n",
       "1               0                      0.0              0   \n",
       "2               0                      0.0              0   \n",
       "3               0                      0.0              0   \n",
       "4               0                      0.0              0   \n",
       "\n",
       "   Informational_Duration  ProductRelated  ProductRelated_Duration  \\\n",
       "0                     0.0               1                 0.000000   \n",
       "1                     0.0               2                64.000000   \n",
       "2                     0.0               1                 0.000000   \n",
       "3                     0.0               2                 2.666667   \n",
       "4                     0.0              10               627.500000   \n",
       "\n",
       "   BounceRates  ExitRates  PageValues  SpecialDay  ...        VisitorType  \\\n",
       "0         0.20       0.20         0.0         0.0  ...  Returning_Visitor   \n",
       "1         0.00       0.10         0.0         0.0  ...  Returning_Visitor   \n",
       "2         0.20       0.20         0.0         0.0  ...  Returning_Visitor   \n",
       "3         0.05       0.14         0.0         0.0  ...  Returning_Visitor   \n",
       "4         0.02       0.05         0.0         0.0  ...  Returning_Visitor   \n",
       "\n",
       "   Weekend  Revenue  avg_administrative_time  avg_informational_time  \\\n",
       "0    False    False                      NaN                     NaN   \n",
       "1    False    False                      NaN                     NaN   \n",
       "2    False    False                      NaN                     NaN   \n",
       "3    False    False                      NaN                     NaN   \n",
       "4     True    False                      NaN                     NaN   \n",
       "\n",
       "  product_related_time  avg_product_related_time  Total_interactions  \\\n",
       "0             0.000000                  0.000000                   1   \n",
       "1            32.000000                 32.000000                   2   \n",
       "2             0.000000                  0.000000                   1   \n",
       "3             1.333333                  1.333333                   2   \n",
       "4            62.750000                 62.750000                  10   \n",
       "\n",
       "   Bounch_Exit_Rates  Purchase  \n",
       "0               0.00         0  \n",
       "1              -0.10         0  \n",
       "2               0.00         0  \n",
       "3              -0.09         0  \n",
       "4              -0.03         0  \n",
       "\n",
       "[5 rows x 25 columns]"
      ]
     },
     "execution_count": 419,
     "metadata": {},
     "output_type": "execute_result"
    }
   ],
   "source": [
    "df.head()"
   ]
  },
  {
   "cell_type": "code",
   "execution_count": 420,
   "id": "8b8481a9",
   "metadata": {},
   "outputs": [
    {
     "data": {
      "text/plain": [
       "Index(['Administrative', 'Administrative_Duration', 'Informational',\n",
       "       'Informational_Duration', 'ProductRelated', 'ProductRelated_Duration',\n",
       "       'BounceRates', 'ExitRates', 'PageValues', 'SpecialDay', 'Month',\n",
       "       'OperatingSystems', 'Browser', 'Region', 'TrafficType', 'VisitorType',\n",
       "       'Weekend', 'Revenue', 'avg_administrative_time',\n",
       "       'avg_informational_time', 'product_related_time',\n",
       "       'avg_product_related_time', 'Total_interactions', 'Bounch_Exit_Rates',\n",
       "       'Purchase'],\n",
       "      dtype='object')"
      ]
     },
     "execution_count": 420,
     "metadata": {},
     "output_type": "execute_result"
    }
   ],
   "source": [
    "df.columns"
   ]
  },
  {
   "cell_type": "code",
   "execution_count": 421,
   "id": "b7e27fe1",
   "metadata": {},
   "outputs": [
    {
     "data": {
      "text/plain": [
       "0        Feb\n",
       "1        Feb\n",
       "2        Feb\n",
       "3        Feb\n",
       "4        Feb\n",
       "        ... \n",
       "12325    Dec\n",
       "12326    Nov\n",
       "12327    Nov\n",
       "12328    Nov\n",
       "12329    Nov\n",
       "Name: Month, Length: 12205, dtype: object"
      ]
     },
     "execution_count": 421,
     "metadata": {},
     "output_type": "execute_result"
    }
   ],
   "source": [
    "df['Month']"
   ]
  },
  {
   "cell_type": "markdown",
   "id": "a38dfca5",
   "metadata": {},
   "source": [
    "# KPI: Seasonality "
   ]
  },
  {
   "cell_type": "markdown",
   "id": "aec3e29b",
   "metadata": {},
   "source": [
    "# My another KPI is Seasonality. My objective is to identify any seasonality patterns in visitor behavior"
   ]
  },
  {
   "cell_type": "code",
   "execution_count": 424,
   "id": "d9b418b8",
   "metadata": {},
   "outputs": [],
   "source": [
    "seasons = {'January': 'Winter', 'February': 'Winter', 'March': 'Spring', 'April': 'Spring',\n",
    "           'May': 'Spring', 'June': 'Summer', 'July': 'Summer', 'August': 'Summer',\n",
    "           'September': 'Fall', 'October': 'Fall', 'November': 'Fall', 'December': 'Winter'}"
   ]
  },
  {
   "cell_type": "code",
   "execution_count": 425,
   "id": "1694858a",
   "metadata": {},
   "outputs": [],
   "source": [
    "df['Season'] = df['Month'].map(seasons)\n"
   ]
  },
  {
   "cell_type": "code",
   "execution_count": 426,
   "id": "637f536c",
   "metadata": {},
   "outputs": [
    {
     "data": {
      "text/plain": [
       "Index(['Administrative', 'Administrative_Duration', 'Informational',\n",
       "       'Informational_Duration', 'ProductRelated', 'ProductRelated_Duration',\n",
       "       'BounceRates', 'ExitRates', 'PageValues', 'SpecialDay', 'Month',\n",
       "       'OperatingSystems', 'Browser', 'Region', 'TrafficType', 'VisitorType',\n",
       "       'Weekend', 'Revenue', 'avg_administrative_time',\n",
       "       'avg_informational_time', 'product_related_time',\n",
       "       'avg_product_related_time', 'Total_interactions', 'Bounch_Exit_Rates',\n",
       "       'Purchase', 'Season'],\n",
       "      dtype='object')"
      ]
     },
     "execution_count": 426,
     "metadata": {},
     "output_type": "execute_result"
    }
   ],
   "source": [
    "df.columns"
   ]
  },
  {
   "cell_type": "markdown",
   "id": "790dd5e4",
   "metadata": {},
   "source": [
    "# KPI: User Engagement Score"
   ]
  },
  {
   "cell_type": "markdown",
   "id": "d46bc4f5",
   "metadata": {},
   "source": [
    "# I added a new feature user engagement score by combining page values, bounch rates, and exit rates. "
   ]
  },
  {
   "cell_type": "code",
   "execution_count": 429,
   "id": "f93dad70",
   "metadata": {},
   "outputs": [],
   "source": [
    "df['User_Engagement_score']= df['BounceRates']+df['ExitRates']+df['PageValues']"
   ]
  },
  {
   "cell_type": "code",
   "execution_count": 430,
   "id": "57fe00d6",
   "metadata": {},
   "outputs": [
    {
     "data": {
      "text/plain": [
       "Index(['Administrative', 'Administrative_Duration', 'Informational',\n",
       "       'Informational_Duration', 'ProductRelated', 'ProductRelated_Duration',\n",
       "       'BounceRates', 'ExitRates', 'PageValues', 'SpecialDay', 'Month',\n",
       "       'OperatingSystems', 'Browser', 'Region', 'TrafficType', 'VisitorType',\n",
       "       'Weekend', 'Revenue', 'avg_administrative_time',\n",
       "       'avg_informational_time', 'product_related_time',\n",
       "       'avg_product_related_time', 'Total_interactions', 'Bounch_Exit_Rates',\n",
       "       'Purchase', 'Season', 'User_Engagement_score'],\n",
       "      dtype='object')"
      ]
     },
     "execution_count": 430,
     "metadata": {},
     "output_type": "execute_result"
    }
   ],
   "source": [
    "df.columns"
   ]
  },
  {
   "cell_type": "markdown",
   "id": "0eef34a7",
   "metadata": {},
   "source": [
    "# Site Performance Score"
   ]
  },
  {
   "cell_type": "markdown",
   "id": "bf939f7f",
   "metadata": {},
   "source": [
    "# I have added a new feature which combines both bounce rate and traffic rate. I have added this feature to identify which pages on my website are causing visitors to leave and provide insights into areas for improvement."
   ]
  },
  {
   "cell_type": "code",
   "execution_count": 431,
   "id": "35a97050",
   "metadata": {},
   "outputs": [],
   "source": [
    "df['site_performance_score']=df['BounceRates']+df['ExitRates']"
   ]
  },
  {
   "cell_type": "code",
   "execution_count": 432,
   "id": "eb136cdf",
   "metadata": {},
   "outputs": [
    {
     "data": {
      "text/plain": [
       "Index(['Administrative', 'Administrative_Duration', 'Informational',\n",
       "       'Informational_Duration', 'ProductRelated', 'ProductRelated_Duration',\n",
       "       'BounceRates', 'ExitRates', 'PageValues', 'SpecialDay', 'Month',\n",
       "       'OperatingSystems', 'Browser', 'Region', 'TrafficType', 'VisitorType',\n",
       "       'Weekend', 'Revenue', 'avg_administrative_time',\n",
       "       'avg_informational_time', 'product_related_time',\n",
       "       'avg_product_related_time', 'Total_interactions', 'Bounch_Exit_Rates',\n",
       "       'Purchase', 'Season', 'User_Engagement_score',\n",
       "       'site_performance_score'],\n",
       "      dtype='object')"
      ]
     },
     "execution_count": 432,
     "metadata": {},
     "output_type": "execute_result"
    }
   ],
   "source": [
    "df.columns"
   ]
  },
  {
   "cell_type": "markdown",
   "id": "6f2dda7f",
   "metadata": {},
   "source": [
    "# Coversion Rate by Traffic Type"
   ]
  },
  {
   "cell_type": "markdown",
   "id": "6f4ffe24",
   "metadata": {},
   "source": [
    "We will measure the convesion rate in Tableau. We will measure it by calcuaing the the percentage of users who make.a purchase. "
   ]
  },
  {
   "cell_type": "markdown",
   "id": "2049de7a",
   "metadata": {},
   "source": [
    "I have created a new feature that combines the 'VisitorType' and 'SpecialDay' columns to calculate a visitor loyalty score. This helps me to identify which types of visitors are most loyal to my brand and provide insights into what drives loyalty. "
   ]
  },
  {
   "cell_type": "markdown",
   "id": "ac3da374",
   "metadata": {},
   "source": [
    "# Save the dataframe to a CSV file"
   ]
  },
  {
   "cell_type": "code",
   "execution_count": 436,
   "id": "52338735",
   "metadata": {},
   "outputs": [],
   "source": [
    "df.to_csv('data.csv', index=False)\n"
   ]
  },
  {
   "cell_type": "markdown",
   "id": "895fb8ca",
   "metadata": {},
   "source": [
    "# Now I will transoform and visualize my all findings to the Tableau dashboard. "
   ]
  }
 ],
 "metadata": {
  "kernelspec": {
   "display_name": "Python 3 (ipykernel)",
   "language": "python",
   "name": "python3"
  },
  "language_info": {
   "codemirror_mode": {
    "name": "ipython",
    "version": 3
   },
   "file_extension": ".py",
   "mimetype": "text/x-python",
   "name": "python",
   "nbconvert_exporter": "python",
   "pygments_lexer": "ipython3",
   "version": "3.9.7"
  }
 },
 "nbformat": 4,
 "nbformat_minor": 5
}
