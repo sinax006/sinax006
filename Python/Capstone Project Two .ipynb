{
 "cells": [
  {
   "cell_type": "markdown",
   "id": "3a910551",
   "metadata": {},
   "source": [
    "# Chrun Customer Dataset "
   ]
  },
  {
   "cell_type": "markdown",
   "id": "242981b8",
   "metadata": {},
   "source": [
    "# Summary of all findings related to churncustomer dataset"
   ]
  },
  {
   "cell_type": "markdown",
   "id": "e94b88d4",
   "metadata": {},
   "source": [
    "## The objective of this data analysis is to identify the reasons that can lead to attrition. We have applied so many statistical applications to indentify the crucial reasons for the attrition. Although there are only 16% attrition cusomters, we have identified the key reasons and summary of all categorial and numerical features for both existing and attrited customers. "
   ]
  },
  {
   "cell_type": "markdown",
   "id": "37c7c514",
   "metadata": {},
   "source": [
    "####  1.It is noticeable that there are both categorical, float, and integer variables. For ecample, attrition_flag, gender, education level , marital status, card category, and income category are categorical variables. \n",
    "\n",
    "#### 2. It is noted that exisitng cusomter has higher credit limit, total_revolving bakance,, average open to buy, total_amount_change Q4 over Q1 and average utiliazation ratio than attrited customer. \n",
    "\n",
    "#### 3. On the other hand, attrited customer has higher contacts_cont_12_mont, months_inactive_last 12 month, depedent count, months on book than existing customer.\n",
    "\n",
    "####  4. Only 16% customers are attrited customers. \n",
    "\n",
    "#### 5. From the barplot, it is noted that Female customers are high in number as both attrited and exhisting customers than Male cusomters\n",
    "\n",
    "#### 6. From the data it is confirmed that based on the education level, graduate level consumers are high in number for both existing and attrited customers.\n",
    "\n",
    "#### 7. Based on the marital status, married and single cusomters are high in number for exisiting and attrited customers. \n",
    "\n",
    "#### 8. Both existing and attrited cusomers have the highest Blue card holders\n",
    "\n",
    "#### 9. Based on the histogram, it is visible that overall histogram for all variables are fine and feasible.\n",
    "\n",
    "#### 10. This bar chart shows that contacts in 12 months is positvely correalated with attrited customer. On the other hand, total_trans_Ct has negative correlation with attrited customers. \n",
    "\n",
    "#### 11. Based on the findnigs, it is clear that existing cusomter has higher crdit limit, average open to buy, and total tranaction amount than attrited cusotmer with respect to IQR. For existing cusotomer, the IQR of total revolving balacnce is less than the IQR of attrited customer. \n",
    "\n",
    "#### 12. Based on the p-value and correlation coefficient it is notable that attrited customer has less Months on book, Total_Realtionship_count, Credit limit, total revolving balance, total_amt_change_Q4 over Q1, Total_Trans_Ct, Total_Ct_Change_Q4_Q1 than existing customer. on the other hand, attrited customer has higher Months_inactive_12months, contacts_counts_12_months, avg_open to buy, and total_transaction_amount than existing cusomter.\n",
    "\n",
    "#### 13. The bar graph shows that Montsh_inactive_12_months has the higest positive correlation coefficient for existing/attrited cusomers. On the other hand, total_Ct_Change_Q4_Q1 has the highest negative correlation coefficient for exisitng/attrited cusomters\n",
    "\n",
    "#### 14. Based on the plot, it is literally confirmed that the regression plot predicts well for both attrited and existing cusotomer. Both lines are aligned with each other. \n",
    "\n",
    "#### 15. The box plot shows great differences between existing and attrited customers. The boxplot for contacts-count_12_mon, total_relationship_count, contacts_count_12mon are wider for attrited customer than existing customer. On the other hand, box plots for dependent_count, months_inactive_12_month are wider for existing customer than attrited customer. There are so many outliers for Total_Ct_chng_Q4_Q1 and Months_Inactive_12_mon.\n",
    "\n",
    "#### 16. For existing customers, Boxplot of total_trans_amt is wider than attrited customers. \n",
    "\n",
    "#### 17. The logistic regression tests demonstrate that the precision or accuracy is 0.74 for the attrited customer. \n",
    "\n",
    "#### 18. We conducted both linear and logistic regression to understand the effects of categorical features. Results showed that Male customers are more existing than female customers. In addition, doctorate level has higher attrition than college level. \n",
    "\n",
    "####  19. Dependent count Both logistic and linear regression demonstrate that higher dependent count is negatively related to existing cusomter. The increased number of depdent count is positively associated with attrition customer. \n",
    "\n",
    "#### 20. Logistic regression demonstrates that education level did not have any significant effects on attrition/existing customer. \n",
    "\n",
    "#### 21. Compared to Divorced martial staus, married customers have higher esiting than divroced martial status \n",
    "\n",
    "#### 22. Based on income category, it is notable that income category ranges from 40K-60K, 60K-80K, and less than 40K have higher existing customer than $120k+ income cateogry. \n",
    "\n"
   ]
  },
  {
   "cell_type": "markdown",
   "id": "07d985cc",
   "metadata": {},
   "source": [
    "#### 23. Compared to college level cusotmer, doctorate level customers have high attrtion based on the linear regression result \n",
    "\n",
    "#### 24. Compared to Blue card category, Gold and Silver card category have less existing cusomter \n",
    "\n",
    "#### 25. t is notable that existing customers have higher utilization ratio than attrited customers. "
   ]
  },
  {
   "cell_type": "markdown",
   "id": "8c3365b7",
   "metadata": {},
   "source": [
    "# Import all libraries"
   ]
  },
  {
   "cell_type": "code",
   "execution_count": 1,
   "id": "06eb90cc",
   "metadata": {},
   "outputs": [],
   "source": [
    "import pandas as pd\n",
    "import numpy as np\n",
    "import matplotlib.pyplot as plt"
   ]
  },
  {
   "cell_type": "markdown",
   "id": "378cf2d7",
   "metadata": {},
   "source": [
    "# Loading Data"
   ]
  },
  {
   "cell_type": "code",
   "execution_count": 2,
   "id": "63e2e196",
   "metadata": {},
   "outputs": [],
   "source": [
    "df=pd.read_csv(\"Desktop/BankChurners.csv\")"
   ]
  },
  {
   "cell_type": "markdown",
   "id": "42741907",
   "metadata": {},
   "source": [
    "# All relevant columns for the BankChurners dataset "
   ]
  },
  {
   "cell_type": "code",
   "execution_count": 3,
   "id": "3eb5bd11",
   "metadata": {},
   "outputs": [
    {
     "data": {
      "text/plain": [
       "Index(['CLIENTNUM', 'Attrition_Flag', 'Customer_Age', 'Gender',\n",
       "       'Dependent_count', 'Education_Level', 'Marital_Status',\n",
       "       'Income_Category', 'Card_Category', 'Months_on_book',\n",
       "       'Total_Relationship_Count', 'Months_Inactive_12_mon',\n",
       "       'Contacts_Count_12_mon', 'Credit_Limit', 'Total_Revolving_Bal',\n",
       "       'Avg_Open_To_Buy', 'Total_Amt_Chng_Q4_Q1', 'Total_Trans_Amt',\n",
       "       'Total_Trans_Ct', 'Total_Ct_Chng_Q4_Q1', 'Avg_Utilization_Ratio'],\n",
       "      dtype='object')"
      ]
     },
     "execution_count": 3,
     "metadata": {},
     "output_type": "execute_result"
    }
   ],
   "source": [
    "df.columns"
   ]
  },
  {
   "cell_type": "code",
   "execution_count": 4,
   "id": "bcd776e6",
   "metadata": {},
   "outputs": [
    {
     "name": "stdout",
     "output_type": "stream",
     "text": [
      "<class 'pandas.core.frame.DataFrame'>\n",
      "RangeIndex: 10127 entries, 0 to 10126\n",
      "Data columns (total 21 columns):\n",
      " #   Column                    Non-Null Count  Dtype  \n",
      "---  ------                    --------------  -----  \n",
      " 0   CLIENTNUM                 10127 non-null  int64  \n",
      " 1   Attrition_Flag            10127 non-null  object \n",
      " 2   Customer_Age              10127 non-null  int64  \n",
      " 3   Gender                    10127 non-null  object \n",
      " 4   Dependent_count           10127 non-null  int64  \n",
      " 5   Education_Level           10127 non-null  object \n",
      " 6   Marital_Status            10127 non-null  object \n",
      " 7   Income_Category           10127 non-null  object \n",
      " 8   Card_Category             10127 non-null  object \n",
      " 9   Months_on_book            10127 non-null  int64  \n",
      " 10  Total_Relationship_Count  10127 non-null  int64  \n",
      " 11  Months_Inactive_12_mon    10127 non-null  int64  \n",
      " 12  Contacts_Count_12_mon     10127 non-null  int64  \n",
      " 13  Credit_Limit              10127 non-null  float64\n",
      " 14  Total_Revolving_Bal       10127 non-null  int64  \n",
      " 15  Avg_Open_To_Buy           10127 non-null  float64\n",
      " 16  Total_Amt_Chng_Q4_Q1      10127 non-null  float64\n",
      " 17  Total_Trans_Amt           10127 non-null  int64  \n",
      " 18  Total_Trans_Ct            10127 non-null  int64  \n",
      " 19  Total_Ct_Chng_Q4_Q1       10127 non-null  float64\n",
      " 20  Avg_Utilization_Ratio     10127 non-null  float64\n",
      "dtypes: float64(5), int64(10), object(6)\n",
      "memory usage: 1.6+ MB\n"
     ]
    }
   ],
   "source": [
    "df.info()"
   ]
  },
  {
   "cell_type": "code",
   "execution_count": null,
   "id": "3a747be5",
   "metadata": {},
   "outputs": [],
   "source": []
  },
  {
   "cell_type": "markdown",
   "id": "457e117e",
   "metadata": {},
   "source": [
    "## It is noticeable that there are both categorical, float, and integer variables. For ecample, attrition_flag, gender, education level , marital status, card category, and income category are categorical variables. "
   ]
  },
  {
   "cell_type": "code",
   "execution_count": 5,
   "id": "ab5b24e9",
   "metadata": {},
   "outputs": [
    {
     "data": {
      "text/html": [
       "<div>\n",
       "<style scoped>\n",
       "    .dataframe tbody tr th:only-of-type {\n",
       "        vertical-align: middle;\n",
       "    }\n",
       "\n",
       "    .dataframe tbody tr th {\n",
       "        vertical-align: top;\n",
       "    }\n",
       "\n",
       "    .dataframe thead th {\n",
       "        text-align: right;\n",
       "    }\n",
       "</style>\n",
       "<table border=\"1\" class=\"dataframe\">\n",
       "  <thead>\n",
       "    <tr style=\"text-align: right;\">\n",
       "      <th></th>\n",
       "      <th>CLIENTNUM</th>\n",
       "      <th>Customer_Age</th>\n",
       "      <th>Dependent_count</th>\n",
       "      <th>Months_on_book</th>\n",
       "      <th>Total_Relationship_Count</th>\n",
       "      <th>Months_Inactive_12_mon</th>\n",
       "      <th>Contacts_Count_12_mon</th>\n",
       "      <th>Credit_Limit</th>\n",
       "      <th>Total_Revolving_Bal</th>\n",
       "      <th>Avg_Open_To_Buy</th>\n",
       "      <th>Total_Amt_Chng_Q4_Q1</th>\n",
       "      <th>Total_Trans_Amt</th>\n",
       "      <th>Total_Trans_Ct</th>\n",
       "      <th>Total_Ct_Chng_Q4_Q1</th>\n",
       "      <th>Avg_Utilization_Ratio</th>\n",
       "    </tr>\n",
       "  </thead>\n",
       "  <tbody>\n",
       "    <tr>\n",
       "      <th>count</th>\n",
       "      <td>1.012700e+04</td>\n",
       "      <td>10127.000000</td>\n",
       "      <td>10127.000000</td>\n",
       "      <td>10127.000000</td>\n",
       "      <td>10127.000000</td>\n",
       "      <td>10127.000000</td>\n",
       "      <td>10127.000000</td>\n",
       "      <td>10127.000000</td>\n",
       "      <td>10127.000000</td>\n",
       "      <td>10127.000000</td>\n",
       "      <td>10127.000000</td>\n",
       "      <td>10127.000000</td>\n",
       "      <td>10127.000000</td>\n",
       "      <td>10127.000000</td>\n",
       "      <td>10127.000000</td>\n",
       "    </tr>\n",
       "    <tr>\n",
       "      <th>mean</th>\n",
       "      <td>7.391776e+08</td>\n",
       "      <td>46.325960</td>\n",
       "      <td>2.346203</td>\n",
       "      <td>35.928409</td>\n",
       "      <td>3.812580</td>\n",
       "      <td>2.341167</td>\n",
       "      <td>2.455317</td>\n",
       "      <td>8631.953698</td>\n",
       "      <td>1162.814061</td>\n",
       "      <td>7469.139637</td>\n",
       "      <td>0.759941</td>\n",
       "      <td>4404.086304</td>\n",
       "      <td>64.858695</td>\n",
       "      <td>0.712222</td>\n",
       "      <td>0.274894</td>\n",
       "    </tr>\n",
       "    <tr>\n",
       "      <th>std</th>\n",
       "      <td>3.690378e+07</td>\n",
       "      <td>8.016814</td>\n",
       "      <td>1.298908</td>\n",
       "      <td>7.986416</td>\n",
       "      <td>1.554408</td>\n",
       "      <td>1.010622</td>\n",
       "      <td>1.106225</td>\n",
       "      <td>9088.776650</td>\n",
       "      <td>814.987335</td>\n",
       "      <td>9090.685324</td>\n",
       "      <td>0.219207</td>\n",
       "      <td>3397.129254</td>\n",
       "      <td>23.472570</td>\n",
       "      <td>0.238086</td>\n",
       "      <td>0.275691</td>\n",
       "    </tr>\n",
       "    <tr>\n",
       "      <th>min</th>\n",
       "      <td>7.080821e+08</td>\n",
       "      <td>26.000000</td>\n",
       "      <td>0.000000</td>\n",
       "      <td>13.000000</td>\n",
       "      <td>1.000000</td>\n",
       "      <td>0.000000</td>\n",
       "      <td>0.000000</td>\n",
       "      <td>1438.300000</td>\n",
       "      <td>0.000000</td>\n",
       "      <td>3.000000</td>\n",
       "      <td>0.000000</td>\n",
       "      <td>510.000000</td>\n",
       "      <td>10.000000</td>\n",
       "      <td>0.000000</td>\n",
       "      <td>0.000000</td>\n",
       "    </tr>\n",
       "    <tr>\n",
       "      <th>25%</th>\n",
       "      <td>7.130368e+08</td>\n",
       "      <td>41.000000</td>\n",
       "      <td>1.000000</td>\n",
       "      <td>31.000000</td>\n",
       "      <td>3.000000</td>\n",
       "      <td>2.000000</td>\n",
       "      <td>2.000000</td>\n",
       "      <td>2555.000000</td>\n",
       "      <td>359.000000</td>\n",
       "      <td>1324.500000</td>\n",
       "      <td>0.631000</td>\n",
       "      <td>2155.500000</td>\n",
       "      <td>45.000000</td>\n",
       "      <td>0.582000</td>\n",
       "      <td>0.023000</td>\n",
       "    </tr>\n",
       "    <tr>\n",
       "      <th>50%</th>\n",
       "      <td>7.179264e+08</td>\n",
       "      <td>46.000000</td>\n",
       "      <td>2.000000</td>\n",
       "      <td>36.000000</td>\n",
       "      <td>4.000000</td>\n",
       "      <td>2.000000</td>\n",
       "      <td>2.000000</td>\n",
       "      <td>4549.000000</td>\n",
       "      <td>1276.000000</td>\n",
       "      <td>3474.000000</td>\n",
       "      <td>0.736000</td>\n",
       "      <td>3899.000000</td>\n",
       "      <td>67.000000</td>\n",
       "      <td>0.702000</td>\n",
       "      <td>0.176000</td>\n",
       "    </tr>\n",
       "    <tr>\n",
       "      <th>75%</th>\n",
       "      <td>7.731435e+08</td>\n",
       "      <td>52.000000</td>\n",
       "      <td>3.000000</td>\n",
       "      <td>40.000000</td>\n",
       "      <td>5.000000</td>\n",
       "      <td>3.000000</td>\n",
       "      <td>3.000000</td>\n",
       "      <td>11067.500000</td>\n",
       "      <td>1784.000000</td>\n",
       "      <td>9859.000000</td>\n",
       "      <td>0.859000</td>\n",
       "      <td>4741.000000</td>\n",
       "      <td>81.000000</td>\n",
       "      <td>0.818000</td>\n",
       "      <td>0.503000</td>\n",
       "    </tr>\n",
       "    <tr>\n",
       "      <th>max</th>\n",
       "      <td>8.283431e+08</td>\n",
       "      <td>73.000000</td>\n",
       "      <td>5.000000</td>\n",
       "      <td>56.000000</td>\n",
       "      <td>6.000000</td>\n",
       "      <td>6.000000</td>\n",
       "      <td>6.000000</td>\n",
       "      <td>34516.000000</td>\n",
       "      <td>2517.000000</td>\n",
       "      <td>34516.000000</td>\n",
       "      <td>3.397000</td>\n",
       "      <td>18484.000000</td>\n",
       "      <td>139.000000</td>\n",
       "      <td>3.714000</td>\n",
       "      <td>0.999000</td>\n",
       "    </tr>\n",
       "  </tbody>\n",
       "</table>\n",
       "</div>"
      ],
      "text/plain": [
       "          CLIENTNUM  Customer_Age  Dependent_count  Months_on_book  \\\n",
       "count  1.012700e+04  10127.000000     10127.000000    10127.000000   \n",
       "mean   7.391776e+08     46.325960         2.346203       35.928409   \n",
       "std    3.690378e+07      8.016814         1.298908        7.986416   \n",
       "min    7.080821e+08     26.000000         0.000000       13.000000   \n",
       "25%    7.130368e+08     41.000000         1.000000       31.000000   \n",
       "50%    7.179264e+08     46.000000         2.000000       36.000000   \n",
       "75%    7.731435e+08     52.000000         3.000000       40.000000   \n",
       "max    8.283431e+08     73.000000         5.000000       56.000000   \n",
       "\n",
       "       Total_Relationship_Count  Months_Inactive_12_mon  \\\n",
       "count              10127.000000            10127.000000   \n",
       "mean                   3.812580                2.341167   \n",
       "std                    1.554408                1.010622   \n",
       "min                    1.000000                0.000000   \n",
       "25%                    3.000000                2.000000   \n",
       "50%                    4.000000                2.000000   \n",
       "75%                    5.000000                3.000000   \n",
       "max                    6.000000                6.000000   \n",
       "\n",
       "       Contacts_Count_12_mon  Credit_Limit  Total_Revolving_Bal  \\\n",
       "count           10127.000000  10127.000000         10127.000000   \n",
       "mean                2.455317   8631.953698          1162.814061   \n",
       "std                 1.106225   9088.776650           814.987335   \n",
       "min                 0.000000   1438.300000             0.000000   \n",
       "25%                 2.000000   2555.000000           359.000000   \n",
       "50%                 2.000000   4549.000000          1276.000000   \n",
       "75%                 3.000000  11067.500000          1784.000000   \n",
       "max                 6.000000  34516.000000          2517.000000   \n",
       "\n",
       "       Avg_Open_To_Buy  Total_Amt_Chng_Q4_Q1  Total_Trans_Amt  Total_Trans_Ct  \\\n",
       "count     10127.000000          10127.000000     10127.000000    10127.000000   \n",
       "mean       7469.139637              0.759941      4404.086304       64.858695   \n",
       "std        9090.685324              0.219207      3397.129254       23.472570   \n",
       "min           3.000000              0.000000       510.000000       10.000000   \n",
       "25%        1324.500000              0.631000      2155.500000       45.000000   \n",
       "50%        3474.000000              0.736000      3899.000000       67.000000   \n",
       "75%        9859.000000              0.859000      4741.000000       81.000000   \n",
       "max       34516.000000              3.397000     18484.000000      139.000000   \n",
       "\n",
       "       Total_Ct_Chng_Q4_Q1  Avg_Utilization_Ratio  \n",
       "count         10127.000000           10127.000000  \n",
       "mean              0.712222               0.274894  \n",
       "std               0.238086               0.275691  \n",
       "min               0.000000               0.000000  \n",
       "25%               0.582000               0.023000  \n",
       "50%               0.702000               0.176000  \n",
       "75%               0.818000               0.503000  \n",
       "max               3.714000               0.999000  "
      ]
     },
     "execution_count": 5,
     "metadata": {},
     "output_type": "execute_result"
    }
   ],
   "source": [
    "df.describe()"
   ]
  },
  {
   "cell_type": "code",
   "execution_count": 6,
   "id": "bee5e45d",
   "metadata": {},
   "outputs": [
    {
     "data": {
      "text/html": [
       "<div>\n",
       "<style scoped>\n",
       "    .dataframe tbody tr th:only-of-type {\n",
       "        vertical-align: middle;\n",
       "    }\n",
       "\n",
       "    .dataframe tbody tr th {\n",
       "        vertical-align: top;\n",
       "    }\n",
       "\n",
       "    .dataframe thead th {\n",
       "        text-align: right;\n",
       "    }\n",
       "</style>\n",
       "<table border=\"1\" class=\"dataframe\">\n",
       "  <thead>\n",
       "    <tr style=\"text-align: right;\">\n",
       "      <th></th>\n",
       "      <th>mean</th>\n",
       "    </tr>\n",
       "  </thead>\n",
       "  <tbody>\n",
       "    <tr>\n",
       "      <th>CLIENTNUM</th>\n",
       "      <td>7.391776e+08</td>\n",
       "    </tr>\n",
       "    <tr>\n",
       "      <th>Customer_Age</th>\n",
       "      <td>4.632596e+01</td>\n",
       "    </tr>\n",
       "    <tr>\n",
       "      <th>Dependent_count</th>\n",
       "      <td>2.346203e+00</td>\n",
       "    </tr>\n",
       "    <tr>\n",
       "      <th>Months_on_book</th>\n",
       "      <td>3.592841e+01</td>\n",
       "    </tr>\n",
       "    <tr>\n",
       "      <th>Total_Relationship_Count</th>\n",
       "      <td>3.812580e+00</td>\n",
       "    </tr>\n",
       "    <tr>\n",
       "      <th>Months_Inactive_12_mon</th>\n",
       "      <td>2.341167e+00</td>\n",
       "    </tr>\n",
       "    <tr>\n",
       "      <th>Contacts_Count_12_mon</th>\n",
       "      <td>2.455317e+00</td>\n",
       "    </tr>\n",
       "    <tr>\n",
       "      <th>Credit_Limit</th>\n",
       "      <td>8.631954e+03</td>\n",
       "    </tr>\n",
       "    <tr>\n",
       "      <th>Total_Revolving_Bal</th>\n",
       "      <td>1.162814e+03</td>\n",
       "    </tr>\n",
       "    <tr>\n",
       "      <th>Avg_Open_To_Buy</th>\n",
       "      <td>7.469140e+03</td>\n",
       "    </tr>\n",
       "    <tr>\n",
       "      <th>Total_Amt_Chng_Q4_Q1</th>\n",
       "      <td>7.599407e-01</td>\n",
       "    </tr>\n",
       "    <tr>\n",
       "      <th>Total_Trans_Amt</th>\n",
       "      <td>4.404086e+03</td>\n",
       "    </tr>\n",
       "    <tr>\n",
       "      <th>Total_Trans_Ct</th>\n",
       "      <td>6.485869e+01</td>\n",
       "    </tr>\n",
       "    <tr>\n",
       "      <th>Total_Ct_Chng_Q4_Q1</th>\n",
       "      <td>7.122224e-01</td>\n",
       "    </tr>\n",
       "    <tr>\n",
       "      <th>Avg_Utilization_Ratio</th>\n",
       "      <td>2.748936e-01</td>\n",
       "    </tr>\n",
       "  </tbody>\n",
       "</table>\n",
       "</div>"
      ],
      "text/plain": [
       "                                  mean\n",
       "CLIENTNUM                 7.391776e+08\n",
       "Customer_Age              4.632596e+01\n",
       "Dependent_count           2.346203e+00\n",
       "Months_on_book            3.592841e+01\n",
       "Total_Relationship_Count  3.812580e+00\n",
       "Months_Inactive_12_mon    2.341167e+00\n",
       "Contacts_Count_12_mon     2.455317e+00\n",
       "Credit_Limit              8.631954e+03\n",
       "Total_Revolving_Bal       1.162814e+03\n",
       "Avg_Open_To_Buy           7.469140e+03\n",
       "Total_Amt_Chng_Q4_Q1      7.599407e-01\n",
       "Total_Trans_Amt           4.404086e+03\n",
       "Total_Trans_Ct            6.485869e+01\n",
       "Total_Ct_Chng_Q4_Q1       7.122224e-01\n",
       "Avg_Utilization_Ratio     2.748936e-01"
      ]
     },
     "execution_count": 6,
     "metadata": {},
     "output_type": "execute_result"
    }
   ],
   "source": [
    "df.describe().iloc[1:2].T"
   ]
  },
  {
   "cell_type": "markdown",
   "id": "57abf2d4",
   "metadata": {},
   "source": [
    "##  This is the overall aveage values for all variables. Now I want to compare average values of all variables for both attrited and existing cusomter."
   ]
  },
  {
   "cell_type": "code",
   "execution_count": 7,
   "id": "1707323e",
   "metadata": {},
   "outputs": [],
   "source": [
    "df14=df[df['Attrition_Flag']=='Existing Customer']"
   ]
  },
  {
   "cell_type": "code",
   "execution_count": 8,
   "id": "067ff72d",
   "metadata": {},
   "outputs": [
    {
     "data": {
      "text/html": [
       "<div>\n",
       "<style scoped>\n",
       "    .dataframe tbody tr th:only-of-type {\n",
       "        vertical-align: middle;\n",
       "    }\n",
       "\n",
       "    .dataframe tbody tr th {\n",
       "        vertical-align: top;\n",
       "    }\n",
       "\n",
       "    .dataframe thead th {\n",
       "        text-align: right;\n",
       "    }\n",
       "</style>\n",
       "<table border=\"1\" class=\"dataframe\">\n",
       "  <thead>\n",
       "    <tr style=\"text-align: right;\">\n",
       "      <th></th>\n",
       "      <th>mean</th>\n",
       "    </tr>\n",
       "  </thead>\n",
       "  <tbody>\n",
       "    <tr>\n",
       "      <th>CLIENTNUM</th>\n",
       "      <td>7.399272e+08</td>\n",
       "    </tr>\n",
       "    <tr>\n",
       "      <th>Customer_Age</th>\n",
       "      <td>4.626212e+01</td>\n",
       "    </tr>\n",
       "    <tr>\n",
       "      <th>Dependent_count</th>\n",
       "      <td>2.335412e+00</td>\n",
       "    </tr>\n",
       "    <tr>\n",
       "      <th>Months_on_book</th>\n",
       "      <td>3.588059e+01</td>\n",
       "    </tr>\n",
       "    <tr>\n",
       "      <th>Total_Relationship_Count</th>\n",
       "      <td>3.914588e+00</td>\n",
       "    </tr>\n",
       "    <tr>\n",
       "      <th>Months_Inactive_12_mon</th>\n",
       "      <td>2.273765e+00</td>\n",
       "    </tr>\n",
       "    <tr>\n",
       "      <th>Contacts_Count_12_mon</th>\n",
       "      <td>2.356353e+00</td>\n",
       "    </tr>\n",
       "    <tr>\n",
       "      <th>Credit_Limit</th>\n",
       "      <td>8.726878e+03</td>\n",
       "    </tr>\n",
       "    <tr>\n",
       "      <th>Total_Revolving_Bal</th>\n",
       "      <td>1.256604e+03</td>\n",
       "    </tr>\n",
       "    <tr>\n",
       "      <th>Avg_Open_To_Buy</th>\n",
       "      <td>7.470273e+03</td>\n",
       "    </tr>\n",
       "    <tr>\n",
       "      <th>Total_Amt_Chng_Q4_Q1</th>\n",
       "      <td>7.725095e-01</td>\n",
       "    </tr>\n",
       "    <tr>\n",
       "      <th>Total_Trans_Amt</th>\n",
       "      <td>4.654656e+03</td>\n",
       "    </tr>\n",
       "    <tr>\n",
       "      <th>Total_Trans_Ct</th>\n",
       "      <td>6.867259e+01</td>\n",
       "    </tr>\n",
       "    <tr>\n",
       "      <th>Total_Ct_Chng_Q4_Q1</th>\n",
       "      <td>7.424341e-01</td>\n",
       "    </tr>\n",
       "    <tr>\n",
       "      <th>Avg_Utilization_Ratio</th>\n",
       "      <td>2.964118e-01</td>\n",
       "    </tr>\n",
       "  </tbody>\n",
       "</table>\n",
       "</div>"
      ],
      "text/plain": [
       "                                  mean\n",
       "CLIENTNUM                 7.399272e+08\n",
       "Customer_Age              4.626212e+01\n",
       "Dependent_count           2.335412e+00\n",
       "Months_on_book            3.588059e+01\n",
       "Total_Relationship_Count  3.914588e+00\n",
       "Months_Inactive_12_mon    2.273765e+00\n",
       "Contacts_Count_12_mon     2.356353e+00\n",
       "Credit_Limit              8.726878e+03\n",
       "Total_Revolving_Bal       1.256604e+03\n",
       "Avg_Open_To_Buy           7.470273e+03\n",
       "Total_Amt_Chng_Q4_Q1      7.725095e-01\n",
       "Total_Trans_Amt           4.654656e+03\n",
       "Total_Trans_Ct            6.867259e+01\n",
       "Total_Ct_Chng_Q4_Q1       7.424341e-01\n",
       "Avg_Utilization_Ratio     2.964118e-01"
      ]
     },
     "execution_count": 8,
     "metadata": {},
     "output_type": "execute_result"
    }
   ],
   "source": [
    "df14.describe().iloc[1:2].T"
   ]
  },
  {
   "cell_type": "markdown",
   "id": "a5916e53",
   "metadata": {},
   "source": [
    "##  This is the overall average values of all variables for existing customer. "
   ]
  },
  {
   "cell_type": "code",
   "execution_count": 9,
   "id": "b6312950",
   "metadata": {},
   "outputs": [],
   "source": [
    "df15=df[df['Attrition_Flag']=='Attrited Customer']"
   ]
  },
  {
   "cell_type": "code",
   "execution_count": 10,
   "id": "39480ce3",
   "metadata": {},
   "outputs": [
    {
     "data": {
      "text/html": [
       "<div>\n",
       "<style scoped>\n",
       "    .dataframe tbody tr th:only-of-type {\n",
       "        vertical-align: middle;\n",
       "    }\n",
       "\n",
       "    .dataframe tbody tr th {\n",
       "        vertical-align: top;\n",
       "    }\n",
       "\n",
       "    .dataframe thead th {\n",
       "        text-align: right;\n",
       "    }\n",
       "</style>\n",
       "<table border=\"1\" class=\"dataframe\">\n",
       "  <thead>\n",
       "    <tr style=\"text-align: right;\">\n",
       "      <th></th>\n",
       "      <th>mean</th>\n",
       "    </tr>\n",
       "  </thead>\n",
       "  <tbody>\n",
       "    <tr>\n",
       "      <th>CLIENTNUM</th>\n",
       "      <td>7.352614e+08</td>\n",
       "    </tr>\n",
       "    <tr>\n",
       "      <th>Customer_Age</th>\n",
       "      <td>4.665950e+01</td>\n",
       "    </tr>\n",
       "    <tr>\n",
       "      <th>Dependent_count</th>\n",
       "      <td>2.402581e+00</td>\n",
       "    </tr>\n",
       "    <tr>\n",
       "      <th>Months_on_book</th>\n",
       "      <td>3.617824e+01</td>\n",
       "    </tr>\n",
       "    <tr>\n",
       "      <th>Total_Relationship_Count</th>\n",
       "      <td>3.279656e+00</td>\n",
       "    </tr>\n",
       "    <tr>\n",
       "      <th>Months_Inactive_12_mon</th>\n",
       "      <td>2.693301e+00</td>\n",
       "    </tr>\n",
       "    <tr>\n",
       "      <th>Contacts_Count_12_mon</th>\n",
       "      <td>2.972342e+00</td>\n",
       "    </tr>\n",
       "    <tr>\n",
       "      <th>Credit_Limit</th>\n",
       "      <td>8.136039e+03</td>\n",
       "    </tr>\n",
       "    <tr>\n",
       "      <th>Total_Revolving_Bal</th>\n",
       "      <td>6.728230e+02</td>\n",
       "    </tr>\n",
       "    <tr>\n",
       "      <th>Avg_Open_To_Buy</th>\n",
       "      <td>7.463216e+03</td>\n",
       "    </tr>\n",
       "    <tr>\n",
       "      <th>Total_Amt_Chng_Q4_Q1</th>\n",
       "      <td>6.942766e-01</td>\n",
       "    </tr>\n",
       "    <tr>\n",
       "      <th>Total_Trans_Amt</th>\n",
       "      <td>3.095026e+03</td>\n",
       "    </tr>\n",
       "    <tr>\n",
       "      <th>Total_Trans_Ct</th>\n",
       "      <td>4.493362e+01</td>\n",
       "    </tr>\n",
       "    <tr>\n",
       "      <th>Total_Ct_Chng_Q4_Q1</th>\n",
       "      <td>5.543860e-01</td>\n",
       "    </tr>\n",
       "    <tr>\n",
       "      <th>Avg_Utilization_Ratio</th>\n",
       "      <td>1.624751e-01</td>\n",
       "    </tr>\n",
       "  </tbody>\n",
       "</table>\n",
       "</div>"
      ],
      "text/plain": [
       "                                  mean\n",
       "CLIENTNUM                 7.352614e+08\n",
       "Customer_Age              4.665950e+01\n",
       "Dependent_count           2.402581e+00\n",
       "Months_on_book            3.617824e+01\n",
       "Total_Relationship_Count  3.279656e+00\n",
       "Months_Inactive_12_mon    2.693301e+00\n",
       "Contacts_Count_12_mon     2.972342e+00\n",
       "Credit_Limit              8.136039e+03\n",
       "Total_Revolving_Bal       6.728230e+02\n",
       "Avg_Open_To_Buy           7.463216e+03\n",
       "Total_Amt_Chng_Q4_Q1      6.942766e-01\n",
       "Total_Trans_Amt           3.095026e+03\n",
       "Total_Trans_Ct            4.493362e+01\n",
       "Total_Ct_Chng_Q4_Q1       5.543860e-01\n",
       "Avg_Utilization_Ratio     1.624751e-01"
      ]
     },
     "execution_count": 10,
     "metadata": {},
     "output_type": "execute_result"
    }
   ],
   "source": [
    "df15.describe().iloc[1:2].T"
   ]
  },
  {
   "cell_type": "markdown",
   "id": "3a034898",
   "metadata": {},
   "source": [
    "## This is the overall average values of all variables for attrited customer. "
   ]
  },
  {
   "cell_type": "code",
   "execution_count": 11,
   "id": "bae6822a",
   "metadata": {},
   "outputs": [],
   "source": [
    "df16=df14.describe().iloc[1:2].T\n",
    "df17=df15.describe().iloc[1:2].T"
   ]
  },
  {
   "cell_type": "code",
   "execution_count": 12,
   "id": "4c490800",
   "metadata": {},
   "outputs": [
    {
     "data": {
      "text/html": [
       "<div>\n",
       "<style scoped>\n",
       "    .dataframe tbody tr th:only-of-type {\n",
       "        vertical-align: middle;\n",
       "    }\n",
       "\n",
       "    .dataframe tbody tr th {\n",
       "        vertical-align: top;\n",
       "    }\n",
       "\n",
       "    .dataframe thead th {\n",
       "        text-align: right;\n",
       "    }\n",
       "</style>\n",
       "<table border=\"1\" class=\"dataframe\">\n",
       "  <thead>\n",
       "    <tr style=\"text-align: right;\">\n",
       "      <th></th>\n",
       "      <th>mean</th>\n",
       "    </tr>\n",
       "  </thead>\n",
       "  <tbody>\n",
       "    <tr>\n",
       "      <th>CLIENTNUM</th>\n",
       "      <td>4.665837e+06</td>\n",
       "    </tr>\n",
       "    <tr>\n",
       "      <th>Customer_Age</th>\n",
       "      <td>-3.973784e-01</td>\n",
       "    </tr>\n",
       "    <tr>\n",
       "      <th>Dependent_count</th>\n",
       "      <td>-6.716967e-02</td>\n",
       "    </tr>\n",
       "    <tr>\n",
       "      <th>Months_on_book</th>\n",
       "      <td>-2.976539e-01</td>\n",
       "    </tr>\n",
       "    <tr>\n",
       "      <th>Total_Relationship_Count</th>\n",
       "      <td>6.349324e-01</td>\n",
       "    </tr>\n",
       "    <tr>\n",
       "      <th>Months_Inactive_12_mon</th>\n",
       "      <td>-4.195358e-01</td>\n",
       "    </tr>\n",
       "    <tr>\n",
       "      <th>Contacts_Count_12_mon</th>\n",
       "      <td>-6.159888e-01</td>\n",
       "    </tr>\n",
       "    <tr>\n",
       "      <th>Credit_Limit</th>\n",
       "      <td>5.908381e+02</td>\n",
       "    </tr>\n",
       "    <tr>\n",
       "      <th>Total_Revolving_Bal</th>\n",
       "      <td>5.837811e+02</td>\n",
       "    </tr>\n",
       "    <tr>\n",
       "      <th>Avg_Open_To_Buy</th>\n",
       "      <td>7.056928e+00</td>\n",
       "    </tr>\n",
       "    <tr>\n",
       "      <th>Total_Amt_Chng_Q4_Q1</th>\n",
       "      <td>7.823295e-02</td>\n",
       "    </tr>\n",
       "    <tr>\n",
       "      <th>Total_Trans_Amt</th>\n",
       "      <td>1.559630e+03</td>\n",
       "    </tr>\n",
       "    <tr>\n",
       "      <th>Total_Trans_Ct</th>\n",
       "      <td>2.373897e+01</td>\n",
       "    </tr>\n",
       "    <tr>\n",
       "      <th>Total_Ct_Chng_Q4_Q1</th>\n",
       "      <td>1.880481e-01</td>\n",
       "    </tr>\n",
       "    <tr>\n",
       "      <th>Avg_Utilization_Ratio</th>\n",
       "      <td>1.339367e-01</td>\n",
       "    </tr>\n",
       "  </tbody>\n",
       "</table>\n",
       "</div>"
      ],
      "text/plain": [
       "                                  mean\n",
       "CLIENTNUM                 4.665837e+06\n",
       "Customer_Age             -3.973784e-01\n",
       "Dependent_count          -6.716967e-02\n",
       "Months_on_book           -2.976539e-01\n",
       "Total_Relationship_Count  6.349324e-01\n",
       "Months_Inactive_12_mon   -4.195358e-01\n",
       "Contacts_Count_12_mon    -6.159888e-01\n",
       "Credit_Limit              5.908381e+02\n",
       "Total_Revolving_Bal       5.837811e+02\n",
       "Avg_Open_To_Buy           7.056928e+00\n",
       "Total_Amt_Chng_Q4_Q1      7.823295e-02\n",
       "Total_Trans_Amt           1.559630e+03\n",
       "Total_Trans_Ct            2.373897e+01\n",
       "Total_Ct_Chng_Q4_Q1       1.880481e-01\n",
       "Avg_Utilization_Ratio     1.339367e-01"
      ]
     },
     "execution_count": 12,
     "metadata": {},
     "output_type": "execute_result"
    }
   ],
   "source": [
    "df16-df17"
   ]
  },
  {
   "cell_type": "markdown",
   "id": "ce237de6",
   "metadata": {},
   "source": [
    "## It is noted that exisitng cusomter has higher credit limit, total_revolving bakance,, average open to buy, total_amount_change Q4 over Q1 and average utiliazation ratio than attrited customer. "
   ]
  },
  {
   "cell_type": "markdown",
   "id": "6daba0d5",
   "metadata": {},
   "source": [
    "## On the other hand, attrited customer has higher contacts_cont_12_mont, months_inactive_last 12 month, depedent count, months on book than existing customer."
   ]
  },
  {
   "cell_type": "code",
   "execution_count": 13,
   "id": "030aa989",
   "metadata": {},
   "outputs": [
    {
     "data": {
      "text/plain": [
       "Existing Customer    8500\n",
       "Attrited Customer    1627\n",
       "Name: Attrition_Flag, dtype: int64"
      ]
     },
     "execution_count": 13,
     "metadata": {},
     "output_type": "execute_result"
    }
   ],
   "source": [
    "df['Attrition_Flag'].value_counts()"
   ]
  },
  {
   "cell_type": "code",
   "execution_count": 14,
   "id": "8d715ae6",
   "metadata": {},
   "outputs": [
    {
     "data": {
      "text/plain": [
       "<AxesSubplot:>"
      ]
     },
     "execution_count": 14,
     "metadata": {},
     "output_type": "execute_result"
    },
    {
     "data": {
      "image/png": "[encoded data removed]",
      "text/plain": [
       "<Figure size 432x288 with 1 Axes>"
      ]
     },
     "metadata": {
      "needs_background": "light"
     },
     "output_type": "display_data"
    }
   ],
   "source": [
    "df['Attrition_Flag'].value_counts().plot.barh()"
   ]
  },
  {
   "cell_type": "markdown",
   "id": "282aaee4",
   "metadata": {},
   "source": [
    "##  Only 16% customers are attrited customers. "
   ]
  },
  {
   "cell_type": "code",
   "execution_count": 15,
   "id": "4177d55a",
   "metadata": {},
   "outputs": [
    {
     "data": {
      "text/plain": [
       "Attrition_Flag     Gender\n",
       "Attrited Customer  F          930\n",
       "                   M          697\n",
       "Existing Customer  F         4428\n",
       "                   M         4072\n",
       "Name: Gender, dtype: int64"
      ]
     },
     "execution_count": 15,
     "metadata": {},
     "output_type": "execute_result"
    }
   ],
   "source": [
    "df.groupby('Attrition_Flag')['Gender'].value_counts()"
   ]
  },
  {
   "cell_type": "code",
   "execution_count": 16,
   "id": "769132cc",
   "metadata": {},
   "outputs": [
    {
     "data": {
      "text/plain": [
       "<AxesSubplot:ylabel='Attrition_Flag,Gender'>"
      ]
     },
     "execution_count": 16,
     "metadata": {},
     "output_type": "execute_result"
    },
    {
     "data": {
      "image/png": "[encoded data removed]",
      "text/plain": [
       "<Figure size 432x288 with 1 Axes>"
      ]
     },
     "metadata": {
      "needs_background": "light"
     },
     "output_type": "display_data"
    }
   ],
   "source": [
    "df.groupby('Attrition_Flag')['Gender'].value_counts().plot.barh()"
   ]
  },
  {
   "cell_type": "markdown",
   "id": "7fc011cf",
   "metadata": {},
   "source": [
    "## From the barplot, it is noted that Female customers are high in number as both attrited and exhisting customers than Male cusomters"
   ]
  },
  {
   "cell_type": "code",
   "execution_count": 17,
   "id": "31f5b824",
   "metadata": {},
   "outputs": [
    {
     "data": {
      "text/plain": [
       "Attrition_Flag     Education_Level\n",
       "Attrited Customer  Graduate            487\n",
       "                   High School         306\n",
       "                   Unknown             256\n",
       "                   Uneducated          237\n",
       "                   College             154\n",
       "                   Doctorate            95\n",
       "                   Post-Graduate        92\n",
       "Existing Customer  Graduate           2641\n",
       "                   High School        1707\n",
       "                   Unknown            1263\n",
       "                   Uneducated         1250\n",
       "                   College             859\n",
       "                   Post-Graduate       424\n",
       "                   Doctorate           356\n",
       "Name: Education_Level, dtype: int64"
      ]
     },
     "execution_count": 17,
     "metadata": {},
     "output_type": "execute_result"
    }
   ],
   "source": [
    "df.groupby('Attrition_Flag')['Education_Level'].value_counts()"
   ]
  },
  {
   "cell_type": "code",
   "execution_count": 18,
   "id": "1aecd2dd",
   "metadata": {},
   "outputs": [
    {
     "data": {
      "text/plain": [
       "<AxesSubplot:ylabel='Attrition_Flag,Education_Level'>"
      ]
     },
     "execution_count": 18,
     "metadata": {},
     "output_type": "execute_result"
    },
    {
     "data": {
      "image/png": "[encoded data removed]",
      "text/plain": [
       "<Figure size 432x288 with 1 Axes>"
      ]
     },
     "metadata": {
      "needs_background": "light"
     },
     "output_type": "display_data"
    }
   ],
   "source": [
    "df.groupby('Attrition_Flag')['Education_Level'].value_counts().sort_values(ascending=True).plot.barh()"
   ]
  },
  {
   "cell_type": "markdown",
   "id": "49c20127",
   "metadata": {},
   "source": [
    "## From the data it is confirmed that based on the education level, graduate level consumers are high in number for both existing and attrited customers."
   ]
  },
  {
   "cell_type": "code",
   "execution_count": 19,
   "id": "36396521",
   "metadata": {},
   "outputs": [
    {
     "data": {
      "text/plain": [
       "Attrition_Flag     Marital_Status\n",
       "Attrited Customer  Married            709\n",
       "                   Single             668\n",
       "                   Unknown            129\n",
       "                   Divorced           121\n",
       "Existing Customer  Married           3978\n",
       "                   Single            3275\n",
       "                   Divorced           627\n",
       "                   Unknown            620\n",
       "Name: Marital_Status, dtype: int64"
      ]
     },
     "execution_count": 19,
     "metadata": {},
     "output_type": "execute_result"
    }
   ],
   "source": [
    "df.groupby('Attrition_Flag')['Marital_Status'].value_counts()"
   ]
  },
  {
   "cell_type": "code",
   "execution_count": 20,
   "id": "ba6e2ff3",
   "metadata": {},
   "outputs": [
    {
     "data": {
      "text/plain": [
       "<AxesSubplot:ylabel='Attrition_Flag,Marital_Status'>"
      ]
     },
     "execution_count": 20,
     "metadata": {},
     "output_type": "execute_result"
    },
    {
     "data": {
      "image/png": "[encoded data removed]",
      "text/plain": [
       "<Figure size 432x288 with 1 Axes>"
      ]
     },
     "metadata": {
      "needs_background": "light"
     },
     "output_type": "display_data"
    }
   ],
   "source": [
    "df.groupby('Attrition_Flag')['Marital_Status'].value_counts().sort_values(ascending=True).plot.barh()"
   ]
  },
  {
   "cell_type": "markdown",
   "id": "849520ea",
   "metadata": {},
   "source": [
    "## Based on the marital status, married and single cusomters are high in number for exisiting and attrited customers. "
   ]
  },
  {
   "cell_type": "code",
   "execution_count": 21,
   "id": "f24ca345",
   "metadata": {},
   "outputs": [
    {
     "data": {
      "text/plain": [
       "Attrition_Flag     Card_Category\n",
       "Attrited Customer  Blue             1519\n",
       "                   Silver             82\n",
       "                   Gold               21\n",
       "                   Platinum            5\n",
       "Existing Customer  Blue             7917\n",
       "                   Silver            473\n",
       "                   Gold               95\n",
       "                   Platinum           15\n",
       "Name: Card_Category, dtype: int64"
      ]
     },
     "execution_count": 21,
     "metadata": {},
     "output_type": "execute_result"
    }
   ],
   "source": [
    "df.groupby('Attrition_Flag')['Card_Category'].value_counts()"
   ]
  },
  {
   "cell_type": "code",
   "execution_count": 22,
   "id": "834efe78",
   "metadata": {},
   "outputs": [
    {
     "data": {
      "text/plain": [
       "<AxesSubplot:ylabel='Attrition_Flag,Card_Category'>"
      ]
     },
     "execution_count": 22,
     "metadata": {},
     "output_type": "execute_result"
    },
    {
     "data": {
      "image/png": "[encoded data removed]",
      "text/plain": [
       "<Figure size 432x288 with 1 Axes>"
      ]
     },
     "metadata": {
      "needs_background": "light"
     },
     "output_type": "display_data"
    }
   ],
   "source": [
    "df.groupby('Attrition_Flag')['Card_Category'].value_counts().sort_values(ascending=True).plot.barh()"
   ]
  },
  {
   "cell_type": "markdown",
   "id": "3dbddad0",
   "metadata": {},
   "source": [
    "## Both existing and attrited cusomers have the highest Blue card holders"
   ]
  },
  {
   "cell_type": "code",
   "execution_count": 23,
   "id": "6d4a7d4f",
   "metadata": {},
   "outputs": [
    {
     "data": {
      "text/plain": [
       "Attrition_Flag     Income_Category\n",
       "Attrited Customer  Less than $40K      612\n",
       "                   $40K - $60K         271\n",
       "                   $80K - $120K        242\n",
       "                   $60K - $80K         189\n",
       "                   Unknown             187\n",
       "                   $120K +             126\n",
       "Existing Customer  Less than $40K     2949\n",
       "                   $40K - $60K        1519\n",
       "                   $80K - $120K       1293\n",
       "                   $60K - $80K        1213\n",
       "                   Unknown             925\n",
       "                   $120K +             601\n",
       "Name: Income_Category, dtype: int64"
      ]
     },
     "execution_count": 23,
     "metadata": {},
     "output_type": "execute_result"
    }
   ],
   "source": [
    "df.groupby('Attrition_Flag')['Income_Category'].value_counts()"
   ]
  },
  {
   "cell_type": "code",
   "execution_count": 24,
   "id": "74d9c58e",
   "metadata": {},
   "outputs": [
    {
     "data": {
      "text/plain": [
       "<AxesSubplot:ylabel='Attrition_Flag,Income_Category'>"
      ]
     },
     "execution_count": 24,
     "metadata": {},
     "output_type": "execute_result"
    },
    {
     "data": {
      "image/png": "[encoded data removed]",
      "text/plain": [
       "<Figure size 432x288 with 1 Axes>"
      ]
     },
     "metadata": {
      "needs_background": "light"
     },
     "output_type": "display_data"
    }
   ],
   "source": [
    "df.groupby('Attrition_Flag')['Income_Category'].value_counts().sort_values(ascending=True).plot.barh()"
   ]
  },
  {
   "cell_type": "markdown",
   "id": "a4cda369",
   "metadata": {},
   "source": [
    "## The ranking is given For the existing customer, the ranking is given:\n",
    "\n",
    "### 1. Less than $40K\n",
    "\n",
    "### 2. $40K-60K\n",
    "\n",
    "### 3. $80-120K\n",
    "\n",
    "\n",
    "### For the attrited customer, the rating is given:\n",
    "\n",
    "### 1. Less than $40K\n",
    "\n",
    "### 2. $40K-60K\n",
    "\n",
    "### 3. $80K-120K"
   ]
  },
  {
   "cell_type": "code",
   "execution_count": 25,
   "id": "136f0bc9",
   "metadata": {},
   "outputs": [
    {
     "data": {
      "image/png": "[encoded data removed]",
      "text/plain": [
       "<Figure size 1080x720 with 16 Axes>"
      ]
     },
     "metadata": {
      "needs_background": "light"
     },
     "output_type": "display_data"
    }
   ],
   "source": [
    "df.hist(figsize=(15, 10))\n",
    "plt.subplots_adjust(hspace=0.5);"
   ]
  },
  {
   "cell_type": "markdown",
   "id": "6467f655",
   "metadata": {},
   "source": [
    "### Based on the histogram, it is visible that overall histogram for all variables are fine and feasible."
   ]
  },
  {
   "cell_type": "code",
   "execution_count": 26,
   "id": "113b77f9",
   "metadata": {},
   "outputs": [],
   "source": [
    "import matplotlib as mpl\n",
    "import matplotlib.pyplot as plt \n",
    "%matplotlib inline\n",
    "import seaborn as sns\n",
    "import pandas as pd\n",
    "import statsmodels.api as sm\n",
    "sns.set_style(\"darkgrid\")\n",
    "mpl.rcParams['figure.figsize'] = (20,5)"
   ]
  },
  {
   "cell_type": "code",
   "execution_count": 27,
   "id": "559970c7",
   "metadata": {},
   "outputs": [
    {
     "data": {
      "text/plain": [
       "Index(['CLIENTNUM', 'Attrition_Flag', 'Customer_Age', 'Gender',\n",
       "       'Dependent_count', 'Education_Level', 'Marital_Status',\n",
       "       'Income_Category', 'Card_Category', 'Months_on_book',\n",
       "       'Total_Relationship_Count', 'Months_Inactive_12_mon',\n",
       "       'Contacts_Count_12_mon', 'Credit_Limit', 'Total_Revolving_Bal',\n",
       "       'Avg_Open_To_Buy', 'Total_Amt_Chng_Q4_Q1', 'Total_Trans_Amt',\n",
       "       'Total_Trans_Ct', 'Total_Ct_Chng_Q4_Q1', 'Avg_Utilization_Ratio'],\n",
       "      dtype='object')"
      ]
     },
     "execution_count": 27,
     "metadata": {},
     "output_type": "execute_result"
    }
   ],
   "source": [
    "df.columns"
   ]
  },
  {
   "cell_type": "code",
   "execution_count": 28,
   "id": "bb70e484",
   "metadata": {},
   "outputs": [
    {
     "data": {
      "text/plain": [
       "Existing Customer    8500\n",
       "Attrited Customer    1627\n",
       "Name: Attrition_Flag, dtype: int64"
      ]
     },
     "execution_count": 28,
     "metadata": {},
     "output_type": "execute_result"
    }
   ],
   "source": [
    "df.Attrition_Flag.value_counts()"
   ]
  },
  {
   "cell_type": "markdown",
   "id": "cf0be693",
   "metadata": {},
   "source": [
    "# Creating dummy variables for Attrition_Flag"
   ]
  },
  {
   "cell_type": "code",
   "execution_count": 29,
   "id": "089e71fb",
   "metadata": {},
   "outputs": [],
   "source": [
    "# converting to binary data\n",
    "df_one = pd.get_dummies(df['Attrition_Flag'])\n",
    "# print(df_one)\n",
    " \n",
    "# display result\n",
    "df_two = pd.concat((df_one, df), axis=1)\n",
    "df_two = df_two.drop([\"Attrition_Flag\"], axis=1)\n",
    "df_two = df_two.drop([\"Existing Customer\"], axis=1)\n"
   ]
  },
  {
   "cell_type": "code",
   "execution_count": 30,
   "id": "bf304f9a",
   "metadata": {},
   "outputs": [
    {
     "data": {
      "text/html": [
       "<div>\n",
       "<style scoped>\n",
       "    .dataframe tbody tr th:only-of-type {\n",
       "        vertical-align: middle;\n",
       "    }\n",
       "\n",
       "    .dataframe tbody tr th {\n",
       "        vertical-align: top;\n",
       "    }\n",
       "\n",
       "    .dataframe thead th {\n",
       "        text-align: right;\n",
       "    }\n",
       "</style>\n",
       "<table border=\"1\" class=\"dataframe\">\n",
       "  <thead>\n",
       "    <tr style=\"text-align: right;\">\n",
       "      <th></th>\n",
       "      <th>Attrited Customer</th>\n",
       "      <th>CLIENTNUM</th>\n",
       "      <th>Customer_Age</th>\n",
       "      <th>Gender</th>\n",
       "      <th>Dependent_count</th>\n",
       "      <th>Education_Level</th>\n",
       "      <th>Marital_Status</th>\n",
       "      <th>Income_Category</th>\n",
       "      <th>Card_Category</th>\n",
       "      <th>Months_on_book</th>\n",
       "      <th>...</th>\n",
       "      <th>Months_Inactive_12_mon</th>\n",
       "      <th>Contacts_Count_12_mon</th>\n",
       "      <th>Credit_Limit</th>\n",
       "      <th>Total_Revolving_Bal</th>\n",
       "      <th>Avg_Open_To_Buy</th>\n",
       "      <th>Total_Amt_Chng_Q4_Q1</th>\n",
       "      <th>Total_Trans_Amt</th>\n",
       "      <th>Total_Trans_Ct</th>\n",
       "      <th>Total_Ct_Chng_Q4_Q1</th>\n",
       "      <th>Avg_Utilization_Ratio</th>\n",
       "    </tr>\n",
       "  </thead>\n",
       "  <tbody>\n",
       "    <tr>\n",
       "      <th>0</th>\n",
       "      <td>0</td>\n",
       "      <td>768805383</td>\n",
       "      <td>45</td>\n",
       "      <td>M</td>\n",
       "      <td>3</td>\n",
       "      <td>High School</td>\n",
       "      <td>Married</td>\n",
       "      <td>$60K - $80K</td>\n",
       "      <td>Blue</td>\n",
       "      <td>39</td>\n",
       "      <td>...</td>\n",
       "      <td>1</td>\n",
       "      <td>3</td>\n",
       "      <td>12691.0</td>\n",
       "      <td>777</td>\n",
       "      <td>11914.0</td>\n",
       "      <td>1.335</td>\n",
       "      <td>1144</td>\n",
       "      <td>42</td>\n",
       "      <td>1.625</td>\n",
       "      <td>0.061</td>\n",
       "    </tr>\n",
       "    <tr>\n",
       "      <th>1</th>\n",
       "      <td>0</td>\n",
       "      <td>818770008</td>\n",
       "      <td>49</td>\n",
       "      <td>F</td>\n",
       "      <td>5</td>\n",
       "      <td>Graduate</td>\n",
       "      <td>Single</td>\n",
       "      <td>Less than $40K</td>\n",
       "      <td>Blue</td>\n",
       "      <td>44</td>\n",
       "      <td>...</td>\n",
       "      <td>1</td>\n",
       "      <td>2</td>\n",
       "      <td>8256.0</td>\n",
       "      <td>864</td>\n",
       "      <td>7392.0</td>\n",
       "      <td>1.541</td>\n",
       "      <td>1291</td>\n",
       "      <td>33</td>\n",
       "      <td>3.714</td>\n",
       "      <td>0.105</td>\n",
       "    </tr>\n",
       "    <tr>\n",
       "      <th>2</th>\n",
       "      <td>0</td>\n",
       "      <td>713982108</td>\n",
       "      <td>51</td>\n",
       "      <td>M</td>\n",
       "      <td>3</td>\n",
       "      <td>Graduate</td>\n",
       "      <td>Married</td>\n",
       "      <td>$80K - $120K</td>\n",
       "      <td>Blue</td>\n",
       "      <td>36</td>\n",
       "      <td>...</td>\n",
       "      <td>1</td>\n",
       "      <td>0</td>\n",
       "      <td>3418.0</td>\n",
       "      <td>0</td>\n",
       "      <td>3418.0</td>\n",
       "      <td>2.594</td>\n",
       "      <td>1887</td>\n",
       "      <td>20</td>\n",
       "      <td>2.333</td>\n",
       "      <td>0.000</td>\n",
       "    </tr>\n",
       "    <tr>\n",
       "      <th>3</th>\n",
       "      <td>0</td>\n",
       "      <td>769911858</td>\n",
       "      <td>40</td>\n",
       "      <td>F</td>\n",
       "      <td>4</td>\n",
       "      <td>High School</td>\n",
       "      <td>Unknown</td>\n",
       "      <td>Less than $40K</td>\n",
       "      <td>Blue</td>\n",
       "      <td>34</td>\n",
       "      <td>...</td>\n",
       "      <td>4</td>\n",
       "      <td>1</td>\n",
       "      <td>3313.0</td>\n",
       "      <td>2517</td>\n",
       "      <td>796.0</td>\n",
       "      <td>1.405</td>\n",
       "      <td>1171</td>\n",
       "      <td>20</td>\n",
       "      <td>2.333</td>\n",
       "      <td>0.760</td>\n",
       "    </tr>\n",
       "    <tr>\n",
       "      <th>4</th>\n",
       "      <td>0</td>\n",
       "      <td>709106358</td>\n",
       "      <td>40</td>\n",
       "      <td>M</td>\n",
       "      <td>3</td>\n",
       "      <td>Uneducated</td>\n",
       "      <td>Married</td>\n",
       "      <td>$60K - $80K</td>\n",
       "      <td>Blue</td>\n",
       "      <td>21</td>\n",
       "      <td>...</td>\n",
       "      <td>1</td>\n",
       "      <td>0</td>\n",
       "      <td>4716.0</td>\n",
       "      <td>0</td>\n",
       "      <td>4716.0</td>\n",
       "      <td>2.175</td>\n",
       "      <td>816</td>\n",
       "      <td>28</td>\n",
       "      <td>2.500</td>\n",
       "      <td>0.000</td>\n",
       "    </tr>\n",
       "  </tbody>\n",
       "</table>\n",
       "<p>5 rows × 21 columns</p>\n",
       "</div>"
      ],
      "text/plain": [
       "   Attrited Customer  CLIENTNUM  Customer_Age Gender  Dependent_count  \\\n",
       "0                  0  768805383            45      M                3   \n",
       "1                  0  818770008            49      F                5   \n",
       "2                  0  713982108            51      M                3   \n",
       "3                  0  769911858            40      F                4   \n",
       "4                  0  709106358            40      M                3   \n",
       "\n",
       "  Education_Level Marital_Status Income_Category Card_Category  \\\n",
       "0     High School        Married     $60K - $80K          Blue   \n",
       "1        Graduate         Single  Less than $40K          Blue   \n",
       "2        Graduate        Married    $80K - $120K          Blue   \n",
       "3     High School        Unknown  Less than $40K          Blue   \n",
       "4      Uneducated        Married     $60K - $80K          Blue   \n",
       "\n",
       "   Months_on_book  ...  Months_Inactive_12_mon  Contacts_Count_12_mon  \\\n",
       "0              39  ...                       1                      3   \n",
       "1              44  ...                       1                      2   \n",
       "2              36  ...                       1                      0   \n",
       "3              34  ...                       4                      1   \n",
       "4              21  ...                       1                      0   \n",
       "\n",
       "   Credit_Limit  Total_Revolving_Bal  Avg_Open_To_Buy  Total_Amt_Chng_Q4_Q1  \\\n",
       "0       12691.0                  777          11914.0                 1.335   \n",
       "1        8256.0                  864           7392.0                 1.541   \n",
       "2        3418.0                    0           3418.0                 2.594   \n",
       "3        3313.0                 2517            796.0                 1.405   \n",
       "4        4716.0                    0           4716.0                 2.175   \n",
       "\n",
       "   Total_Trans_Amt  Total_Trans_Ct  Total_Ct_Chng_Q4_Q1  Avg_Utilization_Ratio  \n",
       "0             1144              42                1.625                  0.061  \n",
       "1             1291              33                3.714                  0.105  \n",
       "2             1887              20                2.333                  0.000  \n",
       "3             1171              20                2.333                  0.760  \n",
       "4              816              28                2.500                  0.000  \n",
       "\n",
       "[5 rows x 21 columns]"
      ]
     },
     "execution_count": 30,
     "metadata": {},
     "output_type": "execute_result"
    }
   ],
   "source": [
    "df_two.head()"
   ]
  },
  {
   "cell_type": "code",
   "execution_count": 31,
   "id": "f55b8c8f",
   "metadata": {},
   "outputs": [],
   "source": [
    "mehedi=df_two.corr()"
   ]
  },
  {
   "cell_type": "code",
   "execution_count": 32,
   "id": "2a763aef",
   "metadata": {},
   "outputs": [
    {
     "data": {
      "text/html": [
       "<div>\n",
       "<style scoped>\n",
       "    .dataframe tbody tr th:only-of-type {\n",
       "        vertical-align: middle;\n",
       "    }\n",
       "\n",
       "    .dataframe tbody tr th {\n",
       "        vertical-align: top;\n",
       "    }\n",
       "\n",
       "    .dataframe thead th {\n",
       "        text-align: right;\n",
       "    }\n",
       "</style>\n",
       "<table border=\"1\" class=\"dataframe\">\n",
       "  <thead>\n",
       "    <tr style=\"text-align: right;\">\n",
       "      <th></th>\n",
       "      <th>Attrited Customer</th>\n",
       "      <th>CLIENTNUM</th>\n",
       "      <th>Customer_Age</th>\n",
       "      <th>Dependent_count</th>\n",
       "      <th>Months_on_book</th>\n",
       "      <th>Total_Relationship_Count</th>\n",
       "      <th>Months_Inactive_12_mon</th>\n",
       "      <th>Contacts_Count_12_mon</th>\n",
       "      <th>Credit_Limit</th>\n",
       "      <th>Total_Revolving_Bal</th>\n",
       "      <th>Avg_Open_To_Buy</th>\n",
       "      <th>Total_Amt_Chng_Q4_Q1</th>\n",
       "      <th>Total_Trans_Amt</th>\n",
       "      <th>Total_Trans_Ct</th>\n",
       "      <th>Total_Ct_Chng_Q4_Q1</th>\n",
       "      <th>Avg_Utilization_Ratio</th>\n",
       "    </tr>\n",
       "  </thead>\n",
       "  <tbody>\n",
       "    <tr>\n",
       "      <th>Attrited Customer</th>\n",
       "      <td>1.000000</td>\n",
       "      <td>-0.046430</td>\n",
       "      <td>0.018203</td>\n",
       "      <td>0.018991</td>\n",
       "      <td>0.013687</td>\n",
       "      <td>-0.150005</td>\n",
       "      <td>0.152449</td>\n",
       "      <td>0.204491</td>\n",
       "      <td>-0.023873</td>\n",
       "      <td>-0.263053</td>\n",
       "      <td>-0.000285</td>\n",
       "      <td>-0.131063</td>\n",
       "      <td>-0.168598</td>\n",
       "      <td>-0.371403</td>\n",
       "      <td>-0.290054</td>\n",
       "      <td>-0.178410</td>\n",
       "    </tr>\n",
       "    <tr>\n",
       "      <th>CLIENTNUM</th>\n",
       "      <td>-0.046430</td>\n",
       "      <td>1.000000</td>\n",
       "      <td>0.007613</td>\n",
       "      <td>0.006772</td>\n",
       "      <td>0.134588</td>\n",
       "      <td>0.006907</td>\n",
       "      <td>0.005729</td>\n",
       "      <td>0.005694</td>\n",
       "      <td>0.005708</td>\n",
       "      <td>0.000825</td>\n",
       "      <td>0.005633</td>\n",
       "      <td>0.017369</td>\n",
       "      <td>-0.019692</td>\n",
       "      <td>-0.002961</td>\n",
       "      <td>0.007696</td>\n",
       "      <td>0.000266</td>\n",
       "    </tr>\n",
       "    <tr>\n",
       "      <th>Customer_Age</th>\n",
       "      <td>0.018203</td>\n",
       "      <td>0.007613</td>\n",
       "      <td>1.000000</td>\n",
       "      <td>-0.122254</td>\n",
       "      <td>0.788912</td>\n",
       "      <td>-0.010931</td>\n",
       "      <td>0.054361</td>\n",
       "      <td>-0.018452</td>\n",
       "      <td>0.002476</td>\n",
       "      <td>0.014780</td>\n",
       "      <td>0.001151</td>\n",
       "      <td>-0.062042</td>\n",
       "      <td>-0.046446</td>\n",
       "      <td>-0.067097</td>\n",
       "      <td>-0.012143</td>\n",
       "      <td>0.007114</td>\n",
       "    </tr>\n",
       "    <tr>\n",
       "      <th>Dependent_count</th>\n",
       "      <td>0.018991</td>\n",
       "      <td>0.006772</td>\n",
       "      <td>-0.122254</td>\n",
       "      <td>1.000000</td>\n",
       "      <td>-0.103062</td>\n",
       "      <td>-0.039076</td>\n",
       "      <td>-0.010768</td>\n",
       "      <td>-0.040505</td>\n",
       "      <td>0.068065</td>\n",
       "      <td>-0.002688</td>\n",
       "      <td>0.068291</td>\n",
       "      <td>-0.035439</td>\n",
       "      <td>0.025046</td>\n",
       "      <td>0.049912</td>\n",
       "      <td>0.011087</td>\n",
       "      <td>-0.037135</td>\n",
       "    </tr>\n",
       "    <tr>\n",
       "      <th>Months_on_book</th>\n",
       "      <td>0.013687</td>\n",
       "      <td>0.134588</td>\n",
       "      <td>0.788912</td>\n",
       "      <td>-0.103062</td>\n",
       "      <td>1.000000</td>\n",
       "      <td>-0.009203</td>\n",
       "      <td>0.074164</td>\n",
       "      <td>-0.010774</td>\n",
       "      <td>0.007507</td>\n",
       "      <td>0.008623</td>\n",
       "      <td>0.006732</td>\n",
       "      <td>-0.048959</td>\n",
       "      <td>-0.038591</td>\n",
       "      <td>-0.049819</td>\n",
       "      <td>-0.014072</td>\n",
       "      <td>-0.007541</td>\n",
       "    </tr>\n",
       "    <tr>\n",
       "      <th>Total_Relationship_Count</th>\n",
       "      <td>-0.150005</td>\n",
       "      <td>0.006907</td>\n",
       "      <td>-0.010931</td>\n",
       "      <td>-0.039076</td>\n",
       "      <td>-0.009203</td>\n",
       "      <td>1.000000</td>\n",
       "      <td>-0.003675</td>\n",
       "      <td>0.055203</td>\n",
       "      <td>-0.071386</td>\n",
       "      <td>0.013726</td>\n",
       "      <td>-0.072601</td>\n",
       "      <td>0.050119</td>\n",
       "      <td>-0.347229</td>\n",
       "      <td>-0.241891</td>\n",
       "      <td>0.040831</td>\n",
       "      <td>0.067663</td>\n",
       "    </tr>\n",
       "    <tr>\n",
       "      <th>Months_Inactive_12_mon</th>\n",
       "      <td>0.152449</td>\n",
       "      <td>0.005729</td>\n",
       "      <td>0.054361</td>\n",
       "      <td>-0.010768</td>\n",
       "      <td>0.074164</td>\n",
       "      <td>-0.003675</td>\n",
       "      <td>1.000000</td>\n",
       "      <td>0.029493</td>\n",
       "      <td>-0.020394</td>\n",
       "      <td>-0.042210</td>\n",
       "      <td>-0.016605</td>\n",
       "      <td>-0.032247</td>\n",
       "      <td>-0.036982</td>\n",
       "      <td>-0.042787</td>\n",
       "      <td>-0.038989</td>\n",
       "      <td>-0.007503</td>\n",
       "    </tr>\n",
       "    <tr>\n",
       "      <th>Contacts_Count_12_mon</th>\n",
       "      <td>0.204491</td>\n",
       "      <td>0.005694</td>\n",
       "      <td>-0.018452</td>\n",
       "      <td>-0.040505</td>\n",
       "      <td>-0.010774</td>\n",
       "      <td>0.055203</td>\n",
       "      <td>0.029493</td>\n",
       "      <td>1.000000</td>\n",
       "      <td>0.020817</td>\n",
       "      <td>-0.053913</td>\n",
       "      <td>0.025646</td>\n",
       "      <td>-0.024445</td>\n",
       "      <td>-0.112774</td>\n",
       "      <td>-0.152213</td>\n",
       "      <td>-0.094997</td>\n",
       "      <td>-0.055471</td>\n",
       "    </tr>\n",
       "    <tr>\n",
       "      <th>Credit_Limit</th>\n",
       "      <td>-0.023873</td>\n",
       "      <td>0.005708</td>\n",
       "      <td>0.002476</td>\n",
       "      <td>0.068065</td>\n",
       "      <td>0.007507</td>\n",
       "      <td>-0.071386</td>\n",
       "      <td>-0.020394</td>\n",
       "      <td>0.020817</td>\n",
       "      <td>1.000000</td>\n",
       "      <td>0.042493</td>\n",
       "      <td>0.995981</td>\n",
       "      <td>0.012813</td>\n",
       "      <td>0.171730</td>\n",
       "      <td>0.075927</td>\n",
       "      <td>-0.002020</td>\n",
       "      <td>-0.482965</td>\n",
       "    </tr>\n",
       "    <tr>\n",
       "      <th>Total_Revolving_Bal</th>\n",
       "      <td>-0.263053</td>\n",
       "      <td>0.000825</td>\n",
       "      <td>0.014780</td>\n",
       "      <td>-0.002688</td>\n",
       "      <td>0.008623</td>\n",
       "      <td>0.013726</td>\n",
       "      <td>-0.042210</td>\n",
       "      <td>-0.053913</td>\n",
       "      <td>0.042493</td>\n",
       "      <td>1.000000</td>\n",
       "      <td>-0.047167</td>\n",
       "      <td>0.058174</td>\n",
       "      <td>0.064370</td>\n",
       "      <td>0.056060</td>\n",
       "      <td>0.089861</td>\n",
       "      <td>0.624022</td>\n",
       "    </tr>\n",
       "    <tr>\n",
       "      <th>Avg_Open_To_Buy</th>\n",
       "      <td>-0.000285</td>\n",
       "      <td>0.005633</td>\n",
       "      <td>0.001151</td>\n",
       "      <td>0.068291</td>\n",
       "      <td>0.006732</td>\n",
       "      <td>-0.072601</td>\n",
       "      <td>-0.016605</td>\n",
       "      <td>0.025646</td>\n",
       "      <td>0.995981</td>\n",
       "      <td>-0.047167</td>\n",
       "      <td>1.000000</td>\n",
       "      <td>0.007595</td>\n",
       "      <td>0.165923</td>\n",
       "      <td>0.070885</td>\n",
       "      <td>-0.010076</td>\n",
       "      <td>-0.538808</td>\n",
       "    </tr>\n",
       "    <tr>\n",
       "      <th>Total_Amt_Chng_Q4_Q1</th>\n",
       "      <td>-0.131063</td>\n",
       "      <td>0.017369</td>\n",
       "      <td>-0.062042</td>\n",
       "      <td>-0.035439</td>\n",
       "      <td>-0.048959</td>\n",
       "      <td>0.050119</td>\n",
       "      <td>-0.032247</td>\n",
       "      <td>-0.024445</td>\n",
       "      <td>0.012813</td>\n",
       "      <td>0.058174</td>\n",
       "      <td>0.007595</td>\n",
       "      <td>1.000000</td>\n",
       "      <td>0.039678</td>\n",
       "      <td>0.005469</td>\n",
       "      <td>0.384189</td>\n",
       "      <td>0.035235</td>\n",
       "    </tr>\n",
       "    <tr>\n",
       "      <th>Total_Trans_Amt</th>\n",
       "      <td>-0.168598</td>\n",
       "      <td>-0.019692</td>\n",
       "      <td>-0.046446</td>\n",
       "      <td>0.025046</td>\n",
       "      <td>-0.038591</td>\n",
       "      <td>-0.347229</td>\n",
       "      <td>-0.036982</td>\n",
       "      <td>-0.112774</td>\n",
       "      <td>0.171730</td>\n",
       "      <td>0.064370</td>\n",
       "      <td>0.165923</td>\n",
       "      <td>0.039678</td>\n",
       "      <td>1.000000</td>\n",
       "      <td>0.807192</td>\n",
       "      <td>0.085581</td>\n",
       "      <td>-0.083034</td>\n",
       "    </tr>\n",
       "    <tr>\n",
       "      <th>Total_Trans_Ct</th>\n",
       "      <td>-0.371403</td>\n",
       "      <td>-0.002961</td>\n",
       "      <td>-0.067097</td>\n",
       "      <td>0.049912</td>\n",
       "      <td>-0.049819</td>\n",
       "      <td>-0.241891</td>\n",
       "      <td>-0.042787</td>\n",
       "      <td>-0.152213</td>\n",
       "      <td>0.075927</td>\n",
       "      <td>0.056060</td>\n",
       "      <td>0.070885</td>\n",
       "      <td>0.005469</td>\n",
       "      <td>0.807192</td>\n",
       "      <td>1.000000</td>\n",
       "      <td>0.112324</td>\n",
       "      <td>0.002838</td>\n",
       "    </tr>\n",
       "    <tr>\n",
       "      <th>Total_Ct_Chng_Q4_Q1</th>\n",
       "      <td>-0.290054</td>\n",
       "      <td>0.007696</td>\n",
       "      <td>-0.012143</td>\n",
       "      <td>0.011087</td>\n",
       "      <td>-0.014072</td>\n",
       "      <td>0.040831</td>\n",
       "      <td>-0.038989</td>\n",
       "      <td>-0.094997</td>\n",
       "      <td>-0.002020</td>\n",
       "      <td>0.089861</td>\n",
       "      <td>-0.010076</td>\n",
       "      <td>0.384189</td>\n",
       "      <td>0.085581</td>\n",
       "      <td>0.112324</td>\n",
       "      <td>1.000000</td>\n",
       "      <td>0.074143</td>\n",
       "    </tr>\n",
       "    <tr>\n",
       "      <th>Avg_Utilization_Ratio</th>\n",
       "      <td>-0.178410</td>\n",
       "      <td>0.000266</td>\n",
       "      <td>0.007114</td>\n",
       "      <td>-0.037135</td>\n",
       "      <td>-0.007541</td>\n",
       "      <td>0.067663</td>\n",
       "      <td>-0.007503</td>\n",
       "      <td>-0.055471</td>\n",
       "      <td>-0.482965</td>\n",
       "      <td>0.624022</td>\n",
       "      <td>-0.538808</td>\n",
       "      <td>0.035235</td>\n",
       "      <td>-0.083034</td>\n",
       "      <td>0.002838</td>\n",
       "      <td>0.074143</td>\n",
       "      <td>1.000000</td>\n",
       "    </tr>\n",
       "  </tbody>\n",
       "</table>\n",
       "</div>"
      ],
      "text/plain": [
       "                          Attrited Customer  CLIENTNUM  Customer_Age  \\\n",
       "Attrited Customer                  1.000000  -0.046430      0.018203   \n",
       "CLIENTNUM                         -0.046430   1.000000      0.007613   \n",
       "Customer_Age                       0.018203   0.007613      1.000000   \n",
       "Dependent_count                    0.018991   0.006772     -0.122254   \n",
       "Months_on_book                     0.013687   0.134588      0.788912   \n",
       "Total_Relationship_Count          -0.150005   0.006907     -0.010931   \n",
       "Months_Inactive_12_mon             0.152449   0.005729      0.054361   \n",
       "Contacts_Count_12_mon              0.204491   0.005694     -0.018452   \n",
       "Credit_Limit                      -0.023873   0.005708      0.002476   \n",
       "Total_Revolving_Bal               -0.263053   0.000825      0.014780   \n",
       "Avg_Open_To_Buy                   -0.000285   0.005633      0.001151   \n",
       "Total_Amt_Chng_Q4_Q1              -0.131063   0.017369     -0.062042   \n",
       "Total_Trans_Amt                   -0.168598  -0.019692     -0.046446   \n",
       "Total_Trans_Ct                    -0.371403  -0.002961     -0.067097   \n",
       "Total_Ct_Chng_Q4_Q1               -0.290054   0.007696     -0.012143   \n",
       "Avg_Utilization_Ratio             -0.178410   0.000266      0.007114   \n",
       "\n",
       "                          Dependent_count  Months_on_book  \\\n",
       "Attrited Customer                0.018991        0.013687   \n",
       "CLIENTNUM                        0.006772        0.134588   \n",
       "Customer_Age                    -0.122254        0.788912   \n",
       "Dependent_count                  1.000000       -0.103062   \n",
       "Months_on_book                  -0.103062        1.000000   \n",
       "Total_Relationship_Count        -0.039076       -0.009203   \n",
       "Months_Inactive_12_mon          -0.010768        0.074164   \n",
       "Contacts_Count_12_mon           -0.040505       -0.010774   \n",
       "Credit_Limit                     0.068065        0.007507   \n",
       "Total_Revolving_Bal             -0.002688        0.008623   \n",
       "Avg_Open_To_Buy                  0.068291        0.006732   \n",
       "Total_Amt_Chng_Q4_Q1            -0.035439       -0.048959   \n",
       "Total_Trans_Amt                  0.025046       -0.038591   \n",
       "Total_Trans_Ct                   0.049912       -0.049819   \n",
       "Total_Ct_Chng_Q4_Q1              0.011087       -0.014072   \n",
       "Avg_Utilization_Ratio           -0.037135       -0.007541   \n",
       "\n",
       "                          Total_Relationship_Count  Months_Inactive_12_mon  \\\n",
       "Attrited Customer                        -0.150005                0.152449   \n",
       "CLIENTNUM                                 0.006907                0.005729   \n",
       "Customer_Age                             -0.010931                0.054361   \n",
       "Dependent_count                          -0.039076               -0.010768   \n",
       "Months_on_book                           -0.009203                0.074164   \n",
       "Total_Relationship_Count                  1.000000               -0.003675   \n",
       "Months_Inactive_12_mon                   -0.003675                1.000000   \n",
       "Contacts_Count_12_mon                     0.055203                0.029493   \n",
       "Credit_Limit                             -0.071386               -0.020394   \n",
       "Total_Revolving_Bal                       0.013726               -0.042210   \n",
       "Avg_Open_To_Buy                          -0.072601               -0.016605   \n",
       "Total_Amt_Chng_Q4_Q1                      0.050119               -0.032247   \n",
       "Total_Trans_Amt                          -0.347229               -0.036982   \n",
       "Total_Trans_Ct                           -0.241891               -0.042787   \n",
       "Total_Ct_Chng_Q4_Q1                       0.040831               -0.038989   \n",
       "Avg_Utilization_Ratio                     0.067663               -0.007503   \n",
       "\n",
       "                          Contacts_Count_12_mon  Credit_Limit  \\\n",
       "Attrited Customer                      0.204491     -0.023873   \n",
       "CLIENTNUM                              0.005694      0.005708   \n",
       "Customer_Age                          -0.018452      0.002476   \n",
       "Dependent_count                       -0.040505      0.068065   \n",
       "Months_on_book                        -0.010774      0.007507   \n",
       "Total_Relationship_Count               0.055203     -0.071386   \n",
       "Months_Inactive_12_mon                 0.029493     -0.020394   \n",
       "Contacts_Count_12_mon                  1.000000      0.020817   \n",
       "Credit_Limit                           0.020817      1.000000   \n",
       "Total_Revolving_Bal                   -0.053913      0.042493   \n",
       "Avg_Open_To_Buy                        0.025646      0.995981   \n",
       "Total_Amt_Chng_Q4_Q1                  -0.024445      0.012813   \n",
       "Total_Trans_Amt                       -0.112774      0.171730   \n",
       "Total_Trans_Ct                        -0.152213      0.075927   \n",
       "Total_Ct_Chng_Q4_Q1                   -0.094997     -0.002020   \n",
       "Avg_Utilization_Ratio                 -0.055471     -0.482965   \n",
       "\n",
       "                          Total_Revolving_Bal  Avg_Open_To_Buy  \\\n",
       "Attrited Customer                   -0.263053        -0.000285   \n",
       "CLIENTNUM                            0.000825         0.005633   \n",
       "Customer_Age                         0.014780         0.001151   \n",
       "Dependent_count                     -0.002688         0.068291   \n",
       "Months_on_book                       0.008623         0.006732   \n",
       "Total_Relationship_Count             0.013726        -0.072601   \n",
       "Months_Inactive_12_mon              -0.042210        -0.016605   \n",
       "Contacts_Count_12_mon               -0.053913         0.025646   \n",
       "Credit_Limit                         0.042493         0.995981   \n",
       "Total_Revolving_Bal                  1.000000        -0.047167   \n",
       "Avg_Open_To_Buy                     -0.047167         1.000000   \n",
       "Total_Amt_Chng_Q4_Q1                 0.058174         0.007595   \n",
       "Total_Trans_Amt                      0.064370         0.165923   \n",
       "Total_Trans_Ct                       0.056060         0.070885   \n",
       "Total_Ct_Chng_Q4_Q1                  0.089861        -0.010076   \n",
       "Avg_Utilization_Ratio                0.624022        -0.538808   \n",
       "\n",
       "                          Total_Amt_Chng_Q4_Q1  Total_Trans_Amt  \\\n",
       "Attrited Customer                    -0.131063        -0.168598   \n",
       "CLIENTNUM                             0.017369        -0.019692   \n",
       "Customer_Age                         -0.062042        -0.046446   \n",
       "Dependent_count                      -0.035439         0.025046   \n",
       "Months_on_book                       -0.048959        -0.038591   \n",
       "Total_Relationship_Count              0.050119        -0.347229   \n",
       "Months_Inactive_12_mon               -0.032247        -0.036982   \n",
       "Contacts_Count_12_mon                -0.024445        -0.112774   \n",
       "Credit_Limit                          0.012813         0.171730   \n",
       "Total_Revolving_Bal                   0.058174         0.064370   \n",
       "Avg_Open_To_Buy                       0.007595         0.165923   \n",
       "Total_Amt_Chng_Q4_Q1                  1.000000         0.039678   \n",
       "Total_Trans_Amt                       0.039678         1.000000   \n",
       "Total_Trans_Ct                        0.005469         0.807192   \n",
       "Total_Ct_Chng_Q4_Q1                   0.384189         0.085581   \n",
       "Avg_Utilization_Ratio                 0.035235        -0.083034   \n",
       "\n",
       "                          Total_Trans_Ct  Total_Ct_Chng_Q4_Q1  \\\n",
       "Attrited Customer              -0.371403            -0.290054   \n",
       "CLIENTNUM                      -0.002961             0.007696   \n",
       "Customer_Age                   -0.067097            -0.012143   \n",
       "Dependent_count                 0.049912             0.011087   \n",
       "Months_on_book                 -0.049819            -0.014072   \n",
       "Total_Relationship_Count       -0.241891             0.040831   \n",
       "Months_Inactive_12_mon         -0.042787            -0.038989   \n",
       "Contacts_Count_12_mon          -0.152213            -0.094997   \n",
       "Credit_Limit                    0.075927            -0.002020   \n",
       "Total_Revolving_Bal             0.056060             0.089861   \n",
       "Avg_Open_To_Buy                 0.070885            -0.010076   \n",
       "Total_Amt_Chng_Q4_Q1            0.005469             0.384189   \n",
       "Total_Trans_Amt                 0.807192             0.085581   \n",
       "Total_Trans_Ct                  1.000000             0.112324   \n",
       "Total_Ct_Chng_Q4_Q1             0.112324             1.000000   \n",
       "Avg_Utilization_Ratio           0.002838             0.074143   \n",
       "\n",
       "                          Avg_Utilization_Ratio  \n",
       "Attrited Customer                     -0.178410  \n",
       "CLIENTNUM                              0.000266  \n",
       "Customer_Age                           0.007114  \n",
       "Dependent_count                       -0.037135  \n",
       "Months_on_book                        -0.007541  \n",
       "Total_Relationship_Count               0.067663  \n",
       "Months_Inactive_12_mon                -0.007503  \n",
       "Contacts_Count_12_mon                 -0.055471  \n",
       "Credit_Limit                          -0.482965  \n",
       "Total_Revolving_Bal                    0.624022  \n",
       "Avg_Open_To_Buy                       -0.538808  \n",
       "Total_Amt_Chng_Q4_Q1                   0.035235  \n",
       "Total_Trans_Amt                       -0.083034  \n",
       "Total_Trans_Ct                         0.002838  \n",
       "Total_Ct_Chng_Q4_Q1                    0.074143  \n",
       "Avg_Utilization_Ratio                  1.000000  "
      ]
     },
     "execution_count": 32,
     "metadata": {},
     "output_type": "execute_result"
    }
   ],
   "source": [
    "mehedi"
   ]
  },
  {
   "cell_type": "markdown",
   "id": "9b53319a",
   "metadata": {},
   "source": [
    "### This is overall correlation values for all variables."
   ]
  },
  {
   "cell_type": "markdown",
   "id": "294c7838",
   "metadata": {},
   "source": [
    "### Correlation for all variables from Heat Map"
   ]
  },
  {
   "cell_type": "code",
   "execution_count": 33,
   "id": "a759bf5d",
   "metadata": {},
   "outputs": [
    {
     "data": {
      "text/plain": [
       "<AxesSubplot:>"
      ]
     },
     "execution_count": 33,
     "metadata": {},
     "output_type": "execute_result"
    },
    {
     "data": {
      "image/png": "[encoded data removed]",
      "text/plain": [
       "<Figure size 1440x360 with 2 Axes>"
      ]
     },
     "metadata": {},
     "output_type": "display_data"
    }
   ],
   "source": [
    "sns.heatmap(mehedi, annot=True)"
   ]
  },
  {
   "cell_type": "markdown",
   "id": "ff922665",
   "metadata": {},
   "source": [
    "### This is the heatmap of correlation values for all variables. "
   ]
  },
  {
   "cell_type": "code",
   "execution_count": 34,
   "id": "411f7ebb",
   "metadata": {},
   "outputs": [
    {
     "data": {
      "text/plain": [
       "<AxesSubplot:>"
      ]
     },
     "execution_count": 34,
     "metadata": {},
     "output_type": "execute_result"
    },
    {
     "data": {
      "image/png": "[encoded data removed]",
      "text/plain": [
       "<Figure size 1440x360 with 1 Axes>"
      ]
     },
     "metadata": {},
     "output_type": "display_data"
    }
   ],
   "source": [
    "mehedi[:1].T.sort_values(by='Attrited Customer',ascending=True).plot.barh()"
   ]
  },
  {
   "cell_type": "markdown",
   "id": "5d53f7f0",
   "metadata": {},
   "source": [
    "### This bar chart shows that contacts in 12 months is positvely correalated with attrited customer. On the other hand, total_trans_Ct has negative correlation with attrited customers. "
   ]
  },
  {
   "cell_type": "code",
   "execution_count": 35,
   "id": "cafa023d",
   "metadata": {
    "scrolled": true
   },
   "outputs": [
    {
     "data": {
      "text/html": [
       "<div>\n",
       "<style scoped>\n",
       "    .dataframe tbody tr th:only-of-type {\n",
       "        vertical-align: middle;\n",
       "    }\n",
       "\n",
       "    .dataframe tbody tr th {\n",
       "        vertical-align: top;\n",
       "    }\n",
       "\n",
       "    .dataframe thead th {\n",
       "        text-align: right;\n",
       "    }\n",
       "</style>\n",
       "<table border=\"1\" class=\"dataframe\">\n",
       "  <thead>\n",
       "    <tr style=\"text-align: right;\">\n",
       "      <th></th>\n",
       "      <th>Attrited Customer</th>\n",
       "    </tr>\n",
       "  </thead>\n",
       "  <tbody>\n",
       "    <tr>\n",
       "      <th>Total_Trans_Ct</th>\n",
       "      <td>-0.371403</td>\n",
       "    </tr>\n",
       "    <tr>\n",
       "      <th>Total_Ct_Chng_Q4_Q1</th>\n",
       "      <td>-0.290054</td>\n",
       "    </tr>\n",
       "    <tr>\n",
       "      <th>Total_Revolving_Bal</th>\n",
       "      <td>-0.263053</td>\n",
       "    </tr>\n",
       "    <tr>\n",
       "      <th>Avg_Utilization_Ratio</th>\n",
       "      <td>-0.178410</td>\n",
       "    </tr>\n",
       "    <tr>\n",
       "      <th>Total_Trans_Amt</th>\n",
       "      <td>-0.168598</td>\n",
       "    </tr>\n",
       "    <tr>\n",
       "      <th>Total_Relationship_Count</th>\n",
       "      <td>-0.150005</td>\n",
       "    </tr>\n",
       "    <tr>\n",
       "      <th>Total_Amt_Chng_Q4_Q1</th>\n",
       "      <td>-0.131063</td>\n",
       "    </tr>\n",
       "    <tr>\n",
       "      <th>CLIENTNUM</th>\n",
       "      <td>-0.046430</td>\n",
       "    </tr>\n",
       "    <tr>\n",
       "      <th>Credit_Limit</th>\n",
       "      <td>-0.023873</td>\n",
       "    </tr>\n",
       "    <tr>\n",
       "      <th>Avg_Open_To_Buy</th>\n",
       "      <td>-0.000285</td>\n",
       "    </tr>\n",
       "    <tr>\n",
       "      <th>Months_on_book</th>\n",
       "      <td>0.013687</td>\n",
       "    </tr>\n",
       "    <tr>\n",
       "      <th>Customer_Age</th>\n",
       "      <td>0.018203</td>\n",
       "    </tr>\n",
       "    <tr>\n",
       "      <th>Dependent_count</th>\n",
       "      <td>0.018991</td>\n",
       "    </tr>\n",
       "    <tr>\n",
       "      <th>Months_Inactive_12_mon</th>\n",
       "      <td>0.152449</td>\n",
       "    </tr>\n",
       "    <tr>\n",
       "      <th>Contacts_Count_12_mon</th>\n",
       "      <td>0.204491</td>\n",
       "    </tr>\n",
       "    <tr>\n",
       "      <th>Attrited Customer</th>\n",
       "      <td>1.000000</td>\n",
       "    </tr>\n",
       "  </tbody>\n",
       "</table>\n",
       "</div>"
      ],
      "text/plain": [
       "                          Attrited Customer\n",
       "Total_Trans_Ct                    -0.371403\n",
       "Total_Ct_Chng_Q4_Q1               -0.290054\n",
       "Total_Revolving_Bal               -0.263053\n",
       "Avg_Utilization_Ratio             -0.178410\n",
       "Total_Trans_Amt                   -0.168598\n",
       "Total_Relationship_Count          -0.150005\n",
       "Total_Amt_Chng_Q4_Q1              -0.131063\n",
       "CLIENTNUM                         -0.046430\n",
       "Credit_Limit                      -0.023873\n",
       "Avg_Open_To_Buy                   -0.000285\n",
       "Months_on_book                     0.013687\n",
       "Customer_Age                       0.018203\n",
       "Dependent_count                    0.018991\n",
       "Months_Inactive_12_mon             0.152449\n",
       "Contacts_Count_12_mon              0.204491\n",
       "Attrited Customer                  1.000000"
      ]
     },
     "execution_count": 35,
     "metadata": {},
     "output_type": "execute_result"
    }
   ],
   "source": [
    "mehedi[:1].T.sort_values(by='Attrited Customer',ascending=True)"
   ]
  },
  {
   "cell_type": "markdown",
   "id": "88a62634",
   "metadata": {},
   "source": [
    "### This bar chart shows that contacts in 12 months is positvely correalated with attrited customer. On the other hand, total_trans_Ct has negative correlation with attrited customers. "
   ]
  },
  {
   "cell_type": "markdown",
   "id": "c88aa827",
   "metadata": {},
   "source": [
    "# Determining Inter Quartile Range "
   ]
  },
  {
   "cell_type": "code",
   "execution_count": 36,
   "id": "e9ea58dd",
   "metadata": {},
   "outputs": [
    {
     "data": {
      "text/html": [
       "<div>\n",
       "<style scoped>\n",
       "    .dataframe tbody tr th:only-of-type {\n",
       "        vertical-align: middle;\n",
       "    }\n",
       "\n",
       "    .dataframe tbody tr th {\n",
       "        vertical-align: top;\n",
       "    }\n",
       "\n",
       "    .dataframe thead th {\n",
       "        text-align: right;\n",
       "    }\n",
       "</style>\n",
       "<table border=\"1\" class=\"dataframe\">\n",
       "  <thead>\n",
       "    <tr style=\"text-align: right;\">\n",
       "      <th></th>\n",
       "      <th>Attrited Customer</th>\n",
       "      <th>CLIENTNUM</th>\n",
       "      <th>Customer_Age</th>\n",
       "      <th>Gender</th>\n",
       "      <th>Dependent_count</th>\n",
       "      <th>Education_Level</th>\n",
       "      <th>Marital_Status</th>\n",
       "      <th>Income_Category</th>\n",
       "      <th>Card_Category</th>\n",
       "      <th>Months_on_book</th>\n",
       "      <th>...</th>\n",
       "      <th>Months_Inactive_12_mon</th>\n",
       "      <th>Contacts_Count_12_mon</th>\n",
       "      <th>Credit_Limit</th>\n",
       "      <th>Total_Revolving_Bal</th>\n",
       "      <th>Avg_Open_To_Buy</th>\n",
       "      <th>Total_Amt_Chng_Q4_Q1</th>\n",
       "      <th>Total_Trans_Amt</th>\n",
       "      <th>Total_Trans_Ct</th>\n",
       "      <th>Total_Ct_Chng_Q4_Q1</th>\n",
       "      <th>Avg_Utilization_Ratio</th>\n",
       "    </tr>\n",
       "  </thead>\n",
       "  <tbody>\n",
       "    <tr>\n",
       "      <th>0</th>\n",
       "      <td>0</td>\n",
       "      <td>768805383</td>\n",
       "      <td>45</td>\n",
       "      <td>M</td>\n",
       "      <td>3</td>\n",
       "      <td>High School</td>\n",
       "      <td>Married</td>\n",
       "      <td>$60K - $80K</td>\n",
       "      <td>Blue</td>\n",
       "      <td>39</td>\n",
       "      <td>...</td>\n",
       "      <td>1</td>\n",
       "      <td>3</td>\n",
       "      <td>12691.0</td>\n",
       "      <td>777</td>\n",
       "      <td>11914.0</td>\n",
       "      <td>1.335</td>\n",
       "      <td>1144</td>\n",
       "      <td>42</td>\n",
       "      <td>1.625</td>\n",
       "      <td>0.061</td>\n",
       "    </tr>\n",
       "    <tr>\n",
       "      <th>1</th>\n",
       "      <td>0</td>\n",
       "      <td>818770008</td>\n",
       "      <td>49</td>\n",
       "      <td>F</td>\n",
       "      <td>5</td>\n",
       "      <td>Graduate</td>\n",
       "      <td>Single</td>\n",
       "      <td>Less than $40K</td>\n",
       "      <td>Blue</td>\n",
       "      <td>44</td>\n",
       "      <td>...</td>\n",
       "      <td>1</td>\n",
       "      <td>2</td>\n",
       "      <td>8256.0</td>\n",
       "      <td>864</td>\n",
       "      <td>7392.0</td>\n",
       "      <td>1.541</td>\n",
       "      <td>1291</td>\n",
       "      <td>33</td>\n",
       "      <td>3.714</td>\n",
       "      <td>0.105</td>\n",
       "    </tr>\n",
       "    <tr>\n",
       "      <th>2</th>\n",
       "      <td>0</td>\n",
       "      <td>713982108</td>\n",
       "      <td>51</td>\n",
       "      <td>M</td>\n",
       "      <td>3</td>\n",
       "      <td>Graduate</td>\n",
       "      <td>Married</td>\n",
       "      <td>$80K - $120K</td>\n",
       "      <td>Blue</td>\n",
       "      <td>36</td>\n",
       "      <td>...</td>\n",
       "      <td>1</td>\n",
       "      <td>0</td>\n",
       "      <td>3418.0</td>\n",
       "      <td>0</td>\n",
       "      <td>3418.0</td>\n",
       "      <td>2.594</td>\n",
       "      <td>1887</td>\n",
       "      <td>20</td>\n",
       "      <td>2.333</td>\n",
       "      <td>0.000</td>\n",
       "    </tr>\n",
       "    <tr>\n",
       "      <th>3</th>\n",
       "      <td>0</td>\n",
       "      <td>769911858</td>\n",
       "      <td>40</td>\n",
       "      <td>F</td>\n",
       "      <td>4</td>\n",
       "      <td>High School</td>\n",
       "      <td>Unknown</td>\n",
       "      <td>Less than $40K</td>\n",
       "      <td>Blue</td>\n",
       "      <td>34</td>\n",
       "      <td>...</td>\n",
       "      <td>4</td>\n",
       "      <td>1</td>\n",
       "      <td>3313.0</td>\n",
       "      <td>2517</td>\n",
       "      <td>796.0</td>\n",
       "      <td>1.405</td>\n",
       "      <td>1171</td>\n",
       "      <td>20</td>\n",
       "      <td>2.333</td>\n",
       "      <td>0.760</td>\n",
       "    </tr>\n",
       "    <tr>\n",
       "      <th>4</th>\n",
       "      <td>0</td>\n",
       "      <td>709106358</td>\n",
       "      <td>40</td>\n",
       "      <td>M</td>\n",
       "      <td>3</td>\n",
       "      <td>Uneducated</td>\n",
       "      <td>Married</td>\n",
       "      <td>$60K - $80K</td>\n",
       "      <td>Blue</td>\n",
       "      <td>21</td>\n",
       "      <td>...</td>\n",
       "      <td>1</td>\n",
       "      <td>0</td>\n",
       "      <td>4716.0</td>\n",
       "      <td>0</td>\n",
       "      <td>4716.0</td>\n",
       "      <td>2.175</td>\n",
       "      <td>816</td>\n",
       "      <td>28</td>\n",
       "      <td>2.500</td>\n",
       "      <td>0.000</td>\n",
       "    </tr>\n",
       "  </tbody>\n",
       "</table>\n",
       "<p>5 rows × 21 columns</p>\n",
       "</div>"
      ],
      "text/plain": [
       "   Attrited Customer  CLIENTNUM  Customer_Age Gender  Dependent_count  \\\n",
       "0                  0  768805383            45      M                3   \n",
       "1                  0  818770008            49      F                5   \n",
       "2                  0  713982108            51      M                3   \n",
       "3                  0  769911858            40      F                4   \n",
       "4                  0  709106358            40      M                3   \n",
       "\n",
       "  Education_Level Marital_Status Income_Category Card_Category  \\\n",
       "0     High School        Married     $60K - $80K          Blue   \n",
       "1        Graduate         Single  Less than $40K          Blue   \n",
       "2        Graduate        Married    $80K - $120K          Blue   \n",
       "3     High School        Unknown  Less than $40K          Blue   \n",
       "4      Uneducated        Married     $60K - $80K          Blue   \n",
       "\n",
       "   Months_on_book  ...  Months_Inactive_12_mon  Contacts_Count_12_mon  \\\n",
       "0              39  ...                       1                      3   \n",
       "1              44  ...                       1                      2   \n",
       "2              36  ...                       1                      0   \n",
       "3              34  ...                       4                      1   \n",
       "4              21  ...                       1                      0   \n",
       "\n",
       "   Credit_Limit  Total_Revolving_Bal  Avg_Open_To_Buy  Total_Amt_Chng_Q4_Q1  \\\n",
       "0       12691.0                  777          11914.0                 1.335   \n",
       "1        8256.0                  864           7392.0                 1.541   \n",
       "2        3418.0                    0           3418.0                 2.594   \n",
       "3        3313.0                 2517            796.0                 1.405   \n",
       "4        4716.0                    0           4716.0                 2.175   \n",
       "\n",
       "   Total_Trans_Amt  Total_Trans_Ct  Total_Ct_Chng_Q4_Q1  Avg_Utilization_Ratio  \n",
       "0             1144              42                1.625                  0.061  \n",
       "1             1291              33                3.714                  0.105  \n",
       "2             1887              20                2.333                  0.000  \n",
       "3             1171              20                2.333                  0.760  \n",
       "4              816              28                2.500                  0.000  \n",
       "\n",
       "[5 rows x 21 columns]"
      ]
     },
     "execution_count": 36,
     "metadata": {},
     "output_type": "execute_result"
    }
   ],
   "source": [
    "df_two.head()"
   ]
  },
  {
   "cell_type": "code",
   "execution_count": 37,
   "id": "0f90c592",
   "metadata": {},
   "outputs": [],
   "source": [
    "df11=df_two[df_two['Attrited Customer']==1].describe()"
   ]
  },
  {
   "cell_type": "code",
   "execution_count": 38,
   "id": "eec0c979",
   "metadata": {},
   "outputs": [],
   "source": [
    "df12=df_two[df_two['Attrited Customer']==0].describe()"
   ]
  },
  {
   "cell_type": "code",
   "execution_count": 39,
   "id": "8a0df39a",
   "metadata": {},
   "outputs": [
    {
     "data": {
      "text/html": [
       "<div>\n",
       "<style scoped>\n",
       "    .dataframe tbody tr th:only-of-type {\n",
       "        vertical-align: middle;\n",
       "    }\n",
       "\n",
       "    .dataframe tbody tr th {\n",
       "        vertical-align: top;\n",
       "    }\n",
       "\n",
       "    .dataframe thead th {\n",
       "        text-align: right;\n",
       "    }\n",
       "</style>\n",
       "<table border=\"1\" class=\"dataframe\">\n",
       "  <thead>\n",
       "    <tr style=\"text-align: right;\">\n",
       "      <th></th>\n",
       "      <th>Attrited Customer</th>\n",
       "      <th>CLIENTNUM</th>\n",
       "      <th>Customer_Age</th>\n",
       "      <th>Dependent_count</th>\n",
       "      <th>Months_on_book</th>\n",
       "      <th>Total_Relationship_Count</th>\n",
       "      <th>Months_Inactive_12_mon</th>\n",
       "      <th>Contacts_Count_12_mon</th>\n",
       "      <th>Credit_Limit</th>\n",
       "      <th>Total_Revolving_Bal</th>\n",
       "      <th>Avg_Open_To_Buy</th>\n",
       "      <th>Total_Amt_Chng_Q4_Q1</th>\n",
       "      <th>Total_Trans_Amt</th>\n",
       "      <th>Total_Trans_Ct</th>\n",
       "      <th>Total_Ct_Chng_Q4_Q1</th>\n",
       "      <th>Avg_Utilization_Ratio</th>\n",
       "    </tr>\n",
       "  </thead>\n",
       "  <tbody>\n",
       "    <tr>\n",
       "      <th>count</th>\n",
       "      <td>1627.0</td>\n",
       "      <td>1.627000e+03</td>\n",
       "      <td>1627.000000</td>\n",
       "      <td>1627.000000</td>\n",
       "      <td>1627.000000</td>\n",
       "      <td>1627.000000</td>\n",
       "      <td>1627.000000</td>\n",
       "      <td>1627.000000</td>\n",
       "      <td>1627.000000</td>\n",
       "      <td>1627.000000</td>\n",
       "      <td>1627.000000</td>\n",
       "      <td>1627.000000</td>\n",
       "      <td>1627.000000</td>\n",
       "      <td>1627.000000</td>\n",
       "      <td>1627.000000</td>\n",
       "      <td>1627.000000</td>\n",
       "    </tr>\n",
       "    <tr>\n",
       "      <th>mean</th>\n",
       "      <td>1.0</td>\n",
       "      <td>7.352614e+08</td>\n",
       "      <td>46.659496</td>\n",
       "      <td>2.402581</td>\n",
       "      <td>36.178242</td>\n",
       "      <td>3.279656</td>\n",
       "      <td>2.693301</td>\n",
       "      <td>2.972342</td>\n",
       "      <td>8136.039459</td>\n",
       "      <td>672.822987</td>\n",
       "      <td>7463.216472</td>\n",
       "      <td>0.694277</td>\n",
       "      <td>3095.025814</td>\n",
       "      <td>44.933620</td>\n",
       "      <td>0.554386</td>\n",
       "      <td>0.162475</td>\n",
       "    </tr>\n",
       "    <tr>\n",
       "      <th>std</th>\n",
       "      <td>0.0</td>\n",
       "      <td>3.557725e+07</td>\n",
       "      <td>7.665652</td>\n",
       "      <td>1.275010</td>\n",
       "      <td>7.796548</td>\n",
       "      <td>1.577782</td>\n",
       "      <td>0.899623</td>\n",
       "      <td>1.090537</td>\n",
       "      <td>9095.334105</td>\n",
       "      <td>921.385582</td>\n",
       "      <td>9109.208129</td>\n",
       "      <td>0.214924</td>\n",
       "      <td>2308.227629</td>\n",
       "      <td>14.568429</td>\n",
       "      <td>0.226854</td>\n",
       "      <td>0.264458</td>\n",
       "    </tr>\n",
       "    <tr>\n",
       "      <th>min</th>\n",
       "      <td>1.0</td>\n",
       "      <td>7.080833e+08</td>\n",
       "      <td>26.000000</td>\n",
       "      <td>0.000000</td>\n",
       "      <td>13.000000</td>\n",
       "      <td>1.000000</td>\n",
       "      <td>0.000000</td>\n",
       "      <td>0.000000</td>\n",
       "      <td>1438.300000</td>\n",
       "      <td>0.000000</td>\n",
       "      <td>3.000000</td>\n",
       "      <td>0.000000</td>\n",
       "      <td>510.000000</td>\n",
       "      <td>10.000000</td>\n",
       "      <td>0.000000</td>\n",
       "      <td>0.000000</td>\n",
       "    </tr>\n",
       "    <tr>\n",
       "      <th>25%</th>\n",
       "      <td>1.0</td>\n",
       "      <td>7.123713e+08</td>\n",
       "      <td>41.000000</td>\n",
       "      <td>2.000000</td>\n",
       "      <td>32.000000</td>\n",
       "      <td>2.000000</td>\n",
       "      <td>2.000000</td>\n",
       "      <td>2.000000</td>\n",
       "      <td>2114.000000</td>\n",
       "      <td>0.000000</td>\n",
       "      <td>1587.000000</td>\n",
       "      <td>0.544500</td>\n",
       "      <td>1903.500000</td>\n",
       "      <td>37.000000</td>\n",
       "      <td>0.400000</td>\n",
       "      <td>0.000000</td>\n",
       "    </tr>\n",
       "    <tr>\n",
       "      <th>50%</th>\n",
       "      <td>1.0</td>\n",
       "      <td>7.165644e+08</td>\n",
       "      <td>47.000000</td>\n",
       "      <td>2.000000</td>\n",
       "      <td>36.000000</td>\n",
       "      <td>3.000000</td>\n",
       "      <td>3.000000</td>\n",
       "      <td>3.000000</td>\n",
       "      <td>4178.000000</td>\n",
       "      <td>0.000000</td>\n",
       "      <td>3488.000000</td>\n",
       "      <td>0.701000</td>\n",
       "      <td>2329.000000</td>\n",
       "      <td>43.000000</td>\n",
       "      <td>0.531000</td>\n",
       "      <td>0.000000</td>\n",
       "    </tr>\n",
       "    <tr>\n",
       "      <th>75%</th>\n",
       "      <td>1.0</td>\n",
       "      <td>7.683737e+08</td>\n",
       "      <td>52.000000</td>\n",
       "      <td>3.000000</td>\n",
       "      <td>40.000000</td>\n",
       "      <td>5.000000</td>\n",
       "      <td>3.000000</td>\n",
       "      <td>4.000000</td>\n",
       "      <td>9933.500000</td>\n",
       "      <td>1303.500000</td>\n",
       "      <td>9257.500000</td>\n",
       "      <td>0.856000</td>\n",
       "      <td>2772.000000</td>\n",
       "      <td>51.000000</td>\n",
       "      <td>0.692000</td>\n",
       "      <td>0.231000</td>\n",
       "    </tr>\n",
       "    <tr>\n",
       "      <th>max</th>\n",
       "      <td>1.0</td>\n",
       "      <td>8.282949e+08</td>\n",
       "      <td>68.000000</td>\n",
       "      <td>5.000000</td>\n",
       "      <td>56.000000</td>\n",
       "      <td>6.000000</td>\n",
       "      <td>6.000000</td>\n",
       "      <td>6.000000</td>\n",
       "      <td>34516.000000</td>\n",
       "      <td>2517.000000</td>\n",
       "      <td>34516.000000</td>\n",
       "      <td>1.492000</td>\n",
       "      <td>10583.000000</td>\n",
       "      <td>94.000000</td>\n",
       "      <td>2.500000</td>\n",
       "      <td>0.999000</td>\n",
       "    </tr>\n",
       "  </tbody>\n",
       "</table>\n",
       "</div>"
      ],
      "text/plain": [
       "       Attrited Customer     CLIENTNUM  Customer_Age  Dependent_count  \\\n",
       "count             1627.0  1.627000e+03   1627.000000      1627.000000   \n",
       "mean                 1.0  7.352614e+08     46.659496         2.402581   \n",
       "std                  0.0  3.557725e+07      7.665652         1.275010   \n",
       "min                  1.0  7.080833e+08     26.000000         0.000000   \n",
       "25%                  1.0  7.123713e+08     41.000000         2.000000   \n",
       "50%                  1.0  7.165644e+08     47.000000         2.000000   \n",
       "75%                  1.0  7.683737e+08     52.000000         3.000000   \n",
       "max                  1.0  8.282949e+08     68.000000         5.000000   \n",
       "\n",
       "       Months_on_book  Total_Relationship_Count  Months_Inactive_12_mon  \\\n",
       "count     1627.000000               1627.000000             1627.000000   \n",
       "mean        36.178242                  3.279656                2.693301   \n",
       "std          7.796548                  1.577782                0.899623   \n",
       "min         13.000000                  1.000000                0.000000   \n",
       "25%         32.000000                  2.000000                2.000000   \n",
       "50%         36.000000                  3.000000                3.000000   \n",
       "75%         40.000000                  5.000000                3.000000   \n",
       "max         56.000000                  6.000000                6.000000   \n",
       "\n",
       "       Contacts_Count_12_mon  Credit_Limit  Total_Revolving_Bal  \\\n",
       "count            1627.000000   1627.000000          1627.000000   \n",
       "mean                2.972342   8136.039459           672.822987   \n",
       "std                 1.090537   9095.334105           921.385582   \n",
       "min                 0.000000   1438.300000             0.000000   \n",
       "25%                 2.000000   2114.000000             0.000000   \n",
       "50%                 3.000000   4178.000000             0.000000   \n",
       "75%                 4.000000   9933.500000          1303.500000   \n",
       "max                 6.000000  34516.000000          2517.000000   \n",
       "\n",
       "       Avg_Open_To_Buy  Total_Amt_Chng_Q4_Q1  Total_Trans_Amt  Total_Trans_Ct  \\\n",
       "count      1627.000000           1627.000000      1627.000000     1627.000000   \n",
       "mean       7463.216472              0.694277      3095.025814       44.933620   \n",
       "std        9109.208129              0.214924      2308.227629       14.568429   \n",
       "min           3.000000              0.000000       510.000000       10.000000   \n",
       "25%        1587.000000              0.544500      1903.500000       37.000000   \n",
       "50%        3488.000000              0.701000      2329.000000       43.000000   \n",
       "75%        9257.500000              0.856000      2772.000000       51.000000   \n",
       "max       34516.000000              1.492000     10583.000000       94.000000   \n",
       "\n",
       "       Total_Ct_Chng_Q4_Q1  Avg_Utilization_Ratio  \n",
       "count          1627.000000            1627.000000  \n",
       "mean              0.554386               0.162475  \n",
       "std               0.226854               0.264458  \n",
       "min               0.000000               0.000000  \n",
       "25%               0.400000               0.000000  \n",
       "50%               0.531000               0.000000  \n",
       "75%               0.692000               0.231000  \n",
       "max               2.500000               0.999000  "
      ]
     },
     "execution_count": 39,
     "metadata": {},
     "output_type": "execute_result"
    }
   ],
   "source": [
    "df11"
   ]
  },
  {
   "cell_type": "markdown",
   "id": "06c867d0",
   "metadata": {},
   "source": [
    "This is the overall summary for only attrited customer. "
   ]
  },
  {
   "cell_type": "code",
   "execution_count": 40,
   "id": "a5259379",
   "metadata": {},
   "outputs": [
    {
     "data": {
      "text/html": [
       "<div>\n",
       "<style scoped>\n",
       "    .dataframe tbody tr th:only-of-type {\n",
       "        vertical-align: middle;\n",
       "    }\n",
       "\n",
       "    .dataframe tbody tr th {\n",
       "        vertical-align: top;\n",
       "    }\n",
       "\n",
       "    .dataframe thead th {\n",
       "        text-align: right;\n",
       "    }\n",
       "</style>\n",
       "<table border=\"1\" class=\"dataframe\">\n",
       "  <thead>\n",
       "    <tr style=\"text-align: right;\">\n",
       "      <th></th>\n",
       "      <th>Attrited Customer</th>\n",
       "      <th>CLIENTNUM</th>\n",
       "      <th>Customer_Age</th>\n",
       "      <th>Dependent_count</th>\n",
       "      <th>Months_on_book</th>\n",
       "      <th>Total_Relationship_Count</th>\n",
       "      <th>Months_Inactive_12_mon</th>\n",
       "      <th>Contacts_Count_12_mon</th>\n",
       "      <th>Credit_Limit</th>\n",
       "      <th>Total_Revolving_Bal</th>\n",
       "      <th>Avg_Open_To_Buy</th>\n",
       "      <th>Total_Amt_Chng_Q4_Q1</th>\n",
       "      <th>Total_Trans_Amt</th>\n",
       "      <th>Total_Trans_Ct</th>\n",
       "      <th>Total_Ct_Chng_Q4_Q1</th>\n",
       "      <th>Avg_Utilization_Ratio</th>\n",
       "    </tr>\n",
       "  </thead>\n",
       "  <tbody>\n",
       "    <tr>\n",
       "      <th>count</th>\n",
       "      <td>8500.0</td>\n",
       "      <td>8.500000e+03</td>\n",
       "      <td>8500.000000</td>\n",
       "      <td>8500.000000</td>\n",
       "      <td>8500.000000</td>\n",
       "      <td>8500.000000</td>\n",
       "      <td>8500.000000</td>\n",
       "      <td>8500.000000</td>\n",
       "      <td>8500.000000</td>\n",
       "      <td>8500.000000</td>\n",
       "      <td>8500.000000</td>\n",
       "      <td>8500.000000</td>\n",
       "      <td>8500.000000</td>\n",
       "      <td>8500.000000</td>\n",
       "      <td>8500.000000</td>\n",
       "      <td>8500.000000</td>\n",
       "    </tr>\n",
       "    <tr>\n",
       "      <th>mean</th>\n",
       "      <td>0.0</td>\n",
       "      <td>7.399272e+08</td>\n",
       "      <td>46.262118</td>\n",
       "      <td>2.335412</td>\n",
       "      <td>35.880588</td>\n",
       "      <td>3.914588</td>\n",
       "      <td>2.273765</td>\n",
       "      <td>2.356353</td>\n",
       "      <td>8726.877518</td>\n",
       "      <td>1256.604118</td>\n",
       "      <td>7470.273400</td>\n",
       "      <td>0.772510</td>\n",
       "      <td>4654.655882</td>\n",
       "      <td>68.672588</td>\n",
       "      <td>0.742434</td>\n",
       "      <td>0.296412</td>\n",
       "    </tr>\n",
       "    <tr>\n",
       "      <th>std</th>\n",
       "      <td>0.0</td>\n",
       "      <td>3.710723e+07</td>\n",
       "      <td>8.081157</td>\n",
       "      <td>1.303229</td>\n",
       "      <td>8.021810</td>\n",
       "      <td>1.528949</td>\n",
       "      <td>1.016741</td>\n",
       "      <td>1.081436</td>\n",
       "      <td>9084.969807</td>\n",
       "      <td>757.745354</td>\n",
       "      <td>9087.671862</td>\n",
       "      <td>0.217783</td>\n",
       "      <td>3512.772635</td>\n",
       "      <td>22.919011</td>\n",
       "      <td>0.228054</td>\n",
       "      <td>0.272568</td>\n",
       "    </tr>\n",
       "    <tr>\n",
       "      <th>min</th>\n",
       "      <td>0.0</td>\n",
       "      <td>7.080821e+08</td>\n",
       "      <td>26.000000</td>\n",
       "      <td>0.000000</td>\n",
       "      <td>13.000000</td>\n",
       "      <td>1.000000</td>\n",
       "      <td>0.000000</td>\n",
       "      <td>0.000000</td>\n",
       "      <td>1438.300000</td>\n",
       "      <td>0.000000</td>\n",
       "      <td>15.000000</td>\n",
       "      <td>0.256000</td>\n",
       "      <td>816.000000</td>\n",
       "      <td>11.000000</td>\n",
       "      <td>0.028000</td>\n",
       "      <td>0.000000</td>\n",
       "    </tr>\n",
       "    <tr>\n",
       "      <th>25%</th>\n",
       "      <td>0.0</td>\n",
       "      <td>7.132197e+08</td>\n",
       "      <td>41.000000</td>\n",
       "      <td>1.000000</td>\n",
       "      <td>31.000000</td>\n",
       "      <td>3.000000</td>\n",
       "      <td>1.000000</td>\n",
       "      <td>2.000000</td>\n",
       "      <td>2602.000000</td>\n",
       "      <td>800.000000</td>\n",
       "      <td>1184.500000</td>\n",
       "      <td>0.643000</td>\n",
       "      <td>2384.750000</td>\n",
       "      <td>54.000000</td>\n",
       "      <td>0.617000</td>\n",
       "      <td>0.055000</td>\n",
       "    </tr>\n",
       "    <tr>\n",
       "      <th>50%</th>\n",
       "      <td>0.0</td>\n",
       "      <td>7.181643e+08</td>\n",
       "      <td>46.000000</td>\n",
       "      <td>2.000000</td>\n",
       "      <td>36.000000</td>\n",
       "      <td>4.000000</td>\n",
       "      <td>2.000000</td>\n",
       "      <td>2.000000</td>\n",
       "      <td>4643.500000</td>\n",
       "      <td>1364.000000</td>\n",
       "      <td>3469.500000</td>\n",
       "      <td>0.743000</td>\n",
       "      <td>4100.000000</td>\n",
       "      <td>71.000000</td>\n",
       "      <td>0.721000</td>\n",
       "      <td>0.211000</td>\n",
       "    </tr>\n",
       "    <tr>\n",
       "      <th>75%</th>\n",
       "      <td>0.0</td>\n",
       "      <td>7.783415e+08</td>\n",
       "      <td>52.000000</td>\n",
       "      <td>3.000000</td>\n",
       "      <td>40.000000</td>\n",
       "      <td>5.000000</td>\n",
       "      <td>3.000000</td>\n",
       "      <td>3.000000</td>\n",
       "      <td>11252.750000</td>\n",
       "      <td>1807.000000</td>\n",
       "      <td>9978.250000</td>\n",
       "      <td>0.860000</td>\n",
       "      <td>4781.250000</td>\n",
       "      <td>82.000000</td>\n",
       "      <td>0.833000</td>\n",
       "      <td>0.529250</td>\n",
       "    </tr>\n",
       "    <tr>\n",
       "      <th>max</th>\n",
       "      <td>0.0</td>\n",
       "      <td>8.283431e+08</td>\n",
       "      <td>73.000000</td>\n",
       "      <td>5.000000</td>\n",
       "      <td>56.000000</td>\n",
       "      <td>6.000000</td>\n",
       "      <td>6.000000</td>\n",
       "      <td>5.000000</td>\n",
       "      <td>34516.000000</td>\n",
       "      <td>2517.000000</td>\n",
       "      <td>34516.000000</td>\n",
       "      <td>3.397000</td>\n",
       "      <td>18484.000000</td>\n",
       "      <td>139.000000</td>\n",
       "      <td>3.714000</td>\n",
       "      <td>0.994000</td>\n",
       "    </tr>\n",
       "  </tbody>\n",
       "</table>\n",
       "</div>"
      ],
      "text/plain": [
       "       Attrited Customer     CLIENTNUM  Customer_Age  Dependent_count  \\\n",
       "count             8500.0  8.500000e+03   8500.000000      8500.000000   \n",
       "mean                 0.0  7.399272e+08     46.262118         2.335412   \n",
       "std                  0.0  3.710723e+07      8.081157         1.303229   \n",
       "min                  0.0  7.080821e+08     26.000000         0.000000   \n",
       "25%                  0.0  7.132197e+08     41.000000         1.000000   \n",
       "50%                  0.0  7.181643e+08     46.000000         2.000000   \n",
       "75%                  0.0  7.783415e+08     52.000000         3.000000   \n",
       "max                  0.0  8.283431e+08     73.000000         5.000000   \n",
       "\n",
       "       Months_on_book  Total_Relationship_Count  Months_Inactive_12_mon  \\\n",
       "count     8500.000000               8500.000000             8500.000000   \n",
       "mean        35.880588                  3.914588                2.273765   \n",
       "std          8.021810                  1.528949                1.016741   \n",
       "min         13.000000                  1.000000                0.000000   \n",
       "25%         31.000000                  3.000000                1.000000   \n",
       "50%         36.000000                  4.000000                2.000000   \n",
       "75%         40.000000                  5.000000                3.000000   \n",
       "max         56.000000                  6.000000                6.000000   \n",
       "\n",
       "       Contacts_Count_12_mon  Credit_Limit  Total_Revolving_Bal  \\\n",
       "count            8500.000000   8500.000000          8500.000000   \n",
       "mean                2.356353   8726.877518          1256.604118   \n",
       "std                 1.081436   9084.969807           757.745354   \n",
       "min                 0.000000   1438.300000             0.000000   \n",
       "25%                 2.000000   2602.000000           800.000000   \n",
       "50%                 2.000000   4643.500000          1364.000000   \n",
       "75%                 3.000000  11252.750000          1807.000000   \n",
       "max                 5.000000  34516.000000          2517.000000   \n",
       "\n",
       "       Avg_Open_To_Buy  Total_Amt_Chng_Q4_Q1  Total_Trans_Amt  Total_Trans_Ct  \\\n",
       "count      8500.000000           8500.000000      8500.000000     8500.000000   \n",
       "mean       7470.273400              0.772510      4654.655882       68.672588   \n",
       "std        9087.671862              0.217783      3512.772635       22.919011   \n",
       "min          15.000000              0.256000       816.000000       11.000000   \n",
       "25%        1184.500000              0.643000      2384.750000       54.000000   \n",
       "50%        3469.500000              0.743000      4100.000000       71.000000   \n",
       "75%        9978.250000              0.860000      4781.250000       82.000000   \n",
       "max       34516.000000              3.397000     18484.000000      139.000000   \n",
       "\n",
       "       Total_Ct_Chng_Q4_Q1  Avg_Utilization_Ratio  \n",
       "count          8500.000000            8500.000000  \n",
       "mean              0.742434               0.296412  \n",
       "std               0.228054               0.272568  \n",
       "min               0.028000               0.000000  \n",
       "25%               0.617000               0.055000  \n",
       "50%               0.721000               0.211000  \n",
       "75%               0.833000               0.529250  \n",
       "max               3.714000               0.994000  "
      ]
     },
     "execution_count": 40,
     "metadata": {},
     "output_type": "execute_result"
    }
   ],
   "source": [
    "df12"
   ]
  },
  {
   "cell_type": "markdown",
   "id": "25105742",
   "metadata": {},
   "source": [
    "This is the overall summary for only existing customer. "
   ]
  },
  {
   "cell_type": "code",
   "execution_count": 41,
   "id": "97fe8eae",
   "metadata": {},
   "outputs": [],
   "source": [
    "Q1=df.quantile(0.25,axis=0)"
   ]
  },
  {
   "cell_type": "code",
   "execution_count": 42,
   "id": "cd9723bc",
   "metadata": {},
   "outputs": [],
   "source": [
    "Q3=df.quantile(0.75,axis=0)"
   ]
  },
  {
   "cell_type": "code",
   "execution_count": 43,
   "id": "69d17f4e",
   "metadata": {},
   "outputs": [],
   "source": [
    "IQR=Q3-Q1"
   ]
  },
  {
   "cell_type": "code",
   "execution_count": 44,
   "id": "c7ad3652",
   "metadata": {},
   "outputs": [
    {
     "data": {
      "text/plain": [
       "CLIENTNUM                   6.010676e+07\n",
       "Customer_Age                1.100000e+01\n",
       "Dependent_count             2.000000e+00\n",
       "Months_on_book              9.000000e+00\n",
       "Total_Relationship_Count    2.000000e+00\n",
       "Months_Inactive_12_mon      1.000000e+00\n",
       "Contacts_Count_12_mon       1.000000e+00\n",
       "Credit_Limit                8.512500e+03\n",
       "Total_Revolving_Bal         1.425000e+03\n",
       "Avg_Open_To_Buy             8.534500e+03\n",
       "Total_Amt_Chng_Q4_Q1        2.280000e-01\n",
       "Total_Trans_Amt             2.585500e+03\n",
       "Total_Trans_Ct              3.600000e+01\n",
       "Total_Ct_Chng_Q4_Q1         2.360000e-01\n",
       "Avg_Utilization_Ratio       4.800000e-01\n",
       "dtype: float64"
      ]
     },
     "execution_count": 44,
     "metadata": {},
     "output_type": "execute_result"
    }
   ],
   "source": [
    "IQR"
   ]
  },
  {
   "cell_type": "code",
   "execution_count": 45,
   "id": "d028a6ce",
   "metadata": {},
   "outputs": [],
   "source": [
    "#existing customer\n",
    "Q4=df14.quantile(0.25,axis=0)\n",
    "Q5=df14.quantile(0.75,axis=0)"
   ]
  },
  {
   "cell_type": "code",
   "execution_count": 46,
   "id": "593dbd3d",
   "metadata": {},
   "outputs": [],
   "source": [
    "IQR1=Q5-Q4"
   ]
  },
  {
   "cell_type": "code",
   "execution_count": 47,
   "id": "d8d350c1",
   "metadata": {},
   "outputs": [
    {
     "data": {
      "text/plain": [
       "CLIENTNUM                   6.512188e+07\n",
       "Customer_Age                1.100000e+01\n",
       "Dependent_count             2.000000e+00\n",
       "Months_on_book              9.000000e+00\n",
       "Total_Relationship_Count    2.000000e+00\n",
       "Months_Inactive_12_mon      2.000000e+00\n",
       "Contacts_Count_12_mon       1.000000e+00\n",
       "Credit_Limit                8.650750e+03\n",
       "Total_Revolving_Bal         1.007000e+03\n",
       "Avg_Open_To_Buy             8.793750e+03\n",
       "Total_Amt_Chng_Q4_Q1        2.170000e-01\n",
       "Total_Trans_Amt             2.396500e+03\n",
       "Total_Trans_Ct              2.800000e+01\n",
       "Total_Ct_Chng_Q4_Q1         2.160000e-01\n",
       "Avg_Utilization_Ratio       4.742500e-01\n",
       "dtype: float64"
      ]
     },
     "execution_count": 47,
     "metadata": {},
     "output_type": "execute_result"
    }
   ],
   "source": [
    "IQR1"
   ]
  },
  {
   "cell_type": "code",
   "execution_count": 48,
   "id": "a05f75b3",
   "metadata": {},
   "outputs": [],
   "source": [
    "#attrited customer\n",
    "Q6=df15.quantile(0.25,axis=0)\n",
    "Q7=df15.quantile(0.75,axis=0)"
   ]
  },
  {
   "cell_type": "code",
   "execution_count": 49,
   "id": "a6d824ea",
   "metadata": {},
   "outputs": [],
   "source": [
    "IQR2=Q7-Q6"
   ]
  },
  {
   "cell_type": "code",
   "execution_count": 50,
   "id": "ccfdcc64",
   "metadata": {},
   "outputs": [
    {
     "data": {
      "text/plain": [
       "CLIENTNUM                   5.600242e+07\n",
       "Customer_Age                1.100000e+01\n",
       "Dependent_count             1.000000e+00\n",
       "Months_on_book              8.000000e+00\n",
       "Total_Relationship_Count    3.000000e+00\n",
       "Months_Inactive_12_mon      1.000000e+00\n",
       "Contacts_Count_12_mon       2.000000e+00\n",
       "Credit_Limit                7.819500e+03\n",
       "Total_Revolving_Bal         1.303500e+03\n",
       "Avg_Open_To_Buy             7.670500e+03\n",
       "Total_Amt_Chng_Q4_Q1        3.115000e-01\n",
       "Total_Trans_Amt             8.685000e+02\n",
       "Total_Trans_Ct              1.400000e+01\n",
       "Total_Ct_Chng_Q4_Q1         2.920000e-01\n",
       "Avg_Utilization_Ratio       2.310000e-01\n",
       "dtype: float64"
      ]
     },
     "execution_count": 50,
     "metadata": {},
     "output_type": "execute_result"
    }
   ],
   "source": [
    "IQR2"
   ]
  },
  {
   "cell_type": "code",
   "execution_count": 51,
   "id": "40c527bf",
   "metadata": {},
   "outputs": [
    {
     "data": {
      "text/plain": [
       "CLIENTNUM                   9.119456e+06\n",
       "Customer_Age                0.000000e+00\n",
       "Dependent_count             1.000000e+00\n",
       "Months_on_book              1.000000e+00\n",
       "Total_Relationship_Count   -1.000000e+00\n",
       "Months_Inactive_12_mon      1.000000e+00\n",
       "Contacts_Count_12_mon      -1.000000e+00\n",
       "Credit_Limit                8.312500e+02\n",
       "Total_Revolving_Bal        -2.965000e+02\n",
       "Avg_Open_To_Buy             1.123250e+03\n",
       "Total_Amt_Chng_Q4_Q1       -9.450000e-02\n",
       "Total_Trans_Amt             1.528000e+03\n",
       "Total_Trans_Ct              1.400000e+01\n",
       "Total_Ct_Chng_Q4_Q1        -7.600000e-02\n",
       "Avg_Utilization_Ratio       2.432500e-01\n",
       "dtype: float64"
      ]
     },
     "execution_count": 51,
     "metadata": {},
     "output_type": "execute_result"
    }
   ],
   "source": [
    "(IQR1-IQR2)"
   ]
  },
  {
   "cell_type": "markdown",
   "id": "f0fb64bb",
   "metadata": {},
   "source": [
    "# Based on the findnigs, it is clear that existing cusomter has higher crdit limit, average open to buy, and total tranaction amount than attrited cusotmer with respect to IQR. For existing cusotomer, the IQR of total revolving balacnce is less than the IQR of attrited customer. "
   ]
  },
  {
   "cell_type": "markdown",
   "id": "e7d1ecc0",
   "metadata": {},
   "source": [
    "# Linear Regression"
   ]
  },
  {
   "cell_type": "code",
   "execution_count": 52,
   "id": "bca15274",
   "metadata": {},
   "outputs": [
    {
     "data": {
      "text/html": [
       "<div>\n",
       "<style scoped>\n",
       "    .dataframe tbody tr th:only-of-type {\n",
       "        vertical-align: middle;\n",
       "    }\n",
       "\n",
       "    .dataframe tbody tr th {\n",
       "        vertical-align: top;\n",
       "    }\n",
       "\n",
       "    .dataframe thead th {\n",
       "        text-align: right;\n",
       "    }\n",
       "</style>\n",
       "<table border=\"1\" class=\"dataframe\">\n",
       "  <thead>\n",
       "    <tr style=\"text-align: right;\">\n",
       "      <th></th>\n",
       "      <th>Attrited Customer</th>\n",
       "      <th>CLIENTNUM</th>\n",
       "      <th>Customer_Age</th>\n",
       "      <th>Gender</th>\n",
       "      <th>Dependent_count</th>\n",
       "      <th>Education_Level</th>\n",
       "      <th>Marital_Status</th>\n",
       "      <th>Income_Category</th>\n",
       "      <th>Card_Category</th>\n",
       "      <th>Months_on_book</th>\n",
       "      <th>...</th>\n",
       "      <th>Months_Inactive_12_mon</th>\n",
       "      <th>Contacts_Count_12_mon</th>\n",
       "      <th>Credit_Limit</th>\n",
       "      <th>Total_Revolving_Bal</th>\n",
       "      <th>Avg_Open_To_Buy</th>\n",
       "      <th>Total_Amt_Chng_Q4_Q1</th>\n",
       "      <th>Total_Trans_Amt</th>\n",
       "      <th>Total_Trans_Ct</th>\n",
       "      <th>Total_Ct_Chng_Q4_Q1</th>\n",
       "      <th>Avg_Utilization_Ratio</th>\n",
       "    </tr>\n",
       "  </thead>\n",
       "  <tbody>\n",
       "    <tr>\n",
       "      <th>0</th>\n",
       "      <td>0</td>\n",
       "      <td>768805383</td>\n",
       "      <td>45</td>\n",
       "      <td>M</td>\n",
       "      <td>3</td>\n",
       "      <td>High School</td>\n",
       "      <td>Married</td>\n",
       "      <td>$60K - $80K</td>\n",
       "      <td>Blue</td>\n",
       "      <td>39</td>\n",
       "      <td>...</td>\n",
       "      <td>1</td>\n",
       "      <td>3</td>\n",
       "      <td>12691.0</td>\n",
       "      <td>777</td>\n",
       "      <td>11914.0</td>\n",
       "      <td>1.335</td>\n",
       "      <td>1144</td>\n",
       "      <td>42</td>\n",
       "      <td>1.625</td>\n",
       "      <td>0.061</td>\n",
       "    </tr>\n",
       "    <tr>\n",
       "      <th>1</th>\n",
       "      <td>0</td>\n",
       "      <td>818770008</td>\n",
       "      <td>49</td>\n",
       "      <td>F</td>\n",
       "      <td>5</td>\n",
       "      <td>Graduate</td>\n",
       "      <td>Single</td>\n",
       "      <td>Less than $40K</td>\n",
       "      <td>Blue</td>\n",
       "      <td>44</td>\n",
       "      <td>...</td>\n",
       "      <td>1</td>\n",
       "      <td>2</td>\n",
       "      <td>8256.0</td>\n",
       "      <td>864</td>\n",
       "      <td>7392.0</td>\n",
       "      <td>1.541</td>\n",
       "      <td>1291</td>\n",
       "      <td>33</td>\n",
       "      <td>3.714</td>\n",
       "      <td>0.105</td>\n",
       "    </tr>\n",
       "    <tr>\n",
       "      <th>2</th>\n",
       "      <td>0</td>\n",
       "      <td>713982108</td>\n",
       "      <td>51</td>\n",
       "      <td>M</td>\n",
       "      <td>3</td>\n",
       "      <td>Graduate</td>\n",
       "      <td>Married</td>\n",
       "      <td>$80K - $120K</td>\n",
       "      <td>Blue</td>\n",
       "      <td>36</td>\n",
       "      <td>...</td>\n",
       "      <td>1</td>\n",
       "      <td>0</td>\n",
       "      <td>3418.0</td>\n",
       "      <td>0</td>\n",
       "      <td>3418.0</td>\n",
       "      <td>2.594</td>\n",
       "      <td>1887</td>\n",
       "      <td>20</td>\n",
       "      <td>2.333</td>\n",
       "      <td>0.000</td>\n",
       "    </tr>\n",
       "    <tr>\n",
       "      <th>3</th>\n",
       "      <td>0</td>\n",
       "      <td>769911858</td>\n",
       "      <td>40</td>\n",
       "      <td>F</td>\n",
       "      <td>4</td>\n",
       "      <td>High School</td>\n",
       "      <td>Unknown</td>\n",
       "      <td>Less than $40K</td>\n",
       "      <td>Blue</td>\n",
       "      <td>34</td>\n",
       "      <td>...</td>\n",
       "      <td>4</td>\n",
       "      <td>1</td>\n",
       "      <td>3313.0</td>\n",
       "      <td>2517</td>\n",
       "      <td>796.0</td>\n",
       "      <td>1.405</td>\n",
       "      <td>1171</td>\n",
       "      <td>20</td>\n",
       "      <td>2.333</td>\n",
       "      <td>0.760</td>\n",
       "    </tr>\n",
       "    <tr>\n",
       "      <th>4</th>\n",
       "      <td>0</td>\n",
       "      <td>709106358</td>\n",
       "      <td>40</td>\n",
       "      <td>M</td>\n",
       "      <td>3</td>\n",
       "      <td>Uneducated</td>\n",
       "      <td>Married</td>\n",
       "      <td>$60K - $80K</td>\n",
       "      <td>Blue</td>\n",
       "      <td>21</td>\n",
       "      <td>...</td>\n",
       "      <td>1</td>\n",
       "      <td>0</td>\n",
       "      <td>4716.0</td>\n",
       "      <td>0</td>\n",
       "      <td>4716.0</td>\n",
       "      <td>2.175</td>\n",
       "      <td>816</td>\n",
       "      <td>28</td>\n",
       "      <td>2.500</td>\n",
       "      <td>0.000</td>\n",
       "    </tr>\n",
       "  </tbody>\n",
       "</table>\n",
       "<p>5 rows × 21 columns</p>\n",
       "</div>"
      ],
      "text/plain": [
       "   Attrited Customer  CLIENTNUM  Customer_Age Gender  Dependent_count  \\\n",
       "0                  0  768805383            45      M                3   \n",
       "1                  0  818770008            49      F                5   \n",
       "2                  0  713982108            51      M                3   \n",
       "3                  0  769911858            40      F                4   \n",
       "4                  0  709106358            40      M                3   \n",
       "\n",
       "  Education_Level Marital_Status Income_Category Card_Category  \\\n",
       "0     High School        Married     $60K - $80K          Blue   \n",
       "1        Graduate         Single  Less than $40K          Blue   \n",
       "2        Graduate        Married    $80K - $120K          Blue   \n",
       "3     High School        Unknown  Less than $40K          Blue   \n",
       "4      Uneducated        Married     $60K - $80K          Blue   \n",
       "\n",
       "   Months_on_book  ...  Months_Inactive_12_mon  Contacts_Count_12_mon  \\\n",
       "0              39  ...                       1                      3   \n",
       "1              44  ...                       1                      2   \n",
       "2              36  ...                       1                      0   \n",
       "3              34  ...                       4                      1   \n",
       "4              21  ...                       1                      0   \n",
       "\n",
       "   Credit_Limit  Total_Revolving_Bal  Avg_Open_To_Buy  Total_Amt_Chng_Q4_Q1  \\\n",
       "0       12691.0                  777          11914.0                 1.335   \n",
       "1        8256.0                  864           7392.0                 1.541   \n",
       "2        3418.0                    0           3418.0                 2.594   \n",
       "3        3313.0                 2517            796.0                 1.405   \n",
       "4        4716.0                    0           4716.0                 2.175   \n",
       "\n",
       "   Total_Trans_Amt  Total_Trans_Ct  Total_Ct_Chng_Q4_Q1  Avg_Utilization_Ratio  \n",
       "0             1144              42                1.625                  0.061  \n",
       "1             1291              33                3.714                  0.105  \n",
       "2             1887              20                2.333                  0.000  \n",
       "3             1171              20                2.333                  0.760  \n",
       "4              816              28                2.500                  0.000  \n",
       "\n",
       "[5 rows x 21 columns]"
      ]
     },
     "execution_count": 52,
     "metadata": {},
     "output_type": "execute_result"
    }
   ],
   "source": [
    "df_two.head()"
   ]
  },
  {
   "cell_type": "code",
   "execution_count": 53,
   "id": "19cbabbd",
   "metadata": {},
   "outputs": [
    {
     "data": {
      "text/plain": [
       "Index(['Attrited Customer', 'CLIENTNUM', 'Customer_Age', 'Gender',\n",
       "       'Dependent_count', 'Education_Level', 'Marital_Status',\n",
       "       'Income_Category', 'Card_Category', 'Months_on_book',\n",
       "       'Total_Relationship_Count', 'Months_Inactive_12_mon',\n",
       "       'Contacts_Count_12_mon', 'Credit_Limit', 'Total_Revolving_Bal',\n",
       "       'Avg_Open_To_Buy', 'Total_Amt_Chng_Q4_Q1', 'Total_Trans_Amt',\n",
       "       'Total_Trans_Ct', 'Total_Ct_Chng_Q4_Q1', 'Avg_Utilization_Ratio'],\n",
       "      dtype='object')"
      ]
     },
     "execution_count": 53,
     "metadata": {},
     "output_type": "execute_result"
    }
   ],
   "source": [
    "df_two.columns"
   ]
  },
  {
   "cell_type": "code",
   "execution_count": 54,
   "id": "149c2dfa",
   "metadata": {},
   "outputs": [],
   "source": [
    "Y=df_two['Attrited Customer']\n",
    "ind=['Months_on_book','Total_Relationship_Count', 'Months_Inactive_12_mon',\n",
    "       'Contacts_Count_12_mon', 'Credit_Limit', 'Total_Revolving_Bal',\n",
    "       'Avg_Open_To_Buy', 'Total_Amt_Chng_Q4_Q1', 'Total_Trans_Amt',\n",
    "       'Total_Trans_Ct', 'Total_Ct_Chng_Q4_Q1', 'Avg_Utilization_Ratio']"
   ]
  },
  {
   "cell_type": "code",
   "execution_count": 55,
   "id": "f86b2707",
   "metadata": {},
   "outputs": [],
   "source": [
    "X=df_two[ind]"
   ]
  },
  {
   "cell_type": "code",
   "execution_count": 56,
   "id": "b69a56b5",
   "metadata": {},
   "outputs": [
    {
     "name": "stderr",
     "output_type": "stream",
     "text": [
      "/Users/sina/opt/anaconda3/lib/python3.9/site-packages/statsmodels/tsa/tsatools.py:142: FutureWarning: In a future version of pandas all arguments of concat except for the argument 'objs' will be keyword-only\n",
      "  x = pd.concat(x[::order], 1)\n"
     ]
    }
   ],
   "source": [
    "X=sm.add_constant(X)"
   ]
  },
  {
   "cell_type": "code",
   "execution_count": 57,
   "id": "a2421176",
   "metadata": {},
   "outputs": [],
   "source": [
    "model=sm.OLS(Y,X).fit()"
   ]
  },
  {
   "cell_type": "code",
   "execution_count": 58,
   "id": "ea78d77f",
   "metadata": {},
   "outputs": [
    {
     "data": {
      "text/html": [
       "<table class=\"simpletable\">\n",
       "<caption>OLS Regression Results</caption>\n",
       "<tr>\n",
       "  <th>Dep. Variable:</th>    <td>Attrited Customer</td> <th>  R-squared:         </th> <td>   0.362</td>\n",
       "</tr>\n",
       "<tr>\n",
       "  <th>Model:</th>                   <td>OLS</td>        <th>  Adj. R-squared:    </th> <td>   0.361</td>\n",
       "</tr>\n",
       "<tr>\n",
       "  <th>Method:</th>             <td>Least Squares</td>   <th>  F-statistic:       </th> <td>   522.2</td>\n",
       "</tr>\n",
       "<tr>\n",
       "  <th>Date:</th>             <td>Mon, 28 Mar 2022</td>  <th>  Prob (F-statistic):</th>  <td>  0.00</td> \n",
       "</tr>\n",
       "<tr>\n",
       "  <th>Time:</th>                 <td>12:51:17</td>      <th>  Log-Likelihood:    </th> <td> -1947.3</td>\n",
       "</tr>\n",
       "<tr>\n",
       "  <th>No. Observations:</th>      <td> 10127</td>       <th>  AIC:               </th> <td>   3919.</td>\n",
       "</tr>\n",
       "<tr>\n",
       "  <th>Df Residuals:</th>          <td> 10115</td>       <th>  BIC:               </th> <td>   4005.</td>\n",
       "</tr>\n",
       "<tr>\n",
       "  <th>Df Model:</th>              <td>    11</td>       <th>                     </th>     <td> </td>   \n",
       "</tr>\n",
       "<tr>\n",
       "  <th>Covariance Type:</th>      <td>nonrobust</td>     <th>                     </th>     <td> </td>   \n",
       "</tr>\n",
       "</table>\n",
       "<table class=\"simpletable\">\n",
       "<tr>\n",
       "              <td></td>                <th>coef</th>     <th>std err</th>      <th>t</th>      <th>P>|t|</th>  <th>[0.025</th>    <th>0.975]</th>  \n",
       "</tr>\n",
       "<tr>\n",
       "  <th>const</th>                    <td>    1.0074</td> <td>    0.025</td> <td>   40.698</td> <td> 0.000</td> <td>    0.959</td> <td>    1.056</td>\n",
       "</tr>\n",
       "<tr>\n",
       "  <th>Months_on_book</th>           <td>   -0.0007</td> <td>    0.000</td> <td>   -2.007</td> <td> 0.045</td> <td>   -0.001</td> <td> -1.7e-05</td>\n",
       "</tr>\n",
       "<tr>\n",
       "  <th>Total_Relationship_Count</th> <td>   -0.0436</td> <td>    0.002</td> <td>  -21.625</td> <td> 0.000</td> <td>   -0.048</td> <td>   -0.040</td>\n",
       "</tr>\n",
       "<tr>\n",
       "  <th>Months_Inactive_12_mon</th>   <td>    0.0423</td> <td>    0.003</td> <td>   14.568</td> <td> 0.000</td> <td>    0.037</td> <td>    0.048</td>\n",
       "</tr>\n",
       "<tr>\n",
       "  <th>Contacts_Count_12_mon</th>    <td>    0.0411</td> <td>    0.003</td> <td>   15.317</td> <td> 0.000</td> <td>    0.036</td> <td>    0.046</td>\n",
       "</tr>\n",
       "<tr>\n",
       "  <th>Credit_Limit</th>             <td>-3.346e-05</td> <td> 1.66e-06</td> <td>  -20.154</td> <td> 0.000</td> <td>-3.67e-05</td> <td>-3.02e-05</td>\n",
       "</tr>\n",
       "<tr>\n",
       "  <th>Total_Revolving_Bal</th>      <td>-6.556e-05</td> <td> 3.49e-06</td> <td>  -18.768</td> <td> 0.000</td> <td>-7.24e-05</td> <td>-5.87e-05</td>\n",
       "</tr>\n",
       "<tr>\n",
       "  <th>Avg_Open_To_Buy</th>          <td>  3.21e-05</td> <td> 1.85e-06</td> <td>   17.318</td> <td> 0.000</td> <td> 2.85e-05</td> <td> 3.57e-05</td>\n",
       "</tr>\n",
       "<tr>\n",
       "  <th>Total_Amt_Chng_Q4_Q1</th>     <td>   -0.0652</td> <td>    0.014</td> <td>   -4.499</td> <td> 0.000</td> <td>   -0.094</td> <td>   -0.037</td>\n",
       "</tr>\n",
       "<tr>\n",
       "  <th>Total_Trans_Amt</th>          <td>  3.44e-05</td> <td> 1.55e-06</td> <td>   22.205</td> <td> 0.000</td> <td> 3.14e-05</td> <td> 3.74e-05</td>\n",
       "</tr>\n",
       "<tr>\n",
       "  <th>Total_Trans_Ct</th>           <td>   -0.0096</td> <td>    0.000</td> <td>  -44.524</td> <td> 0.000</td> <td>   -0.010</td> <td>   -0.009</td>\n",
       "</tr>\n",
       "<tr>\n",
       "  <th>Total_Ct_Chng_Q4_Q1</th>      <td>   -0.2942</td> <td>    0.013</td> <td>  -21.860</td> <td> 0.000</td> <td>   -0.321</td> <td>   -0.268</td>\n",
       "</tr>\n",
       "<tr>\n",
       "  <th>Avg_Utilization_Ratio</th>    <td>    0.0057</td> <td>    0.018</td> <td>    0.316</td> <td> 0.752</td> <td>   -0.030</td> <td>    0.041</td>\n",
       "</tr>\n",
       "</table>\n",
       "<table class=\"simpletable\">\n",
       "<tr>\n",
       "  <th>Omnibus:</th>       <td>1240.055</td> <th>  Durbin-Watson:     </th> <td>   1.716</td>\n",
       "</tr>\n",
       "<tr>\n",
       "  <th>Prob(Omnibus):</th>  <td> 0.000</td>  <th>  Jarque-Bera (JB):  </th> <td>1770.247</td>\n",
       "</tr>\n",
       "<tr>\n",
       "  <th>Skew:</th>           <td> 0.941</td>  <th>  Prob(JB):          </th> <td>    0.00</td>\n",
       "</tr>\n",
       "<tr>\n",
       "  <th>Kurtosis:</th>       <td> 3.807</td>  <th>  Cond. No.          </th> <td>1.16e+16</td>\n",
       "</tr>\n",
       "</table><br/><br/>Notes:<br/>[1] Standard Errors assume that the covariance matrix of the errors is correctly specified.<br/>[2] The smallest eigenvalue is 2.3e-20. This might indicate that there are<br/>strong multicollinearity problems or that the design matrix is singular."
      ],
      "text/plain": [
       "<class 'statsmodels.iolib.summary.Summary'>\n",
       "\"\"\"\n",
       "                            OLS Regression Results                            \n",
       "==============================================================================\n",
       "Dep. Variable:      Attrited Customer   R-squared:                       0.362\n",
       "Model:                            OLS   Adj. R-squared:                  0.361\n",
       "Method:                 Least Squares   F-statistic:                     522.2\n",
       "Date:                Mon, 28 Mar 2022   Prob (F-statistic):               0.00\n",
       "Time:                        12:51:17   Log-Likelihood:                -1947.3\n",
       "No. Observations:               10127   AIC:                             3919.\n",
       "Df Residuals:                   10115   BIC:                             4005.\n",
       "Df Model:                          11                                         \n",
       "Covariance Type:            nonrobust                                         \n",
       "============================================================================================\n",
       "                               coef    std err          t      P>|t|      [0.025      0.975]\n",
       "--------------------------------------------------------------------------------------------\n",
       "const                        1.0074      0.025     40.698      0.000       0.959       1.056\n",
       "Months_on_book              -0.0007      0.000     -2.007      0.045      -0.001    -1.7e-05\n",
       "Total_Relationship_Count    -0.0436      0.002    -21.625      0.000      -0.048      -0.040\n",
       "Months_Inactive_12_mon       0.0423      0.003     14.568      0.000       0.037       0.048\n",
       "Contacts_Count_12_mon        0.0411      0.003     15.317      0.000       0.036       0.046\n",
       "Credit_Limit             -3.346e-05   1.66e-06    -20.154      0.000   -3.67e-05   -3.02e-05\n",
       "Total_Revolving_Bal      -6.556e-05   3.49e-06    -18.768      0.000   -7.24e-05   -5.87e-05\n",
       "Avg_Open_To_Buy            3.21e-05   1.85e-06     17.318      0.000    2.85e-05    3.57e-05\n",
       "Total_Amt_Chng_Q4_Q1        -0.0652      0.014     -4.499      0.000      -0.094      -0.037\n",
       "Total_Trans_Amt            3.44e-05   1.55e-06     22.205      0.000    3.14e-05    3.74e-05\n",
       "Total_Trans_Ct              -0.0096      0.000    -44.524      0.000      -0.010      -0.009\n",
       "Total_Ct_Chng_Q4_Q1         -0.2942      0.013    -21.860      0.000      -0.321      -0.268\n",
       "Avg_Utilization_Ratio        0.0057      0.018      0.316      0.752      -0.030       0.041\n",
       "==============================================================================\n",
       "Omnibus:                     1240.055   Durbin-Watson:                   1.716\n",
       "Prob(Omnibus):                  0.000   Jarque-Bera (JB):             1770.247\n",
       "Skew:                           0.941   Prob(JB):                         0.00\n",
       "Kurtosis:                       3.807   Cond. No.                     1.16e+16\n",
       "==============================================================================\n",
       "\n",
       "Notes:\n",
       "[1] Standard Errors assume that the covariance matrix of the errors is correctly specified.\n",
       "[2] The smallest eigenvalue is 2.3e-20. This might indicate that there are\n",
       "strong multicollinearity problems or that the design matrix is singular.\n",
       "\"\"\""
      ]
     },
     "execution_count": 58,
     "metadata": {},
     "output_type": "execute_result"
    }
   ],
   "source": [
    "model.summary()"
   ]
  },
  {
   "cell_type": "markdown",
   "id": "c714a6c6",
   "metadata": {},
   "source": [
    "# Based on findings from the linear regression model, it can be inferred that except avearage utilization ratio, all variables have signfiicant impacts on attrited/existing customer. "
   ]
  },
  {
   "cell_type": "markdown",
   "id": "2e720bc8",
   "metadata": {},
   "source": [
    "# Based on the p-value and correlation coefficient it is notable that attrited customer has less Months on book, Total_Realtionship_count, Credit limit, total revolving balance, total_amt_change_Q4 over Q1, Total_Trans_Ct, Total_Ct_Change_Q4_Q1 than existing customer. on the other hand, attrited customer has higher Months_inactive_12months, contacts_counts_12_months, avg_open to buy, and total_transaction_amount than existing cusomter."
   ]
  },
  {
   "cell_type": "code",
   "execution_count": 59,
   "id": "da285026",
   "metadata": {},
   "outputs": [
    {
     "data": {
      "text/plain": [
       "<AxesSubplot:>"
      ]
     },
     "execution_count": 59,
     "metadata": {},
     "output_type": "execute_result"
    },
    {
     "data": {
      "image/png": "[encoded data removed]",
      "text/plain": [
       "<Figure size 1440x360 with 1 Axes>"
      ]
     },
     "metadata": {},
     "output_type": "display_data"
    }
   ],
   "source": [
    "model.params.sort_values(ascending=False).plot.bar()"
   ]
  },
  {
   "cell_type": "code",
   "execution_count": 60,
   "id": "bffc1810",
   "metadata": {},
   "outputs": [
    {
     "data": {
      "text/plain": [
       "const                       1.007370\n",
       "Months_Inactive_12_mon      0.042271\n",
       "Contacts_Count_12_mon       0.041084\n",
       "Avg_Utilization_Ratio       0.005693\n",
       "Total_Trans_Amt             0.000034\n",
       "Avg_Open_To_Buy             0.000032\n",
       "Credit_Limit               -0.000033\n",
       "Total_Revolving_Bal        -0.000066\n",
       "Months_on_book             -0.000737\n",
       "Total_Trans_Ct             -0.009598\n",
       "Total_Relationship_Count   -0.043580\n",
       "Total_Amt_Chng_Q4_Q1       -0.065218\n",
       "Total_Ct_Chng_Q4_Q1        -0.294189\n",
       "dtype: float64"
      ]
     },
     "execution_count": 60,
     "metadata": {},
     "output_type": "execute_result"
    }
   ],
   "source": [
    "model.params.sort_values(ascending=False)"
   ]
  },
  {
   "cell_type": "markdown",
   "id": "b8fc524e",
   "metadata": {},
   "source": [
    "# The bar graph shows that Montsh_inactive_12_months has the higest positive correlation coefficient for existing/attrited cusomers. On the other hand, total_Ct_Change_Q4_Q1 has the highest negative correlation coefficient for exisitng/attrited cusomters"
   ]
  },
  {
   "cell_type": "code",
   "execution_count": 61,
   "id": "20bc2003",
   "metadata": {},
   "outputs": [
    {
     "data": {
      "image/png": "[encoded data removed]",
      "text/plain": [
       "<Figure size 1440x360 with 1 Axes>"
      ]
     },
     "metadata": {},
     "output_type": "display_data"
    }
   ],
   "source": [
    "ax = model.predict(X).plot(linewidth=3, marker='.')\n",
    "ax.plot(Y, 'mediumseagreen', linewidth=3, marker='*')\n",
    "plt.tight_layout()\n",
    "plt.title(\"Regression Plot vs. Existing/Atrrited customer\")\n",
    "plt.show()"
   ]
  },
  {
   "cell_type": "markdown",
   "id": "702689cf",
   "metadata": {},
   "source": [
    "# Based on the plot, it is literally confirmed that the regression plot predicts well for both attrited and existing cusotomer. Both lines are aligned with each other. "
   ]
  },
  {
   "cell_type": "markdown",
   "id": "9b31ce24",
   "metadata": {},
   "source": [
    "# Box Plot"
   ]
  },
  {
   "cell_type": "code",
   "execution_count": 62,
   "id": "c6efd800",
   "metadata": {},
   "outputs": [
    {
     "data": {
      "text/html": [
       "<div>\n",
       "<style scoped>\n",
       "    .dataframe tbody tr th:only-of-type {\n",
       "        vertical-align: middle;\n",
       "    }\n",
       "\n",
       "    .dataframe tbody tr th {\n",
       "        vertical-align: top;\n",
       "    }\n",
       "\n",
       "    .dataframe thead th {\n",
       "        text-align: right;\n",
       "    }\n",
       "</style>\n",
       "<table border=\"1\" class=\"dataframe\">\n",
       "  <thead>\n",
       "    <tr style=\"text-align: right;\">\n",
       "      <th></th>\n",
       "      <th>CLIENTNUM</th>\n",
       "      <th>Attrition_Flag</th>\n",
       "      <th>Customer_Age</th>\n",
       "      <th>Gender</th>\n",
       "      <th>Dependent_count</th>\n",
       "      <th>Education_Level</th>\n",
       "      <th>Marital_Status</th>\n",
       "      <th>Income_Category</th>\n",
       "      <th>Card_Category</th>\n",
       "      <th>Months_on_book</th>\n",
       "      <th>...</th>\n",
       "      <th>Months_Inactive_12_mon</th>\n",
       "      <th>Contacts_Count_12_mon</th>\n",
       "      <th>Credit_Limit</th>\n",
       "      <th>Total_Revolving_Bal</th>\n",
       "      <th>Avg_Open_To_Buy</th>\n",
       "      <th>Total_Amt_Chng_Q4_Q1</th>\n",
       "      <th>Total_Trans_Amt</th>\n",
       "      <th>Total_Trans_Ct</th>\n",
       "      <th>Total_Ct_Chng_Q4_Q1</th>\n",
       "      <th>Avg_Utilization_Ratio</th>\n",
       "    </tr>\n",
       "  </thead>\n",
       "  <tbody>\n",
       "    <tr>\n",
       "      <th>0</th>\n",
       "      <td>768805383</td>\n",
       "      <td>Existing Customer</td>\n",
       "      <td>45</td>\n",
       "      <td>M</td>\n",
       "      <td>3</td>\n",
       "      <td>High School</td>\n",
       "      <td>Married</td>\n",
       "      <td>$60K - $80K</td>\n",
       "      <td>Blue</td>\n",
       "      <td>39</td>\n",
       "      <td>...</td>\n",
       "      <td>1</td>\n",
       "      <td>3</td>\n",
       "      <td>12691.0</td>\n",
       "      <td>777</td>\n",
       "      <td>11914.0</td>\n",
       "      <td>1.335</td>\n",
       "      <td>1144</td>\n",
       "      <td>42</td>\n",
       "      <td>1.625</td>\n",
       "      <td>0.061</td>\n",
       "    </tr>\n",
       "    <tr>\n",
       "      <th>1</th>\n",
       "      <td>818770008</td>\n",
       "      <td>Existing Customer</td>\n",
       "      <td>49</td>\n",
       "      <td>F</td>\n",
       "      <td>5</td>\n",
       "      <td>Graduate</td>\n",
       "      <td>Single</td>\n",
       "      <td>Less than $40K</td>\n",
       "      <td>Blue</td>\n",
       "      <td>44</td>\n",
       "      <td>...</td>\n",
       "      <td>1</td>\n",
       "      <td>2</td>\n",
       "      <td>8256.0</td>\n",
       "      <td>864</td>\n",
       "      <td>7392.0</td>\n",
       "      <td>1.541</td>\n",
       "      <td>1291</td>\n",
       "      <td>33</td>\n",
       "      <td>3.714</td>\n",
       "      <td>0.105</td>\n",
       "    </tr>\n",
       "    <tr>\n",
       "      <th>2</th>\n",
       "      <td>713982108</td>\n",
       "      <td>Existing Customer</td>\n",
       "      <td>51</td>\n",
       "      <td>M</td>\n",
       "      <td>3</td>\n",
       "      <td>Graduate</td>\n",
       "      <td>Married</td>\n",
       "      <td>$80K - $120K</td>\n",
       "      <td>Blue</td>\n",
       "      <td>36</td>\n",
       "      <td>...</td>\n",
       "      <td>1</td>\n",
       "      <td>0</td>\n",
       "      <td>3418.0</td>\n",
       "      <td>0</td>\n",
       "      <td>3418.0</td>\n",
       "      <td>2.594</td>\n",
       "      <td>1887</td>\n",
       "      <td>20</td>\n",
       "      <td>2.333</td>\n",
       "      <td>0.000</td>\n",
       "    </tr>\n",
       "    <tr>\n",
       "      <th>3</th>\n",
       "      <td>769911858</td>\n",
       "      <td>Existing Customer</td>\n",
       "      <td>40</td>\n",
       "      <td>F</td>\n",
       "      <td>4</td>\n",
       "      <td>High School</td>\n",
       "      <td>Unknown</td>\n",
       "      <td>Less than $40K</td>\n",
       "      <td>Blue</td>\n",
       "      <td>34</td>\n",
       "      <td>...</td>\n",
       "      <td>4</td>\n",
       "      <td>1</td>\n",
       "      <td>3313.0</td>\n",
       "      <td>2517</td>\n",
       "      <td>796.0</td>\n",
       "      <td>1.405</td>\n",
       "      <td>1171</td>\n",
       "      <td>20</td>\n",
       "      <td>2.333</td>\n",
       "      <td>0.760</td>\n",
       "    </tr>\n",
       "    <tr>\n",
       "      <th>4</th>\n",
       "      <td>709106358</td>\n",
       "      <td>Existing Customer</td>\n",
       "      <td>40</td>\n",
       "      <td>M</td>\n",
       "      <td>3</td>\n",
       "      <td>Uneducated</td>\n",
       "      <td>Married</td>\n",
       "      <td>$60K - $80K</td>\n",
       "      <td>Blue</td>\n",
       "      <td>21</td>\n",
       "      <td>...</td>\n",
       "      <td>1</td>\n",
       "      <td>0</td>\n",
       "      <td>4716.0</td>\n",
       "      <td>0</td>\n",
       "      <td>4716.0</td>\n",
       "      <td>2.175</td>\n",
       "      <td>816</td>\n",
       "      <td>28</td>\n",
       "      <td>2.500</td>\n",
       "      <td>0.000</td>\n",
       "    </tr>\n",
       "  </tbody>\n",
       "</table>\n",
       "<p>5 rows × 21 columns</p>\n",
       "</div>"
      ],
      "text/plain": [
       "   CLIENTNUM     Attrition_Flag  Customer_Age Gender  Dependent_count  \\\n",
       "0  768805383  Existing Customer            45      M                3   \n",
       "1  818770008  Existing Customer            49      F                5   \n",
       "2  713982108  Existing Customer            51      M                3   \n",
       "3  769911858  Existing Customer            40      F                4   \n",
       "4  709106358  Existing Customer            40      M                3   \n",
       "\n",
       "  Education_Level Marital_Status Income_Category Card_Category  \\\n",
       "0     High School        Married     $60K - $80K          Blue   \n",
       "1        Graduate         Single  Less than $40K          Blue   \n",
       "2        Graduate        Married    $80K - $120K          Blue   \n",
       "3     High School        Unknown  Less than $40K          Blue   \n",
       "4      Uneducated        Married     $60K - $80K          Blue   \n",
       "\n",
       "   Months_on_book  ...  Months_Inactive_12_mon  Contacts_Count_12_mon  \\\n",
       "0              39  ...                       1                      3   \n",
       "1              44  ...                       1                      2   \n",
       "2              36  ...                       1                      0   \n",
       "3              34  ...                       4                      1   \n",
       "4              21  ...                       1                      0   \n",
       "\n",
       "   Credit_Limit  Total_Revolving_Bal  Avg_Open_To_Buy  Total_Amt_Chng_Q4_Q1  \\\n",
       "0       12691.0                  777          11914.0                 1.335   \n",
       "1        8256.0                  864           7392.0                 1.541   \n",
       "2        3418.0                    0           3418.0                 2.594   \n",
       "3        3313.0                 2517            796.0                 1.405   \n",
       "4        4716.0                    0           4716.0                 2.175   \n",
       "\n",
       "   Total_Trans_Amt  Total_Trans_Ct  Total_Ct_Chng_Q4_Q1  Avg_Utilization_Ratio  \n",
       "0             1144              42                1.625                  0.061  \n",
       "1             1291              33                3.714                  0.105  \n",
       "2             1887              20                2.333                  0.000  \n",
       "3             1171              20                2.333                  0.760  \n",
       "4              816              28                2.500                  0.000  \n",
       "\n",
       "[5 rows x 21 columns]"
      ]
     },
     "execution_count": 62,
     "metadata": {},
     "output_type": "execute_result"
    }
   ],
   "source": [
    "df.head()"
   ]
  },
  {
   "cell_type": "code",
   "execution_count": 63,
   "id": "00dfe902",
   "metadata": {},
   "outputs": [
    {
     "data": {
      "text/plain": [
       "Index(['CLIENTNUM', 'Attrition_Flag', 'Customer_Age', 'Gender',\n",
       "       'Dependent_count', 'Education_Level', 'Marital_Status',\n",
       "       'Income_Category', 'Card_Category', 'Months_on_book',\n",
       "       'Total_Relationship_Count', 'Months_Inactive_12_mon',\n",
       "       'Contacts_Count_12_mon', 'Credit_Limit', 'Total_Revolving_Bal',\n",
       "       'Avg_Open_To_Buy', 'Total_Amt_Chng_Q4_Q1', 'Total_Trans_Amt',\n",
       "       'Total_Trans_Ct', 'Total_Ct_Chng_Q4_Q1', 'Avg_Utilization_Ratio'],\n",
       "      dtype='object')"
      ]
     },
     "execution_count": 63,
     "metadata": {},
     "output_type": "execute_result"
    }
   ],
   "source": [
    "df.columns"
   ]
  },
  {
   "cell_type": "code",
   "execution_count": 64,
   "id": "5a31263e",
   "metadata": {},
   "outputs": [
    {
     "data": {
      "text/plain": [
       "Existing Customer    8500\n",
       "Attrited Customer    1627\n",
       "Name: Attrition_Flag, dtype: int64"
      ]
     },
     "execution_count": 64,
     "metadata": {},
     "output_type": "execute_result"
    }
   ],
   "source": [
    "df['Attrition_Flag'].value_counts()"
   ]
  },
  {
   "cell_type": "code",
   "execution_count": 65,
   "id": "b8affca2",
   "metadata": {},
   "outputs": [],
   "source": [
    "dfe=df['Attrition_Flag']=='Existing Customer'"
   ]
  },
  {
   "cell_type": "code",
   "execution_count": 66,
   "id": "7c75461b",
   "metadata": {},
   "outputs": [],
   "source": [
    "dfee=df[dfe]"
   ]
  },
  {
   "cell_type": "code",
   "execution_count": 67,
   "id": "ddabb4ba",
   "metadata": {},
   "outputs": [
    {
     "data": {
      "image/png": "[encoded data removed]",
      "text/plain": [
       "<Figure size 1800x360 with 1 Axes>"
      ]
     },
     "metadata": {},
     "output_type": "display_data"
    }
   ],
   "source": [
    "fields = ['Dependent_count','Total_Relationship_Count', 'Months_Inactive_12_mon',\n",
    "       'Contacts_Count_12_mon',  'Total_Amt_Chng_Q4_Q1',\n",
    "        'Total_Ct_Chng_Q4_Q1', 'Avg_Utilization_Ratio']\n",
    "ind=['Credit_Limit', 'Total_Revolving_Bal','Avg_Open_To_Buy','Total_Trans_Amt','Total_Trans_Ct']\n",
    "plt.figure(figsize=(25, 5))\n",
    "sns.boxplot(data=dfee[fields])\n",
    "plt.title('Boxplot for all attributes')\n",
    "plt.show()"
   ]
  },
  {
   "cell_type": "code",
   "execution_count": 68,
   "id": "7d614b1b",
   "metadata": {},
   "outputs": [],
   "source": [
    "dfa=df['Attrition_Flag']=='Attrited Customer'\n",
    "dfaa=df[dfa]"
   ]
  },
  {
   "cell_type": "code",
   "execution_count": 69,
   "id": "c778edc2",
   "metadata": {},
   "outputs": [
    {
     "data": {
      "image/png": "[encoded data removed]",
      "text/plain": [
       "<Figure size 1800x360 with 1 Axes>"
      ]
     },
     "metadata": {},
     "output_type": "display_data"
    }
   ],
   "source": [
    "plt.figure(figsize=(25, 5))\n",
    "sns.boxplot(data=dfaa[fields])\n",
    "plt.title('Boxplot for all attributes')\n",
    "plt.show()"
   ]
  },
  {
   "cell_type": "markdown",
   "id": "6c1a50b0",
   "metadata": {},
   "source": [
    "# The box plot shows great differences between existing and attrited customers. The boxplot for contacts-count_12_mon, total_relationship_count, contacts_count_12mon are wider for attrited customer than existing customer. On the other hand, box plots for dependent_count, months_inactive_12_month are wider for existing customer than attrited customer. There are so many outliers for Total_Ct_chng_Q4_Q1 and Months_Inactive_12_mon."
   ]
  },
  {
   "cell_type": "code",
   "execution_count": 70,
   "id": "6f02251b",
   "metadata": {},
   "outputs": [
    {
     "data": {
      "image/png": "[encoded data removed]",
      "text/plain": [
       "<Figure size 1800x360 with 1 Axes>"
      ]
     },
     "metadata": {},
     "output_type": "display_data"
    }
   ],
   "source": [
    "plt.figure(figsize=(25, 5))\n",
    "sns.boxplot(data=dfaa[ind])\n",
    "plt.title('Boxplot for all attributes')\n",
    "plt.show()"
   ]
  },
  {
   "cell_type": "code",
   "execution_count": 71,
   "id": "08e4f99c",
   "metadata": {},
   "outputs": [
    {
     "data": {
      "image/png": "[encoded data removed]",
      "text/plain": [
       "<Figure size 1800x360 with 1 Axes>"
      ]
     },
     "metadata": {},
     "output_type": "display_data"
    }
   ],
   "source": [
    "plt.figure(figsize=(25, 5))\n",
    "sns.boxplot(data=dfee[ind])\n",
    "plt.title('Boxplot for all attributes')\n",
    "plt.show()"
   ]
  },
  {
   "cell_type": "markdown",
   "id": "824a7f01",
   "metadata": {},
   "source": [
    "# For existing customers, Boxplot of total_trans_amt is wider than attrited customers. "
   ]
  },
  {
   "cell_type": "code",
   "execution_count": 72,
   "id": "c048afd0",
   "metadata": {},
   "outputs": [
    {
     "data": {
      "text/plain": [
       "Index(['Attrited Customer', 'CLIENTNUM', 'Customer_Age', 'Gender',\n",
       "       'Dependent_count', 'Education_Level', 'Marital_Status',\n",
       "       'Income_Category', 'Card_Category', 'Months_on_book',\n",
       "       'Total_Relationship_Count', 'Months_Inactive_12_mon',\n",
       "       'Contacts_Count_12_mon', 'Credit_Limit', 'Total_Revolving_Bal',\n",
       "       'Avg_Open_To_Buy', 'Total_Amt_Chng_Q4_Q1', 'Total_Trans_Amt',\n",
       "       'Total_Trans_Ct', 'Total_Ct_Chng_Q4_Q1', 'Avg_Utilization_Ratio'],\n",
       "      dtype='object')"
      ]
     },
     "execution_count": 72,
     "metadata": {},
     "output_type": "execute_result"
    }
   ],
   "source": [
    "df_two.columns"
   ]
  },
  {
   "cell_type": "code",
   "execution_count": 73,
   "id": "08f9a3ce",
   "metadata": {},
   "outputs": [],
   "source": [
    "df_target_1 = df_two[df_two['Attrited Customer'] == 1]\n",
    "df_target_0 = df_two[df_two['Attrited Customer'] == 0]\n",
    "\n"
   ]
  },
  {
   "cell_type": "code",
   "execution_count": 74,
   "id": "bf66ca04",
   "metadata": {},
   "outputs": [],
   "source": [
    "fields_focused = ['Months_on_book',\n",
    "       'Total_Relationship_Count', 'Months_Inactive_12_mon',\n",
    "       'Contacts_Count_12_mon', 'Credit_Limit', 'Total_Revolving_Bal',\n",
    "       'Avg_Open_To_Buy', 'Total_Amt_Chng_Q4_Q1', 'Total_Trans_Amt',\n",
    "       'Total_Trans_Ct', 'Total_Ct_Chng_Q4_Q1', 'Avg_Utilization_Ratio']"
   ]
  },
  {
   "cell_type": "code",
   "execution_count": 75,
   "id": "e5321833",
   "metadata": {},
   "outputs": [
    {
     "name": "stderr",
     "output_type": "stream",
     "text": [
      "/Users/sina/opt/anaconda3/lib/python3.9/site-packages/seaborn/distributions.py:2619: FutureWarning: `distplot` is a deprecated function and will be removed in a future version. Please adapt your code to use either `displot` (a figure-level function with similar flexibility) or `histplot` (an axes-level function for histograms).\n",
      "  warnings.warn(msg, FutureWarning)\n"
     ]
    },
    {
     "data": {
      "image/png": "[encoded data removed]",
      "text/plain": [
       "<Figure size 1080x1080 with 12 Axes>"
      ]
     },
     "metadata": {},
     "output_type": "display_data"
    }
   ],
   "source": [
    "mpl.rcParams['figure.figsize'] = (15,15)\n",
    "fig, axes = plt.subplots(3, 4)\n",
    "axes = axes.flatten()\n",
    "for i, field in enumerate(fields_focused):\n",
    "    sns.distplot(df_target_0[field], kde = False, ax = axes[i])\n",
    "    sns.distplot(df_target_1[field], kde = False, ax = axes[i], color = 'red')"
   ]
  },
  {
   "cell_type": "code",
   "execution_count": 76,
   "id": "3447db08",
   "metadata": {
    "scrolled": true
   },
   "outputs": [
    {
     "data": {
      "image/png": "[encoded data removed]",
      "text/plain": [
       "<Figure size 1080x1080 with 12 Axes>"
      ]
     },
     "metadata": {},
     "output_type": "display_data"
    }
   ],
   "source": [
    "mpl.rcParams['figure.figsize'] = (15,15)\n",
    "fig, axes = plt.subplots(6, 2)\n",
    "axes = axes.flatten()\n",
    "\n",
    "for i, field in enumerate(fields_focused):\n",
    "    sns.boxplot(x = 'Attrited Customer', y = field, data = df_two, ax=axes[i])\n",
    "\n",
    "plt.show()\n",
    "    "
   ]
  },
  {
   "cell_type": "code",
   "execution_count": 77,
   "id": "cc465807",
   "metadata": {},
   "outputs": [],
   "source": [
    "focused =  [ 'Total_Revolving_Bal','Total_Trans_Ct', 'Total_Ct_Chng_Q4_Q1','Contacts_Count_12_mon',\n",
    "            'Avg_Utilization_Ratio','Total_Trans_Amt','Total_Relationship_Count']"
   ]
  },
  {
   "cell_type": "markdown",
   "id": "5aeaae4b",
   "metadata": {},
   "source": [
    "# Now, we took seven variables which are relatively highly correalted with attrited/existing cusomter and conducted a logistic regression below"
   ]
  },
  {
   "cell_type": "code",
   "execution_count": 78,
   "id": "f79d8724",
   "metadata": {},
   "outputs": [
    {
     "data": {
      "text/html": [
       "<div>\n",
       "<style scoped>\n",
       "    .dataframe tbody tr th:only-of-type {\n",
       "        vertical-align: middle;\n",
       "    }\n",
       "\n",
       "    .dataframe tbody tr th {\n",
       "        vertical-align: top;\n",
       "    }\n",
       "\n",
       "    .dataframe thead th {\n",
       "        text-align: right;\n",
       "    }\n",
       "</style>\n",
       "<table border=\"1\" class=\"dataframe\">\n",
       "  <thead>\n",
       "    <tr style=\"text-align: right;\">\n",
       "      <th></th>\n",
       "      <th>Attrited Customer</th>\n",
       "      <th>CLIENTNUM</th>\n",
       "      <th>Customer_Age</th>\n",
       "      <th>Gender</th>\n",
       "      <th>Dependent_count</th>\n",
       "      <th>Education_Level</th>\n",
       "      <th>Marital_Status</th>\n",
       "      <th>Income_Category</th>\n",
       "      <th>Card_Category</th>\n",
       "      <th>Months_on_book</th>\n",
       "      <th>...</th>\n",
       "      <th>Months_Inactive_12_mon</th>\n",
       "      <th>Contacts_Count_12_mon</th>\n",
       "      <th>Credit_Limit</th>\n",
       "      <th>Total_Revolving_Bal</th>\n",
       "      <th>Avg_Open_To_Buy</th>\n",
       "      <th>Total_Amt_Chng_Q4_Q1</th>\n",
       "      <th>Total_Trans_Amt</th>\n",
       "      <th>Total_Trans_Ct</th>\n",
       "      <th>Total_Ct_Chng_Q4_Q1</th>\n",
       "      <th>Avg_Utilization_Ratio</th>\n",
       "    </tr>\n",
       "  </thead>\n",
       "  <tbody>\n",
       "    <tr>\n",
       "      <th>0</th>\n",
       "      <td>0</td>\n",
       "      <td>768805383</td>\n",
       "      <td>45</td>\n",
       "      <td>M</td>\n",
       "      <td>3</td>\n",
       "      <td>High School</td>\n",
       "      <td>Married</td>\n",
       "      <td>$60K - $80K</td>\n",
       "      <td>Blue</td>\n",
       "      <td>39</td>\n",
       "      <td>...</td>\n",
       "      <td>1</td>\n",
       "      <td>3</td>\n",
       "      <td>12691.0</td>\n",
       "      <td>777</td>\n",
       "      <td>11914.0</td>\n",
       "      <td>1.335</td>\n",
       "      <td>1144</td>\n",
       "      <td>42</td>\n",
       "      <td>1.625</td>\n",
       "      <td>0.061</td>\n",
       "    </tr>\n",
       "    <tr>\n",
       "      <th>1</th>\n",
       "      <td>0</td>\n",
       "      <td>818770008</td>\n",
       "      <td>49</td>\n",
       "      <td>F</td>\n",
       "      <td>5</td>\n",
       "      <td>Graduate</td>\n",
       "      <td>Single</td>\n",
       "      <td>Less than $40K</td>\n",
       "      <td>Blue</td>\n",
       "      <td>44</td>\n",
       "      <td>...</td>\n",
       "      <td>1</td>\n",
       "      <td>2</td>\n",
       "      <td>8256.0</td>\n",
       "      <td>864</td>\n",
       "      <td>7392.0</td>\n",
       "      <td>1.541</td>\n",
       "      <td>1291</td>\n",
       "      <td>33</td>\n",
       "      <td>3.714</td>\n",
       "      <td>0.105</td>\n",
       "    </tr>\n",
       "    <tr>\n",
       "      <th>2</th>\n",
       "      <td>0</td>\n",
       "      <td>713982108</td>\n",
       "      <td>51</td>\n",
       "      <td>M</td>\n",
       "      <td>3</td>\n",
       "      <td>Graduate</td>\n",
       "      <td>Married</td>\n",
       "      <td>$80K - $120K</td>\n",
       "      <td>Blue</td>\n",
       "      <td>36</td>\n",
       "      <td>...</td>\n",
       "      <td>1</td>\n",
       "      <td>0</td>\n",
       "      <td>3418.0</td>\n",
       "      <td>0</td>\n",
       "      <td>3418.0</td>\n",
       "      <td>2.594</td>\n",
       "      <td>1887</td>\n",
       "      <td>20</td>\n",
       "      <td>2.333</td>\n",
       "      <td>0.000</td>\n",
       "    </tr>\n",
       "    <tr>\n",
       "      <th>3</th>\n",
       "      <td>0</td>\n",
       "      <td>769911858</td>\n",
       "      <td>40</td>\n",
       "      <td>F</td>\n",
       "      <td>4</td>\n",
       "      <td>High School</td>\n",
       "      <td>Unknown</td>\n",
       "      <td>Less than $40K</td>\n",
       "      <td>Blue</td>\n",
       "      <td>34</td>\n",
       "      <td>...</td>\n",
       "      <td>4</td>\n",
       "      <td>1</td>\n",
       "      <td>3313.0</td>\n",
       "      <td>2517</td>\n",
       "      <td>796.0</td>\n",
       "      <td>1.405</td>\n",
       "      <td>1171</td>\n",
       "      <td>20</td>\n",
       "      <td>2.333</td>\n",
       "      <td>0.760</td>\n",
       "    </tr>\n",
       "    <tr>\n",
       "      <th>4</th>\n",
       "      <td>0</td>\n",
       "      <td>709106358</td>\n",
       "      <td>40</td>\n",
       "      <td>M</td>\n",
       "      <td>3</td>\n",
       "      <td>Uneducated</td>\n",
       "      <td>Married</td>\n",
       "      <td>$60K - $80K</td>\n",
       "      <td>Blue</td>\n",
       "      <td>21</td>\n",
       "      <td>...</td>\n",
       "      <td>1</td>\n",
       "      <td>0</td>\n",
       "      <td>4716.0</td>\n",
       "      <td>0</td>\n",
       "      <td>4716.0</td>\n",
       "      <td>2.175</td>\n",
       "      <td>816</td>\n",
       "      <td>28</td>\n",
       "      <td>2.500</td>\n",
       "      <td>0.000</td>\n",
       "    </tr>\n",
       "  </tbody>\n",
       "</table>\n",
       "<p>5 rows × 21 columns</p>\n",
       "</div>"
      ],
      "text/plain": [
       "   Attrited Customer  CLIENTNUM  Customer_Age Gender  Dependent_count  \\\n",
       "0                  0  768805383            45      M                3   \n",
       "1                  0  818770008            49      F                5   \n",
       "2                  0  713982108            51      M                3   \n",
       "3                  0  769911858            40      F                4   \n",
       "4                  0  709106358            40      M                3   \n",
       "\n",
       "  Education_Level Marital_Status Income_Category Card_Category  \\\n",
       "0     High School        Married     $60K - $80K          Blue   \n",
       "1        Graduate         Single  Less than $40K          Blue   \n",
       "2        Graduate        Married    $80K - $120K          Blue   \n",
       "3     High School        Unknown  Less than $40K          Blue   \n",
       "4      Uneducated        Married     $60K - $80K          Blue   \n",
       "\n",
       "   Months_on_book  ...  Months_Inactive_12_mon  Contacts_Count_12_mon  \\\n",
       "0              39  ...                       1                      3   \n",
       "1              44  ...                       1                      2   \n",
       "2              36  ...                       1                      0   \n",
       "3              34  ...                       4                      1   \n",
       "4              21  ...                       1                      0   \n",
       "\n",
       "   Credit_Limit  Total_Revolving_Bal  Avg_Open_To_Buy  Total_Amt_Chng_Q4_Q1  \\\n",
       "0       12691.0                  777          11914.0                 1.335   \n",
       "1        8256.0                  864           7392.0                 1.541   \n",
       "2        3418.0                    0           3418.0                 2.594   \n",
       "3        3313.0                 2517            796.0                 1.405   \n",
       "4        4716.0                    0           4716.0                 2.175   \n",
       "\n",
       "   Total_Trans_Amt  Total_Trans_Ct  Total_Ct_Chng_Q4_Q1  Avg_Utilization_Ratio  \n",
       "0             1144              42                1.625                  0.061  \n",
       "1             1291              33                3.714                  0.105  \n",
       "2             1887              20                2.333                  0.000  \n",
       "3             1171              20                2.333                  0.760  \n",
       "4              816              28                2.500                  0.000  \n",
       "\n",
       "[5 rows x 21 columns]"
      ]
     },
     "execution_count": 78,
     "metadata": {},
     "output_type": "execute_result"
    }
   ],
   "source": [
    "df_two.head()"
   ]
  },
  {
   "cell_type": "code",
   "execution_count": 79,
   "id": "ad4f0c34",
   "metadata": {},
   "outputs": [],
   "source": [
    "import matplotlib.pyplot as plt\n",
    "%matplotlib inline\n",
    "import matplotlib as mpl\n",
    "import seaborn as sns\n",
    "import pandas as pd\n",
    "import statsmodels.api as sm\n",
    "import numpy as np\n",
    "from sklearn.datasets import load_iris\n",
    "from sklearn.linear_model import LogisticRegression\n",
    "from sklearn.model_selection import train_test_split\n",
    "from sklearn.metrics import classification_report"
   ]
  },
  {
   "cell_type": "code",
   "execution_count": 80,
   "id": "59b5fbf0",
   "metadata": {},
   "outputs": [
    {
     "name": "stdout",
     "output_type": "stream",
     "text": [
      "Accuracy of logistic regression classifier on test set: 0.90\n"
     ]
    },
    {
     "name": "stderr",
     "output_type": "stream",
     "text": [
      "/Users/sina/opt/anaconda3/lib/python3.9/site-packages/sklearn/linear_model/_logistic.py:763: ConvergenceWarning: lbfgs failed to converge (status=1):\n",
      "STOP: TOTAL NO. of ITERATIONS REACHED LIMIT.\n",
      "\n",
      "Increase the number of iterations (max_iter) or scale the data as shown in:\n",
      "    https://scikit-learn.org/stable/modules/preprocessing.html\n",
      "Please also refer to the documentation for alternative solver options:\n",
      "    https://scikit-learn.org/stable/modules/linear_model.html#logistic-regression\n",
      "  n_iter_i = _check_optimize_result(\n"
     ]
    }
   ],
   "source": [
    "\n",
    "X=df_two[focused]\n",
    "y=df_two['Attrited Customer']\n",
    "X_train, X_test, y_train, y_test = train_test_split(X, y, test_size=0.3, random_state=0)\n",
    "logreg = LogisticRegression()\n",
    "logreg.fit(X_train, y_train)\n",
    "\n",
    "\n",
    "y_pred = logreg.predict(X_test)\n",
    "print('Accuracy of logistic regression classifier on test set: {:.2f}'.format\n",
    "      (logreg.score(X_test, y_test)))"
   ]
  },
  {
   "cell_type": "code",
   "execution_count": 82,
   "id": "57a59a5a",
   "metadata": {},
   "outputs": [
    {
     "name": "stdout",
     "output_type": "stream",
     "text": [
      "              precision    recall  f1-score   support\n",
      "\n",
      "           0       0.92      0.97      0.94      2583\n",
      "           1       0.74      0.52      0.61       456\n",
      "\n",
      "    accuracy                           0.90      3039\n",
      "   macro avg       0.83      0.74      0.78      3039\n",
      "weighted avg       0.89      0.90      0.89      3039\n",
      "\n"
     ]
    }
   ],
   "source": [
    "y_true = y_test\n",
    "print(classification_report(y_true, y_pred))"
   ]
  },
  {
   "cell_type": "markdown",
   "id": "72e567fe",
   "metadata": {},
   "source": [
    "# The logistic regression tests demonstrate that the precision or accuracy is 0.74 for the attrited customer. "
   ]
  },
  {
   "cell_type": "markdown",
   "id": "7fa96b49",
   "metadata": {},
   "source": [
    "# Results from R programming related to categorical features"
   ]
  },
  {
   "cell_type": "markdown",
   "id": "af2ff547",
   "metadata": {},
   "source": [
    "# We have conducted R prograaming analysis to measure the relationship among categorical features. "
   ]
  },
  {
   "cell_type": "markdown",
   "id": "f175f65f",
   "metadata": {},
   "source": [
    "# We conducted both linear and logistic regression to understand the effects of categorical features. Results showed that Male customers are more existing than female customers. In addition, doctorate level has higher attrition than college level. "
   ]
  },
  {
   "cell_type": "markdown",
   "id": "df94adef",
   "metadata": {},
   "source": [
    "# Results about the gender from linear and logistic regression analysis\n",
    "# Results from the logistic regression demonstrtaes that male cusotmers have higher existing than female customers. Reults from the linear regression also shows the same result. Male customers are higher in existing than female customers. "
   ]
  },
  {
   "cell_type": "markdown",
   "id": "0fa3645b",
   "metadata": {},
   "source": [
    "# Dependent count Both logistic and linear regression demonstrate that higher dependent count is negatively related to existing cusomter. The increased number of depdent count is positively associated with attrition customer. "
   ]
  },
  {
   "cell_type": "markdown",
   "id": "54a6ae33",
   "metadata": {},
   "source": [
    "# Education level\n"
   ]
  },
  {
   "cell_type": "markdown",
   "id": "3bf17f58",
   "metadata": {},
   "source": [
    "# Logistic regression demonstrates that education level did not have any significant effects on attrition/existing customer. "
   ]
  },
  {
   "cell_type": "markdown",
   "id": "505a1abd",
   "metadata": {},
   "source": [
    "# Marital Status"
   ]
  },
  {
   "cell_type": "markdown",
   "id": "c0e67641",
   "metadata": {},
   "source": [
    "# Compared to Divorced martial staus, married customers have higher esiting than divroced martial status "
   ]
  },
  {
   "cell_type": "markdown",
   "id": "ce04351a",
   "metadata": {},
   "source": [
    "# Income Category"
   ]
  },
  {
   "cell_type": "markdown",
   "id": "f8b18361",
   "metadata": {},
   "source": [
    "# Based on income category, it is notable that income category ranges from 40K-60K, 60K-80K, and less than 40K have higher existing customer than $120k+ income cateogry. "
   ]
  },
  {
   "cell_type": "markdown",
   "id": "242aec8b",
   "metadata": {},
   "source": [
    "# Results about the education level based on the results from Linear Regression"
   ]
  },
  {
   "cell_type": "markdown",
   "id": "be0b132b",
   "metadata": {},
   "source": [
    "# Compared to college level cusotmer, doctorate level customers have high attrtion based on the linear regression result "
   ]
  },
  {
   "cell_type": "markdown",
   "id": "7329042d",
   "metadata": {},
   "source": [
    "# Results about the card category based on the results from Linear and Logistic Regression "
   ]
  },
  {
   "cell_type": "markdown",
   "id": "30a9911e",
   "metadata": {},
   "source": [
    "# Compared to Blue card category, Gold and Silver card category have less existing cusomter "
   ]
  },
  {
   "cell_type": "markdown",
   "id": "d3c5e9d6",
   "metadata": {},
   "source": [
    "# Scatter Plot "
   ]
  },
  {
   "cell_type": "code",
   "execution_count": 83,
   "id": "aeb7f193",
   "metadata": {},
   "outputs": [
    {
     "data": {
      "text/plain": [
       "Index(['Attrited Customer', 'CLIENTNUM', 'Customer_Age', 'Gender',\n",
       "       'Dependent_count', 'Education_Level', 'Marital_Status',\n",
       "       'Income_Category', 'Card_Category', 'Months_on_book',\n",
       "       'Total_Relationship_Count', 'Months_Inactive_12_mon',\n",
       "       'Contacts_Count_12_mon', 'Credit_Limit', 'Total_Revolving_Bal',\n",
       "       'Avg_Open_To_Buy', 'Total_Amt_Chng_Q4_Q1', 'Total_Trans_Amt',\n",
       "       'Total_Trans_Ct', 'Total_Ct_Chng_Q4_Q1', 'Avg_Utilization_Ratio'],\n",
       "      dtype='object')"
      ]
     },
     "execution_count": 83,
     "metadata": {},
     "output_type": "execute_result"
    }
   ],
   "source": [
    "df_two.columns"
   ]
  },
  {
   "cell_type": "code",
   "execution_count": 84,
   "id": "b905bcdb",
   "metadata": {},
   "outputs": [
    {
     "name": "stderr",
     "output_type": "stream",
     "text": [
      "/Users/sina/opt/anaconda3/lib/python3.9/site-packages/seaborn/_decorators.py:36: FutureWarning: Pass the following variables as keyword args: x, y. From version 0.12, the only valid positional argument will be `data`, and passing other arguments without an explicit keyword will result in an error or misinterpretation.\n",
      "  warnings.warn(\n"
     ]
    },
    {
     "data": {
      "image/png": "[encoded data removed]",
      "text/plain": [
       "<Figure size 432x288 with 1 Axes>"
      ]
     },
     "metadata": {
      "needs_background": "light"
     },
     "output_type": "display_data"
    }
   ],
   "source": [
    "from matplotlib import pyplot as plt\n",
    "import seaborn as sns\n",
    "sns.scatterplot(df_two['Attrited Customer'],df_two['Avg_Utilization_Ratio'],hue=df_two['Gender'])\n",
    "sns.set()\n",
    "plt.show()\n",
    "\n"
   ]
  },
  {
   "cell_type": "markdown",
   "id": "7dd62c65",
   "metadata": {},
   "source": [
    "# it is notable that existing customers have higher utilization ratio than attrited customers. "
   ]
  },
  {
   "cell_type": "markdown",
   "id": "dc88a8a6",
   "metadata": {},
   "source": [
    "# Suggestions about all findings "
   ]
  },
  {
   "cell_type": "markdown",
   "id": "df961b09",
   "metadata": {},
   "source": [
    "# We have found lots of findings related to attrition/existing customer. "
   ]
  },
  {
   "cell_type": "markdown",
   "id": "f844d06b",
   "metadata": {},
   "source": [
    "#### This datasets include categorical and numerical variables. A robust modelling is required to showcase among all variables. \n",
    "\n",
    "#### Bank should think more about how they can increase conusmers' credit limit and modify their objectives for total_revolving balance and average utilization ratio. \n",
    "\n",
    "#### It is apparent that  attrited customer has higher contacts_cont_12_mont, months_inactive_last 12 month, depedent count, months on book than existing customer. During the contact, the bank authority could take more initiatives to remain consumers active so that they will not go for attrtion. \n",
    "\n",
    "####  From the barplot, it is noted that Female customers are high in number as both attrited and exhisting customers than Male cusomters. Bank authority should identify the reasons why female consumers are high for attrition. \n",
    "\n",
    "####  The logistic regression tests demonstrate that the precision or accuracy is 0.74 for the attrited customer. This modeling features shows a great fit to predict chrun customers. \n",
    "\n",
    "####  In addition, doctorate level has higher attrition than college level. Extra attention needs to be put towards doctorate level. \n",
    "\n",
    "\n",
    "####  Compared to Divorced martial staus, married customers have higher esiting than divroced martial status. Bankg should target divorced customer to identify reasons for their attritions. \n",
    "\n",
    "#### Based on income category, it is notable that income category ranges from 40K-60K, 60K-80K, and less than 40K have higher existing customer than $120k+ income cateogry. One of the reasons may be the high amount of income. \n",
    "\n"
   ]
  }
 ],
 "metadata": {
  "kernelspec": {
   "display_name": "Python 3 (ipykernel)",
   "language": "python",
   "name": "python3"
  },
  "language_info": {
   "codemirror_mode": {
    "name": "ipython",
    "version": 3
   },
   "file_extension": ".py",
   "mimetype": "text/x-python",
   "name": "python",
   "nbconvert_exporter": "python",
   "pygments_lexer": "ipython3",
   "version": "3.9.7"
  }
 },
 "nbformat": 4,
 "nbformat_minor": 5
}
